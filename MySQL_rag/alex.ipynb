{
 "cells": [
  {
   "cell_type": "code",
   "execution_count": 16,
   "metadata": {},
   "outputs": [],
   "source": [
    "from dotenv import load_dotenv\n",
    "from langchain_core.messages import AIMessage, HumanMessage\n",
    "from langchain_core.prompts import ChatPromptTemplate\n",
    "from langchain_core.runnables import RunnablePassthrough\n",
    "from langchain_community.utilities import SQLDatabase\n",
    "from langchain_core.output_parsers import StrOutputParser\n",
    "from langchain_openai import ChatOpenAI\n",
    "import streamlit as st\n",
    "\n",
    "from langchain_community.utilities import SQLDatabase\n",
    "\n",
    "\n",
    "sqlite_uri = 'sqlite:///./SK.db' \n",
    "db = SQLDatabase.from_uri(sqlite_uri)\n",
    "\n",
    "\n",
    "\n",
    "    "
   ]
  },
  {
   "cell_type": "code",
   "execution_count": 10,
   "metadata": {},
   "outputs": [],
   "source": [
    "def get_sql_chain(db):\n",
    "  template = \"\"\"\n",
    "    You are a HR at a company. You are interacting with a employee who is asking you questions about the employees data.\n",
    "    Based on the table schema below, write a SQL query that would answer the user's question. Take the conversation history into account.\n",
    "    \n",
    "    <SCHEMA>{schema}</SCHEMA>\n",
    "    \n",
    "    Conversation History: {chat_history}\n",
    "    \n",
    "    Write only the SQL query and nothing else. Do not wrap the SQL query in any other text, not even backticks.\n",
    "    \n",
    "    For example:\n",
    "    Question: which 3 artists have the most tracks?\n",
    "    SQL Query: SELECT ArtistId, COUNT(*) as track_count FROM Track GROUP BY ArtistId ORDER BY track_count DESC LIMIT 3;\n",
    "    Question: Name 10 artists\n",
    "    SQL Query: SELECT Name FROM Artist LIMIT 10;\n",
    "    \n",
    "    Your turn:\n",
    "    \n",
    "    Question: {question}\n",
    "    SQL Query:\n",
    "    \"\"\"\n",
    "    \n",
    "  prompt = ChatPromptTemplate.from_template(template)\n",
    "  \n",
    "  llm = ChatOpenAI(model=\"gpt-4-0125-preview\")\n",
    "  \n",
    "  def get_schema(_):\n",
    "    return db.get_table_info()\n",
    "  \n",
    "  return (\n",
    "    RunnablePassthrough.assign(schema=get_schema)\n",
    "    | prompt\n",
    "    | llm\n",
    "    | StrOutputParser()\n",
    "  )"
   ]
  },
  {
   "cell_type": "code",
   "execution_count": 11,
   "metadata": {},
   "outputs": [],
   "source": [
    "def get_response(user_query: str, db: SQLDatabase, chat_history: list):\n",
    "  sql_chain = get_sql_chain(db)\n",
    "  \n",
    "  template = \"\"\"\n",
    "    You are a HR at a company. You are interacting with a employee who is asking you questions about the employees data.\n",
    "    Based on the table schema below, question, sql query, and sql response, write a natural language response.\n",
    "    <SCHEMA>{schema}</SCHEMA>\n",
    "\n",
    "    Conversation History: {chat_history}\n",
    "    SQL Query: <SQL>{query}</SQL>\n",
    "    User question: {question}\n",
    "    SQL Response: {response}\"\"\"\n",
    "  \n",
    "  prompt = ChatPromptTemplate.from_template(template)\n",
    "  \n",
    "  llm = ChatOpenAI(model=\"gpt-4-0125-preview\")\n",
    "  \n",
    "  chain = (\n",
    "    RunnablePassthrough.assign(query=sql_chain).assign(\n",
    "      schema=lambda _: db.get_table_info(),\n",
    "      response=lambda vars: db.run(vars[\"query\"]),\n",
    "    )\n",
    "    | prompt\n",
    "    | llm\n",
    "    | StrOutputParser()\n",
    "  )\n",
    "  \n",
    "  return chain.invoke({\n",
    "    \"question\": user_query,\n",
    "    \"chat_history\": chat_history,\n",
    "  })"
   ]
  },
  {
   "cell_type": "code",
   "execution_count": 15,
   "metadata": {},
   "outputs": [
    {
     "data": {
      "text/plain": [
       "'The first employee listed in our database is Wilson K Adinolfi. Here are the details about him:\\n\\n- **Employee ID:** 10026\\n- **Marital Status:** Single\\n- **Gender:** Male\\n- **Employment Status ID:** 1\\n- **Department ID:** 5\\n- **Performance Score ID:** 4\\n- **From Diversity Job Fair ID:** 0\\n- **Salary:** $62,506\\n- **Termination Status:** Currently Active (Not Terminated)\\n- **Position ID:** 19\\n- **Position:** Production Technician I\\n- **State:** MA\\n- **ZIP Code:** 1960\\n- **Date of Birth:** July 10, 1983\\n- **Citizenship:** US Citizen\\n- **Ethnicity:** Not Hispanic or Latino\\n- **Race:** White\\n- **Date of Hire:** July 5, 2011\\n- **Date of Termination:** Still Employed (No termination date)\\n- **Reason for Termination:** N/A - Still Employed\\n- **Employment Status:** Active\\n- **Department:** Production\\n- **Manager\\'s Name:** Michael Albert\\n- **Manager ID:** 22.0\\n- **Recruitment Source:** LinkedIn\\n- **Performance Score:** Exceeds\\n- **Engagement Survey Score:** 4.6\\n- **Employee Satisfaction:** Level 5\\n- **Special Projects Count:** 0\\n- **Last Performance Review Date:** January 17, 2019\\n- **Days Late in the Last 30 Days:** 0\\n- **Absences:** 1\\n\\nWilson seems to be a highly engaged and satisfied employee with an \"Exceeds\" performance score, indicating his exceptional contributions to the Production department.'"
      ]
     },
     "execution_count": 15,
     "metadata": {},
     "output_type": "execute_result"
    }
   ],
   "source": [
    "get_response(\"give me all the data of the first employee\",db=db,chat_history=[])"
   ]
  },
  {
   "cell_type": "code",
   "execution_count": null,
   "metadata": {},
   "outputs": [],
   "source": []
  }
 ],
 "metadata": {
  "kernelspec": {
   "display_name": "mysql",
   "language": "python",
   "name": "python3"
  },
  "language_info": {
   "codemirror_mode": {
    "name": "ipython",
    "version": 3
   },
   "file_extension": ".py",
   "mimetype": "text/x-python",
   "name": "python",
   "nbconvert_exporter": "python",
   "pygments_lexer": "ipython3",
   "version": "3.11.8"
  }
 },
 "nbformat": 4,
 "nbformat_minor": 2
}
