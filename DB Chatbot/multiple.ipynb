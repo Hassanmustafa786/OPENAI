{
 "cells": [
  {
   "cell_type": "code",
   "execution_count": 4,
   "metadata": {},
   "outputs": [
    {
     "name": "stdout",
     "output_type": "stream",
     "text": [
      "Current date: 2024-05-06\n"
     ]
    }
   ],
   "source": [
    "import time\n",
    "from datetime import datetime\n",
    "\n",
    "current_time = time.time()\n",
    "current_date = datetime.utcfromtimestamp(current_time).strftime('%Y-%m-%d')\n",
    "\n",
    "print(\"Current date:\", current_date)"
   ]
  },
  {
   "cell_type": "code",
   "execution_count": 5,
   "metadata": {},
   "outputs": [],
   "source": [
    "import os\n",
    "from dotenv import load_dotenv\n",
    "from langchain_openai import ChatOpenAI\n",
    "from operator import itemgetter\n",
    "from langchain.memory import ConversationBufferMemory\n",
    "from langchain.prompts import ChatPromptTemplate, MessagesPlaceholder\n",
    "from langchain_core.runnables import RunnableLambda, RunnablePassthrough\n",
    "\n",
    "openai_api_key = os.getenv(\"OPENAI_API_KEY\")\n",
    "chat = ChatOpenAI(\n",
    "    temperature=0.2,\n",
    "    model_name=\"gpt-3.5-turbo\",\n",
    "    openai_api_key=openai_api_key,\n",
    "    max_tokens=100,\n",
    ")\n",
    "\n",
    "user = \"Mike\"\n",
    "\n",
    "# Create a single memory instance for the entire conversation\n",
    "memory = ConversationBufferMemory(return_messages=True)\n",
    "\n",
    "def yes_no_response(input_message, model, memory):\n",
    "    prompt = ChatPromptTemplate.from_messages([\n",
    "        (\"system\", f\"\"\" Your task is to identify if the {user} asking for a documents/applications/forms for annual leave, casual leave, sick leave, self assesment, time off after analyzing the whole conversation.\n",
    "                        You have to understand the context of the conversation and then generate the response in these forms annual leave, casual leave, sick leave, self assesment, time off, mobile claim, petrol claim.\n",
    "                        Your response should be either \"annual leave\", \"casual leave\", \"sick leave\", \"self assesment\", \"time off\", \"mobile claim\", \"petrol claim\" on every query you will get.\n",
    "                        Stick to this professional tone and provide simple, two-word answers.\n",
    "\n",
    "                        Here are the examples I want you to strictly follow:\n",
    "\n",
    "                        Conversation Example 1:\n",
    "                        User: Hi.\n",
    "                        Your response: false\n",
    "\n",
    "                        User: I want a leave\n",
    "                        Your response: false\n",
    "         \n",
    "                        User: 15 July to 19 July\n",
    "                        Your response: false\n",
    "         \n",
    "                        User: How can I apply for it?\n",
    "                        Your response: false\n",
    "         \n",
    "                        User: How can I apply for it?\n",
    "                        Your response: false\n",
    "         \n",
    "                        User: Do you have a template for sick leave?\n",
    "                        Your response: sick leave\n",
    "\n",
    "                        ------------------------------------------\n",
    "\n",
    "                        Conversation Example 2:\n",
    "                        User: Hi there\n",
    "                        Your response: false\n",
    "\n",
    "                        User: Do you have leave data available?\n",
    "                        Your response: false\n",
    "         \n",
    "                        User: Am I eligible for a leave?\n",
    "                        Your response: false\n",
    "         \n",
    "                        User: I need a leave in august from 5 to 9.\n",
    "                        Your response: false\n",
    "         \n",
    "                        User: Can you guide me through the leave process?\n",
    "                        Your response: false\n",
    "         \n",
    "                        User: I want a proposal/document to apply for a casual leave.\n",
    "                        Your response: casual leave\n",
    "\n",
    "                        ------------------------------------------\n",
    "\n",
    "                        Conversation Example 3:\n",
    "                        User: Hello, I'm John.\n",
    "                        Your response: false\n",
    "\n",
    "                        User: I want to go on a vacation.\n",
    "                        Your response: false\n",
    "         \n",
    "                        User: 18 sept - 27 sept\n",
    "                        Your response: false\n",
    "         \n",
    "                        User: Can you tell me that these dates are available?\n",
    "                        Your response: false\n",
    "         \n",
    "                        User: What are the steps to apply for annual leave.\n",
    "                        Your response: false\n",
    "         \n",
    "                        User: I want to apply for it.\n",
    "                        Your response: false\n",
    "         \n",
    "                        User: write me an application.\n",
    "                        Your response: annual leave\n",
    "\n",
    "                        ------------------------------------------\n",
    "\n",
    "                        Conversation Example 4:\n",
    "                        User: Hello!\n",
    "                        Your response: false\n",
    "         \n",
    "                        User: Can you check my leave entitlement?\n",
    "                        Your response: false\n",
    "         \n",
    "                        User: Can I plan a trip in August?\n",
    "                        Your response: false\n",
    "         \n",
    "                        User: Can you assist with the casual leave request process?\n",
    "            `           Your response: false\n",
    "         \n",
    "                        User: Can you draft a leave application email for me?\n",
    "                        Your response: casual leave\n",
    "         \n",
    "                        ------------------------------------------\n",
    "         \n",
    "                        Conversation Example 5:\n",
    "                        User: Hi!\n",
    "                        Your response: false\n",
    "\n",
    "                        User: Do I have any leave days left?\n",
    "                        Your response: false\n",
    "\n",
    "                        User: Can I take time off in August?\n",
    "                        Your response: false\n",
    "\n",
    "                        User: Can you help me write an email to request time off form?\n",
    "                        Your response: time off form\n",
    "         \n",
    "                        ------------------------------------------\n",
    "         \n",
    "                        Conversation Example 6:\n",
    "                        User: Who are you?\n",
    "                        Your response: false\n",
    "\n",
    "                        User: Do I have any leave days left?\n",
    "                        Your response: false\n",
    "\n",
    "                        User: Can I take time off in August?\n",
    "                        Your response: false\n",
    "\n",
    "                        User: Step by step procedure for to apply for a leave.\n",
    "                        Your response: false\n",
    "         \n",
    "                        User: Do you have a form for a leave.\n",
    "                        Your response: time off form\n",
    "                        ------------------------------------------\n",
    "         \n",
    "                        User: Hi, I'm Sarah.\n",
    "                        Your response: false\n",
    "\n",
    "                        User: I wanted to discuss my performance appraisal.\n",
    "                        Your response: false\n",
    "\n",
    "                        User: Can you tell me how I can evaluate my performance?\n",
    "                        Your response: false\n",
    "\n",
    "                        User: I heard about a self-assessment form. Can you guide me on how to fill it out?\n",
    "                        Your response: self assessment form\n",
    "                        \n",
    "                        ------------------------------------------\n",
    "\n",
    "                        User: Hi, I'm Mark.\n",
    "                        Your response: false\n",
    "\n",
    "                        User: I need to claim petrol expenses for the job.\n",
    "                        Your response: false\n",
    "\n",
    "                        User: Could you please provide me with the petrol claim form?\n",
    "                        Your response: petrol claim form\n",
    "         \n",
    "                        ------------------------------------------\n",
    "\n",
    "                        User: Hi, I'm Emily.\n",
    "                        Your response: false\n",
    "\n",
    "                        User: I need to claim mobile expenses for the job.\n",
    "                        Your response: false\n",
    "\n",
    "                        User: Do you have a document in which I can fill the information and submit it to HR?\n",
    "                        Your response: mobile claim form\n",
    "\n",
    "                        ------------------------------------------\n",
    "\n",
    "                        User: Hi, I'm Emily.\n",
    "                        Your response: false\n",
    "\n",
    "                        User: I need to claim medical expenses for the job.\n",
    "                        Your response: false\n",
    "\n",
    "                        User: Do you have a document in which I can fill the information and submit it to HR?\n",
    "                        Your response: insurance claim form\n",
    "\n",
    "                        You are strictly not allowed to say anything rather than these \"annual leave\", \"casual leave\", \"sick leave\", \"self assesment\", \"time off\", \"mobile claim\", \"petrol claim\".\n",
    "                        \"\"\"),\n",
    "        MessagesPlaceholder(variable_name=\"history\"),\n",
    "        (\"human\", f\"{input_message}\"),\n",
    "    ])\n",
    "\n",
    "    chain = (\n",
    "        RunnablePassthrough.assign(\n",
    "            history=RunnableLambda(memory.load_memory_variables) | itemgetter(\"history\")\n",
    "        )\n",
    "        | prompt\n",
    "        | model\n",
    "    )\n",
    "\n",
    "    inputs = {\"input\": input_message}\n",
    "    response = chain.invoke(inputs)\n",
    "\n",
    "    # Save the context for future interactions\n",
    "    memory.save_context(inputs, {\"output\": response.content})\n",
    "    memory.load_memory_variables({})\n",
    "\n",
    "    return response.content"
   ]
  },
  {
   "cell_type": "code",
   "execution_count": 6,
   "metadata": {},
   "outputs": [
    {
     "name": "stdout",
     "output_type": "stream",
     "text": [
      "false\n"
     ]
    }
   ],
   "source": [
    "human_messages = \"Hi\"\n",
    "print(yes_no_response(human_messages, chat, memory))"
   ]
  },
  {
   "cell_type": "code",
   "execution_count": 7,
   "metadata": {},
   "outputs": [
    {
     "name": "stdout",
     "output_type": "stream",
     "text": [
      "false\n"
     ]
    }
   ],
   "source": [
    "human_messages = \"Who are you?\"\n",
    "print(yes_no_response(human_messages, chat, memory))"
   ]
  },
  {
   "cell_type": "code",
   "execution_count": 8,
   "metadata": {},
   "outputs": [
    {
     "name": "stdout",
     "output_type": "stream",
     "text": [
      "false\n"
     ]
    }
   ],
   "source": [
    "human_messages = \"Do you have any data related to leave?\"\n",
    "print(yes_no_response(human_messages, chat, memory))"
   ]
  },
  {
   "cell_type": "code",
   "execution_count": 9,
   "metadata": {},
   "outputs": [
    {
     "name": "stdout",
     "output_type": "stream",
     "text": [
      "false\n"
     ]
    }
   ],
   "source": [
    "human_messages = \"How do I evaluate the performance?\"\n",
    "print(yes_no_response(human_messages, chat, memory))"
   ]
  },
  {
   "cell_type": "code",
   "execution_count": 10,
   "metadata": {},
   "outputs": [
    {
     "name": "stdout",
     "output_type": "stream",
     "text": [
      "self assessment\n"
     ]
    }
   ],
   "source": [
    "human_messages = \"Do you have any document?\"\n",
    "print(yes_no_response(human_messages, chat, memory))"
   ]
  },
  {
   "cell_type": "code",
   "execution_count": null,
   "metadata": {},
   "outputs": [],
   "source": []
  }
 ],
 "metadata": {
  "kernelspec": {
   "display_name": ".venv",
   "language": "python",
   "name": "python3"
  },
  "language_info": {
   "codemirror_mode": {
    "name": "ipython",
    "version": 3
   },
   "file_extension": ".py",
   "mimetype": "text/x-python",
   "name": "python",
   "nbconvert_exporter": "python",
   "pygments_lexer": "ipython3",
   "version": "3.10.0"
  }
 },
 "nbformat": 4,
 "nbformat_minor": 2
}
