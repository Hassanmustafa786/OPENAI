{
 "cells": [
  {
   "cell_type": "code",
   "execution_count": 1,
   "metadata": {},
   "outputs": [
    {
     "data": {
      "text/plain": [
       "True"
      ]
     },
     "execution_count": 1,
     "metadata": {},
     "output_type": "execute_result"
    }
   ],
   "source": [
    "from dotenv import load_dotenv\n",
    "load_dotenv()"
   ]
  },
  {
   "cell_type": "code",
   "execution_count": 4,
   "metadata": {},
   "outputs": [],
   "source": [
    "from langchain_community.utilities import SQLDatabase\n",
    "\n",
    "sqlite_uri = 'sqlite:///Excel and databases/sameer.db'\n",
    "db = SQLDatabase.from_uri(sqlite_uri)"
   ]
  },
  {
   "cell_type": "code",
   "execution_count": 5,
   "metadata": {},
   "outputs": [
    {
     "name": "stdout",
     "output_type": "stream",
     "text": [
      "sqlite\n",
      "['UpdatedMergedEmployeeInsurance']\n",
      "\n",
      "CREATE TABLE \"UpdatedMergedEmployeeInsurance\" (\n",
      "\t\"Employee_Name\" TEXT, \n",
      "\t\"EmpID\" TEXT, \n",
      "\t\"MarriedID\" TEXT, \n",
      "\t\"MaritalStatusID\" TEXT, \n",
      "\t\"GenderID\" TEXT, \n",
      "\t\"EmpStatusID\" TEXT, \n",
      "\t\"DeptID\" TEXT, \n",
      "\t\"PerfScoreID\" TEXT, \n",
      "\t\"FromDiversityJobFairID\" TEXT, \n",
      "\t\"Salary\" REAL, \n",
      "\t\"Termd\" TEXT, \n",
      "\t\"PositionID\" TEXT, \n",
      "\t\"Position\" TEXT, \n",
      "\t\"State\" TEXT, \n",
      "\t\"Zip\" TEXT, \n",
      "\t\"DOB\" TEXT, \n",
      "\t\"Sex\" TEXT, \n",
      "\t\"MaritalDesc\" TEXT, \n",
      "\t\"CitizenDesc\" TEXT, \n",
      "\t\"HispanicLatino\" TEXT, \n",
      "\t\"RaceDesc\" TEXT, \n",
      "\t\"DateofHire\" TEXT, \n",
      "\t\"DateofTermination\" TEXT, \n",
      "\t\"TermReason\" TEXT, \n",
      "\t\"EmploymentStatus\" TEXT, \n",
      "\t\"Department\" TEXT, \n",
      "\t\"ManagerName\" TEXT, \n",
      "\t\"ManagerID\" TEXT, \n",
      "\t\"RecruitmentSource\" TEXT, \n",
      "\t\"PerformanceScore\" TEXT, \n",
      "\t\"EngagementSurvey\" REAL, \n",
      "\t\"EmpSatisfaction\" INTEGER, \n",
      "\t\"SpecialProjectsCount\" INTEGER, \n",
      "\t\"LastPerformanceReview_Date\" TEXT, \n",
      "\t\"DaysLateLast30\" INTEGER, \n",
      "\t\"Absences\" INTEGER, \n",
      "\t\"AnnualLeave\" TEXT, \n",
      "\t\"SickLeave\" TEXT, \n",
      "\t\"CasualLeave\" TEXT, \n",
      "\t\"Insurance Plan Type\" TEXT, \n",
      "\t\"Premium\" INTEGER, \n",
      "\t\"Deductible\" INTEGER, \n",
      "\t\"Coverage Amount\" INTEGER\n",
      ")\n",
      "\n",
      "/*\n",
      "3 rows from UpdatedMergedEmployeeInsurance table:\n",
      "Employee_Name\tEmpID\tMarriedID\tMaritalStatusID\tGenderID\tEmpStatusID\tDeptID\tPerfScoreID\tFromDiversityJobFairID\tSalary\tTermd\tPositionID\tPosition\tState\tZip\tDOB\tSex\tMaritalDesc\tCitizenDesc\tHispanicLatino\tRaceDesc\tDateofHire\tDateofTermination\tTermReason\tEmploymentStatus\tDepartment\tManagerName\tManagerID\tRecruitmentSource\tPerformanceScore\tEngagementSurvey\tEmpSatisfaction\tSpecialProjectsCount\tLastPerformanceReview_Date\tDaysLateLast30\tAbsences\tAnnualLeave\tSickLeave\tCasualLeave\tInsurance Plan Type\tPremium\tDeductible\tCoverage Amount\n",
      "Sameer Khanzada\tEMP19259\t1\t2\tM\t3\t2\t4\t1\t41898.29612007992\t0\t1\tProject Manager\tTX\t73301\t1983-09-22\tM\tMarried\tPermanent Resident\tNo\tAsian\t2024-04-24\t\tN/A\tActive\tProduct Development\tJane Smith\tMAN5347\tIndeed\tOutstanding\t1.29\t2\t2\t2024-04-24\t0\t9\t5\t3\t3\tType B\t1388\t328\t15339\n",
      "*/\n"
     ]
    }
   ],
   "source": [
    "print(db.dialect)\n",
    "print(db.get_usable_table_names())\n",
    "print(db.table_info)"
   ]
  },
  {
   "cell_type": "code",
   "execution_count": 29,
   "metadata": {},
   "outputs": [
    {
     "ename": "TypeError",
     "evalue": "create_sql_query_chain() got an unexpected keyword argument 'verbose'",
     "output_type": "error",
     "traceback": [
      "\u001b[1;31m---------------------------------------------------------------------------\u001b[0m",
      "\u001b[1;31mTypeError\u001b[0m                                 Traceback (most recent call last)",
      "Cell \u001b[1;32mIn[29], line 5\u001b[0m\n\u001b[0;32m      2\u001b[0m \u001b[38;5;28;01mfrom\u001b[39;00m \u001b[38;5;21;01mlangchain_openai\u001b[39;00m \u001b[38;5;28;01mimport\u001b[39;00m ChatOpenAI\n\u001b[0;32m      4\u001b[0m llm \u001b[38;5;241m=\u001b[39m ChatOpenAI(model\u001b[38;5;241m=\u001b[39m\u001b[38;5;124m\"\u001b[39m\u001b[38;5;124mgpt-3.5-turbo\u001b[39m\u001b[38;5;124m\"\u001b[39m, temperature\u001b[38;5;241m=\u001b[39m\u001b[38;5;241m0\u001b[39m)\n\u001b[1;32m----> 5\u001b[0m generate_query \u001b[38;5;241m=\u001b[39m \u001b[43mcreate_sql_query_chain\u001b[49m\u001b[43m(\u001b[49m\u001b[43mllm\u001b[49m\u001b[43m,\u001b[49m\u001b[43m \u001b[49m\u001b[43mdb\u001b[49m\u001b[43m,\u001b[49m\u001b[43m \u001b[49m\u001b[43mverbose\u001b[49m\u001b[38;5;241;43m=\u001b[39;49m\u001b[38;5;28;43;01mTrue\u001b[39;49;00m\u001b[43m)\u001b[49m\n\u001b[0;32m      6\u001b[0m query \u001b[38;5;241m=\u001b[39m generate_query\u001b[38;5;241m.\u001b[39minvoke({\u001b[38;5;124m\"\u001b[39m\u001b[38;5;124mquestion\u001b[39m\u001b[38;5;124m\"\u001b[39m: \u001b[38;5;124m\"\u001b[39m\u001b[38;5;124mwho is sameer\u001b[39m\u001b[38;5;124m\"\u001b[39m})\n\u001b[0;32m      7\u001b[0m \u001b[38;5;66;03m# \"what is price of `1968 Ford Mustang`\"\u001b[39;00m\n",
      "\u001b[1;31mTypeError\u001b[0m: create_sql_query_chain() got an unexpected keyword argument 'verbose'"
     ]
    }
   ],
   "source": [
    "from langchain.chains import create_sql_query_chain\n",
    "from langchain_openai import ChatOpenAI\n",
    "\n",
    "llm = ChatOpenAI(model=\"gpt-3.5-turbo\", temperature=0)\n",
    "generate_query = create_sql_query_chain(llm, db)\n",
    "query = generate_query.invoke({\"question\": \"who is sameer\"})\n",
    "# \"what is price of `1968 Ford Mustang`\"\n",
    "print(query)"
   ]
  },
  {
   "cell_type": "code",
   "execution_count": 19,
   "metadata": {},
   "outputs": [
    {
     "name": "stdout",
     "output_type": "stream",
     "text": [
      "Error: (sqlite3.OperationalError) near \"[('M',)]\": syntax error\n",
      "[SQL: [('M',)]]\n",
      "(Background on this error at: https://sqlalche.me/e/20/e3q8)\n"
     ]
    }
   ],
   "source": [
    "from langchain_community.tools.sql_database.tool import QuerySQLDataBaseTool\n",
    "execute_query = QuerySQLDataBaseTool(db=db)\n",
    "print(execute_query.invoke(query))"
   ]
  },
  {
   "cell_type": "code",
   "execution_count": 20,
   "metadata": {},
   "outputs": [
    {
     "data": {
      "text/plain": [
       "'[(9,)]'"
      ]
     },
     "execution_count": 20,
     "metadata": {},
     "output_type": "execute_result"
    }
   ],
   "source": [
    "chain = generate_query | execute_query\n",
    "chain.invoke({\"question\": \"How many absences does sameer has?\"})"
   ]
  },
  {
   "cell_type": "code",
   "execution_count": 21,
   "metadata": {},
   "outputs": [
    {
     "data": {
      "text/plain": [
       "'Yes, Sameer Khanzada is an employee.'"
      ]
     },
     "execution_count": 21,
     "metadata": {},
     "output_type": "execute_result"
    }
   ],
   "source": [
    "from operator import itemgetter\n",
    "from langchain_core.output_parsers import StrOutputParser\n",
    "from langchain_core.prompts import PromptTemplate\n",
    "from langchain_core.runnables import RunnablePassthrough\n",
    "\n",
    "answer_prompt = PromptTemplate.from_template(\n",
    "    \"\"\"Given the following user question, corresponding SQL query, and SQL result, answer the user question.\n",
    "\n",
    "Question: {question}\n",
    "SQL Query: {query}\n",
    "SQL Result: {result}\n",
    "Answer: \"\"\"\n",
    ")\n",
    "\n",
    "rephrase_answer = answer_prompt | llm | StrOutputParser()\n",
    "\n",
    "chain = (\n",
    "    RunnablePassthrough.assign(query=generate_query).assign(\n",
    "        result=itemgetter(\"query\") | execute_query\n",
    "    )\n",
    "    | rephrase_answer\n",
    ")\n",
    "\n",
    "chain.invoke({\"question\": \"Sameer is an employee or not?\"})\n",
    "     "
   ]
  },
  {
   "cell_type": "code",
   "execution_count": 19,
   "metadata": {},
   "outputs": [
    {
     "data": {
      "text/plain": [
       "\"I'm sorry, I cannot execute SQL queries. How can I assist you with information about Sameer?\""
      ]
     },
     "execution_count": 19,
     "metadata": {},
     "output_type": "execute_result"
    }
   ],
   "source": [
    "# from langchain_core.prompts import ChatPromptTemplate, MessagesPlaceholder,FewShotChatMessagePromptTemplate,PromptTemplate\n",
    "# from langchain.memory import ConversationBufferMemory\n",
    "# from langchain_core.runnables import RunnableLambda, RunnablePassthrough\n",
    "\n",
    "\n",
    "# memory = ConversationBufferMemory(return_messages=True)\n",
    "\n",
    "# def get_response(input, query, llm, memory):\n",
    "#     prompt = ChatPromptTemplate.from_messages(\n",
    "#         [\n",
    "#             (\"human\", f\"{input}\\nSQLQuery:\"),\n",
    "#             MessagesPlaceholder(variable_name=\"history\"),\n",
    "#             (\"ai\", f\"{query}\"),\n",
    "#         ]\n",
    "#     )\n",
    "#     chain = (\n",
    "#             RunnablePassthrough.assign(\n",
    "#                 history=RunnableLambda(memory.load_memory_variables) | itemgetter(\"history\")\n",
    "#             )\n",
    "#             | prompt\n",
    "#             | llm\n",
    "#         )\n",
    "#     inputs = {\"input\": input}\n",
    "#     response = chain.invoke(inputs)\n",
    "\n",
    "#     # Save the context for future interactions\n",
    "#     memory.save_context(inputs, {\"output\": response.content})\n",
    "#     memory.load_memory_variables({})\n",
    "\n",
    "#     return response.content\n",
    "\n",
    "# input_message = \"Who is sameer?\"\n",
    "# query = \"SELECT * FROM customers WHERE country = 'France' AND creditLimit > 20000;\"\n",
    "# get_response(input_message, query, llm, memory)"
   ]
  },
  {
   "cell_type": "code",
   "execution_count": 23,
   "metadata": {},
   "outputs": [],
   "source": [
    "examples = [\n",
    "    {\n",
    "        \"input\": \"List all customers in France with a credit limit over 20,000.\",\n",
    "        \"query\": \"SELECT * FROM customers WHERE country = 'France' AND creditLimit > 20000;\"\n",
    "    },\n",
    "    {\n",
    "        \"input\": \"Get the highest payment amount made by any customer.\",\n",
    "        \"query\": \"SELECT MAX(amount) FROM payments;\"\n",
    "    },\n",
    "    {\n",
    "        \"input\": \"Show product details for products in the 'Motorcycles' product line.\",\n",
    "        \"query\": \"SELECT * FROM products WHERE productLine = 'Motorcycles';\"\n",
    "    },\n",
    "    {\n",
    "        \"input\": \"Retrieve the names of employees who report to employee number 1002.\",\n",
    "        \"query\": \"SELECT firstName, lastName FROM employees WHERE reportsTo = 1002;\"\n",
    "    },\n",
    "    {\n",
    "        \"input\": \"List all products with a stock quantity less than 7000.\",\n",
    "        \"query\": \"SELECT productName, quantityInStock FROM products WHERE quantityInStock < 7000;\"\n",
    "    },\n",
    "    {\n",
    "     'input':\"what is price of `1968 Ford Mustang`\",\n",
    "     \"query\": \"SELECT `buyPrice`, `MSRP` FROM products  WHERE `productName` = '1968 Ford Mustang' LIMIT 1;\"\n",
    "    }\n",
    "]"
   ]
  },
  {
   "cell_type": "code",
   "execution_count": 27,
   "metadata": {},
   "outputs": [
    {
     "name": "stdout",
     "output_type": "stream",
     "text": [
      "Human: List all customers in France with a credit limit over 20,000.\n",
      "SQLQuery:\n",
      "AI: SELECT * FROM customers WHERE country = 'France' AND creditLimit > 20000;\n",
      "Human: Get the highest payment amount made by any customer.\n",
      "SQLQuery:\n",
      "AI: SELECT MAX(amount) FROM payments;\n",
      "Human: Show product details for products in the 'Motorcycles' product line.\n",
      "SQLQuery:\n",
      "AI: SELECT * FROM products WHERE productLine = 'Motorcycles';\n",
      "Human: Retrieve the names of employees who report to employee number 1002.\n",
      "SQLQuery:\n",
      "AI: SELECT firstName, lastName FROM employees WHERE reportsTo = 1002;\n",
      "Human: List all products with a stock quantity less than 7000.\n",
      "SQLQuery:\n",
      "AI: SELECT productName, quantityInStock FROM products WHERE quantityInStock < 7000;\n",
      "Human: what is price of `1968 Ford Mustang`\n",
      "SQLQuery:\n",
      "AI: SELECT `buyPrice`, `MSRP` FROM products  WHERE `productName` = '1968 Ford Mustang' LIMIT 1;\n",
      "-----------------------------------------------------\n"
     ]
    }
   ],
   "source": [
    "from langchain_core.prompts import ChatPromptTemplate, MessagesPlaceholder,FewShotChatMessagePromptTemplate,PromptTemplate\n",
    "\n",
    "example_prompt = ChatPromptTemplate.from_messages(\n",
    "    [\n",
    "        (\"human\", \"{input}\\nSQLQuery:\"),\n",
    "        (\"ai\", \"{query}\"),\n",
    "    ]\n",
    ")\n",
    "few_shot_prompt = FewShotChatMessagePromptTemplate(\n",
    "    example_prompt=example_prompt,\n",
    "    examples=examples,\n",
    "    input_variables=[\"input\",\"top_k\"],\n",
    "    # input_variables=[\"input\"],\n",
    ")\n",
    "print(few_shot_prompt.format(input1=\"is sameer an employee?\"))\n",
    "print(\"-----------------------------------------------------\")"
   ]
  },
  {
   "cell_type": "code",
   "execution_count": 27,
   "metadata": {},
   "outputs": [
    {
     "data": {
      "text/plain": [
       "[{'input': 'Retrieve the names of employees who report to employee number 1002.',\n",
       "  'query': 'SELECT firstName, lastName FROM employees WHERE reportsTo = 1002;'},\n",
       " {'input': 'List all customers in France with a credit limit over 20,000.',\n",
       "  'query': \"SELECT * FROM customers WHERE country = 'France' AND creditLimit > 20000;\"}]"
      ]
     },
     "execution_count": 27,
     "metadata": {},
     "output_type": "execute_result"
    }
   ],
   "source": [
    "from langchain_community.vectorstores import Chroma\n",
    "from langchain_core.example_selectors import SemanticSimilarityExampleSelector\n",
    "from langchain_openai import OpenAIEmbeddings\n",
    "\n",
    "vectorstore = Chroma()\n",
    "vectorstore.delete_collection()\n",
    "example_selector = SemanticSimilarityExampleSelector.from_examples(\n",
    "    examples,\n",
    "    OpenAIEmbeddings(),\n",
    "    vectorstore,\n",
    "    k=2,\n",
    "    input_keys=[\"input\"],\n",
    ")\n",
    "example_selector.select_examples({\"input\": \"how many employees we have?\"})\n",
    "# example_selector.select_examples({\"input\": \"How many employees?\"})"
   ]
  },
  {
   "cell_type": "code",
   "execution_count": 28,
   "metadata": {},
   "outputs": [
    {
     "name": "stdout",
     "output_type": "stream",
     "text": [
      "Human: List all products with a stock quantity less than 7000.\n",
      "SQLQuery:\n",
      "AI: SELECT productName, quantityInStock FROM products WHERE quantityInStock < 7000;\n",
      "Human: Show product details for products in the 'Motorcycles' product line.\n",
      "SQLQuery:\n",
      "AI: SELECT * FROM products WHERE productLine = 'Motorcycles';\n"
     ]
    }
   ],
   "source": [
    "few_shot_prompt = FewShotChatMessagePromptTemplate(\n",
    "    example_prompt=example_prompt,\n",
    "    example_selector=example_selector,\n",
    "    input_variables=[\"input\",\"top_k\"],\n",
    ")\n",
    "print(few_shot_prompt.format(input=\"How many products are there?\"))"
   ]
  },
  {
   "cell_type": "code",
   "execution_count": 29,
   "metadata": {},
   "outputs": [
    {
     "name": "stdout",
     "output_type": "stream",
     "text": [
      "System: You are a MySQL expert. Given an input question, create a syntactically correct MySQL query to run. Unless otherwise specificed.\n",
      "\n",
      "Here is the relevant table info: some table info\n",
      "\n",
      "Below are a number of examples of questions and their corresponding SQL queries.\n",
      "Human: List all products with a stock quantity less than 7000.\n",
      "SQLQuery:\n",
      "AI: SELECT productName, quantityInStock FROM products WHERE quantityInStock < 7000;\n",
      "Human: Show product details for products in the 'Motorcycles' product line.\n",
      "SQLQuery:\n",
      "AI: SELECT * FROM products WHERE productLine = 'Motorcycles';\n",
      "Human: How many products are there?\n"
     ]
    }
   ],
   "source": [
    "final_prompt = ChatPromptTemplate.from_messages(\n",
    "    [\n",
    "        (\"system\", \"You are a MySQL expert. Given an input question, create a syntactically correct MySQL query to run. Unless otherwise specificed.\\n\\nHere is the relevant table info: {table_info}\\n\\nBelow are a number of examples of questions and their corresponding SQL queries.\"),\n",
    "        few_shot_prompt,\n",
    "        (\"human\", \"{input}\"),\n",
    "    ]\n",
    ")\n",
    "print(final_prompt.format(input=\"How many products are there?\", table_info=\"some table info\"))"
   ]
  },
  {
   "cell_type": "code",
   "execution_count": 30,
   "metadata": {},
   "outputs": [
    {
     "data": {
      "text/plain": [
       "'Sameer Khanzada has been employed since April 24, 2024 in the Product Development department under the supervision of Jane Smith. As of now, Sameer has 9 absences.'"
      ]
     },
     "execution_count": 30,
     "metadata": {},
     "output_type": "execute_result"
    }
   ],
   "source": [
    "generate_query = create_sql_query_chain(llm, db,final_prompt)\n",
    "chain = (\n",
    "RunnablePassthrough.assign(query=generate_query).assign(\n",
    "    result=itemgetter(\"query\") | execute_query\n",
    ")\n",
    "| rephrase_answer\n",
    ")\n",
    "chain.invoke({\"question\": \"tell me attendence data of sameer\"})"
   ]
  },
  {
   "cell_type": "code",
   "execution_count": 31,
   "metadata": {},
   "outputs": [
    {
     "name": "stdout",
     "output_type": "stream",
     "text": [
      "System: You are a MySQL expert. Given an input question, create a syntactically correct MySQL query to run. Unless otherwise specificed.\n",
      "\n",
      "Here is the relevant table info: some table info\n",
      "\n",
      "Below are a number of examples of questions and their corresponding SQL queries. Those examples are just for referecne and hsould be considered while answering follow up questions\n",
      "Human: List all products with a stock quantity less than 7000.\n",
      "SQLQuery:\n",
      "AI: SELECT productName, quantityInStock FROM products WHERE quantityInStock < 7000;\n",
      "Human: Show product details for products in the 'Motorcycles' product line.\n",
      "SQLQuery:\n",
      "AI: SELECT * FROM products WHERE productLine = 'Motorcycles';\n",
      "Human: How many products are there?\n"
     ]
    }
   ],
   "source": [
    "final_prompt = ChatPromptTemplate.from_messages(\n",
    "    [\n",
    "        (\"system\", \"You are a MySQL expert. Given an input question, create a syntactically correct MySQL query to run. Unless otherwise specificed.\\n\\nHere is the relevant table info: {table_info}\\n\\nBelow are a number of examples of questions and their corresponding SQL queries. Those examples are just for referecne and hsould be considered while answering follow up questions\"),\n",
    "        few_shot_prompt,\n",
    "        MessagesPlaceholder(variable_name=\"messages\"),\n",
    "        (\"human\", \"{input}\"),\n",
    "    ]\n",
    ")\n",
    "print(final_prompt.format(input=\"How many products are there?\",table_info=\"some table info\",messages=[]))"
   ]
  },
  {
   "cell_type": "code",
   "execution_count": null,
   "metadata": {},
   "outputs": [],
   "source": []
  }
 ],
 "metadata": {
  "kernelspec": {
   "display_name": "Python 3 (ipykernel)",
   "language": "python",
   "name": "python3"
  },
  "language_info": {
   "codemirror_mode": {
    "name": "ipython",
    "version": 3
   },
   "file_extension": ".py",
   "mimetype": "text/x-python",
   "name": "python",
   "nbconvert_exporter": "python",
   "pygments_lexer": "ipython3",
   "version": "3.10.0"
  }
 },
 "nbformat": 4,
 "nbformat_minor": 2
}
