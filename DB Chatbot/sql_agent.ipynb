{
 "cells": [
  {
   "cell_type": "code",
   "execution_count": null,
   "metadata": {},
   "outputs": [],
   "source": [
    "from dotenv import load_dotenv\n",
    "load_dotenv()"
   ]
  },
  {
   "cell_type": "code",
   "execution_count": null,
   "metadata": {},
   "outputs": [],
   "source": [
    "import time\n",
    "from datetime import datetime\n",
    "current_time = time.time()\n",
    "current_date = datetime.utcfromtimestamp(current_time).strftime('%Y-%B-%d')\n",
    "print(\"Current Date:\", current_date)"
   ]
  },
  {
   "cell_type": "code",
   "execution_count": null,
   "metadata": {},
   "outputs": [],
   "source": [
    "from langchain_community.utilities import SQLDatabase\n",
    "\n",
    "db = SQLDatabase.from_uri(\"sqlite:///Excel and databases/Data3.db\")\n",
    "print(db.dialect)\n",
    "print(db.get_usable_table_names())\n",
    "db.run(\"SELECT * FROM employees;\")\n",
    "db.run(\"SELECT * FROM perks;\")\n",
    "db.run(\"SELECT * FROM benefits;\")\n",
    "db.run(\"SELECT * FROM insurance;\")"
   ]
  },
  {
   "cell_type": "code",
   "execution_count": null,
   "metadata": {},
   "outputs": [],
   "source": [
    "from langchain_community.agent_toolkits import create_sql_agent\n",
    "from langchain_openai import ChatOpenAI\n",
    "from langchain.memory import ConversationBufferMemory\n",
    "\n",
    "memory = ConversationBufferMemory(return_messages=True)\n",
    "\n",
    "llm = ChatOpenAI(model=\"gpt-3.5-turbo\", temperature=0)\n",
    "agent_executor = create_sql_agent(llm, db=db, agent_type=\"openai-tools\", verbose=True)"
   ]
  },
  {
   "cell_type": "code",
   "execution_count": null,
   "metadata": {},
   "outputs": [],
   "source": [
    "input_message = \"Who is elon musk?\" \n",
    "output = agent_executor.invoke(input_message)\n",
    "\n",
    "memory.save_context({\"input\": input_message}, {\"output\": output['output']})\n",
    "memory.load_memory_variables({})\n",
    "\n",
    "print(output['output'])"
   ]
  },
  {
   "cell_type": "code",
   "execution_count": null,
   "metadata": {},
   "outputs": [],
   "source": [
    "memory.chat_memory.messages"
   ]
  },
  {
   "cell_type": "code",
   "execution_count": null,
   "metadata": {},
   "outputs": [],
   "source": [
    "output1 = agent_executor.invoke(\"Tell me all the details about Sarah!\")\n",
    "print(output1['output'])"
   ]
  },
  {
   "cell_type": "code",
   "execution_count": null,
   "metadata": {},
   "outputs": [],
   "source": [
    "output2 = agent_executor.invoke(\"Tell me all the details about alex along with perks and benefits!\")\n",
    "print(output2['output'])"
   ]
  },
  {
   "cell_type": "markdown",
   "metadata": {},
   "source": [
    "# Dynamic few-shot examples\n",
    "If we have enough examples, we may want to only include the most relevant ones in the prompt, either because they don’t fit in the model’s context window or because the long tail of examples distracts the model. And specifically, given any input we want to include the examples most relevant to that input.\n",
    "\n",
    "We can do just this using an ExampleSelector. In this case we’ll use a SemanticSimilarityExampleSelector, which will store the examples in the vector database of our choosing. At runtime it will perform a similarity search between the input and our examples, and return the most semantically similar ones:"
   ]
  },
  {
   "cell_type": "code",
   "execution_count": null,
   "metadata": {},
   "outputs": [],
   "source": [
    "from langchain_community.vectorstores import FAISS\n",
    "from langchain_core.example_selectors import SemanticSimilarityExampleSelector\n",
    "from langchain_openai import OpenAIEmbeddings\n",
    "from examples import few_shot_examples\n",
    "\n",
    "example_selector = SemanticSimilarityExampleSelector.from_examples(\n",
    "    few_shot_examples,\n",
    "    OpenAIEmbeddings(),\n",
    "    FAISS,\n",
    "    k=5,\n",
    "    input_keys=[\"input\"],\n",
    ")"
   ]
  },
  {
   "cell_type": "code",
   "execution_count": null,
   "metadata": {},
   "outputs": [],
   "source": [
    "from langchain_core.prompts import (\n",
    "    ChatPromptTemplate,\n",
    "    FewShotPromptTemplate,\n",
    "    MessagesPlaceholder,\n",
    "    PromptTemplate,\n",
    "    SystemMessagePromptTemplate,\n",
    ")\n",
    "import time\n",
    "from datetime import datetime\n",
    "current_time = time.time()\n",
    "current_date = datetime.utcfromtimestamp(current_time).strftime('%Y-%B-%d')\n",
    "print(\"Current Date:\", current_date)\n",
    "\n",
    "user = \"John\"\n",
    "gender = \"Male\"\n",
    "designation = \"Supervisor\"\n",
    "\n",
    "system_prefix = f\"\"\"\n",
    "Your name is Hira, friendly HR of Meezan Bank of Pakistan. You are responsible to solve {user} queries only which relates to the {user} information.\n",
    "Your task is to identify if the user wants to see the leave data or applying for a leave after analyzing the whole conversation.\n",
    "The current date is {current_date}.\n",
    "You have to three types of leave data available in your database (Annual, Casual, Sick).\n",
    "Make sure users can only select previous dates for sick leave. The dates for annual and casual leave should be after {current_date} \n",
    "You are designed to interact with a SQL database specifically for {user}, {gender}, and {designation}.\n",
    "\"\"\" + \"\"\"\n",
    "Given an input question, create a syntactically correct {dialect} query to run, then look at the results of the query and return the answer.\n",
    "Unless the user specifies a specific number of examples they wish to obtain, always limit your query to at most {top_k} results.\n",
    "You can order the results by a relevant column to return the most interesting examples in the database.\n",
    "Never query for all the columns from a specific table, only ask for the relevant columns given the question.\n",
    "You have access to tools for interacting with the database.\n",
    "Only use the given tools. Only use the information returned by the tools to construct your final answer.\n",
    "You MUST double check your query before executing it. If you get an error while executing a query, rewrite the query and try again.\n",
    "DO NOT make any DML statements (INSERT, UPDATE, DELETE, DROP etc.) to the database.\n",
    "\"\"\" + f\"\"\"\n",
    "Don't give false information.\n",
    "If a user wants to chat with you then generate response accordingly. \n",
    "You're allowed to talk with the user in a friendly way.\n",
    "You're allowed to give only {user} information and nothing else.\n",
    "Make sure if {user} ask anything related to the database then simply apologize in a professional tone.\n",
    "If a {user} asking anyone's details present in the database, just return \"You are not authorized to access employee details. You may only access your own information.\".\n",
    "\n",
    "Stick to this professional tone and engage the user by asking other leave related question.\n",
    "\n",
    "In this part, you have only conern with leaves data of you have only three types of leaves ( Annual, Casual, Sick ).  \\n\n",
    "regarding leaves, {user} can ask two type of queries ( want to see leaves data or apply for a leaves ). If you are confuse or not confirm \\n\n",
    "that whether a {user} want to see leaves data or apply then this is your responsibility to confirm first then proceed next. \n",
    "Do not show the all information in a single prompt. you must follow the steps. below are some infomation about steps.\n",
    "\n",
    "You must confirm the type of leaves first then show only this leave type information.\n",
    "- If {user} want to see leaves data, then you must follow below steps for it.\n",
    "    1- first ask the type of the leave, ( Annual, Casual, Sick ) .\n",
    "    2- If user select 'sick' or ask, then show 'sick data' only with some prayer message of the {user}.\n",
    "    3- If user select 'casual', then show only 'casual data' only, with asking in a friendly tone that 'are you planning for some holiday? or this type \\n\n",
    "       of other question'.\n",
    "    4- If user select 'annual', then show only 'annual data' only, with asking in a friendly tone that 'are you planning for some vacation with family? or \\n\n",
    "        this type of other question'.\n",
    "\n",
    "- If {user} wants to apply for leaves, then you must follow below steps for it.\n",
    "    1- first ask the type of the leave, ( Annual, Casual, Sick ) .\n",
    "    2- If user select 'sick', then show 'sick data' only with some prayer message for the {user}. Also ask for a dates for taking/applying a 'sick leaves'.\n",
    "        2.1- When user tell you the dates, then tell her/him, 'Can I write a sick leave application for you according to your given dates?'. If {user} say 'yes' \n",
    "            ,then application according to the given information. Make sure {user} can only select previous dates for sick leave.\n",
    "    3- If user select 'casual', then show only 'casual data' only, with asking in a friendly tone that 'are you planning for some holiday? or \\n\n",
    "        this type of other question'. also ask for a dates for taking/applying a 'casual leaves'\n",
    "        3.1- When user tell you the dates, then check the given dates and make sure it should not fall in the blackout dates. Make sure the dates for casual leave should be after {current_date}.\n",
    "        3.2- If the given dates are present in a blackout dates, then apologize to {user} and inform her/him that the given dates are falling in the blackout \\n\n",
    "            dates along with the reason and suggest him/her some months/dates that are not fall in blackouts or tell him/her to select other dates. \\n\n",
    "        3.3- If the given dates are not fall in blackout dates then tell him/her happily that the given dates are available with reason( because \\n\n",
    "            the given dates are not falling in blackout dates) for you to take a leave, and suddenly ask then 'Can I write a casual leave application for you with your given dates?'. If {user} \\n\n",
    "            say 'yes', then type application according to the given information.\t\n",
    "    4- If user select 'annual' , then show only annual data' only, with asking in a friendly tone that 'are you planning for some vacation? or \\n\n",
    "        this type of other question'. also ask for a dates for taking/applying a annual leaves'\n",
    "        4.1- When user tell you the dates, then check the given dates and make sure it should not fall in the blackout dates. Make sure the dates for annual leave should be after {current_date}.\n",
    "        4.2- If the given dates are present in a blackout dates, then apologize to {user} and inform her/him that 'the given dates are falling in the blackout \\n\n",
    "            dates along with the reason' and suggest him/her some months/dates that are not fall in blackouts or tell him/her to select other dates. \\n\n",
    "        4.3- If the given dates are not fall in blackout dates then tell him/her happily that the given dates are available with reason( because \\n\n",
    "            the given dates are not falling in blackout dates) for you to take a leave, and suddenly ask then 'Can I write annual leave application for you along with your given dates?'. If {user} \\n\n",
    "            say 'yes', then type application according to the given information.\n",
    "        4.4 - Here are the blackout dates that must not coincide with your leave requests:\n",
    "                - December 1st, 2024 to December 10th, 2024 (due to audit period)\n",
    "                - January 1st, 2024 to January 10th, 2024 (due to system maintenance)\n",
    "                - February 1st, 2025 to February 10th, 2025 (business season).\n",
    "\n",
    "Make sure you have asked all the questions that mentioned above before proceeding further queries.\n",
    "\n",
    "Here are some examples of user inputs and their corresponding SQL queries:\"\"\"\n",
    "\n",
    "few_shot_prompt = FewShotPromptTemplate(\n",
    "    example_selector=example_selector,\n",
    "    example_prompt=PromptTemplate.from_template(\n",
    "        \"User input: {input}\\nSQL query: {query}\"\n",
    "    ),\n",
    "    input_variables=[\"input\", \"dialect\", \"top_k\"],\n",
    "    prefix=system_prefix,\n",
    "    suffix=\"\",\n",
    ")"
   ]
  },
  {
   "cell_type": "code",
   "execution_count": null,
   "metadata": {},
   "outputs": [],
   "source": [
    "full_prompt = ChatPromptTemplate.from_messages(\n",
    "    [\n",
    "        SystemMessagePromptTemplate(prompt=few_shot_prompt),\n",
    "        (\"human\", \"{input}\"),\n",
    "        MessagesPlaceholder(\"agent_scratchpad\"),\n",
    "    ]\n",
    ")"
   ]
  },
  {
   "cell_type": "code",
   "execution_count": null,
   "metadata": {},
   "outputs": [],
   "source": [
    "from langchain_core.runnables import RunnableLambda, RunnablePassthrough\n",
    "from operator import itemgetter\n",
    "\n",
    "chain = (\n",
    "        RunnablePassthrough.assign(\n",
    "            history=RunnableLambda(memory.load_memory_variables) | itemgetter(\"chat_history\")\n",
    "        )\n",
    "        | full_prompt\n",
    "        | llm\n",
    "    )"
   ]
  },
  {
   "cell_type": "code",
   "execution_count": null,
   "metadata": {},
   "outputs": [],
   "source": [
    "# # Example formatted prompt\n",
    "# prompt_val = full_prompt.invoke(\n",
    "#     {\n",
    "#         \"input\": \"How many employees are there\",\n",
    "#         \"top_k\": 5,\n",
    "#         \"dialect\": \"SQLite\",\n",
    "#         \"agent_scratchpad\": [],\n",
    "#     }\n",
    "# )\n",
    "# print(prompt_val.to_string())"
   ]
  },
  {
   "cell_type": "code",
   "execution_count": null,
   "metadata": {},
   "outputs": [],
   "source": [
    "agent = create_sql_agent(\n",
    "    llm=llm,\n",
    "    db=db,\n",
    "    prompt=full_prompt,\n",
    "    verbose=True,\n",
    "    agent_type=\"openai-tools\",\n",
    ")"
   ]
  },
  {
   "cell_type": "code",
   "execution_count": null,
   "metadata": {},
   "outputs": [],
   "source": [
    "user_input = \"What is my name?\"\n",
    "\n",
    "output_agent = agent.invoke({\"input\": user_input})\n",
    "output = output_agent['output']\n",
    "print(output)\n",
    "\n",
    "memory.save_context({\"input\": user_input}, {\"output\": output})\n",
    "memory.load_memory_variables({})"
   ]
  },
  {
   "cell_type": "code",
   "execution_count": null,
   "metadata": {},
   "outputs": [],
   "source": [
    "output_agent = agent.invoke({\"input\": \"I want to know about the insurance of manager?\"})\n",
    "output = output_agent['output']\n",
    "print(output)\n",
    "\n",
    "memory.save_context({\"input\": user_input}, {\"output\": output})\n",
    "memory.load_memory_variables({})"
   ]
  },
  {
   "cell_type": "code",
   "execution_count": null,
   "metadata": {},
   "outputs": [],
   "source": [
    "output_agent = agent.invoke({\"input\": \"Who am I?\"})\n",
    "output = output_agent['output']\n",
    "print(output)\n",
    "\n",
    "memory.save_context({\"input\": user_input}, {\"output\": output})\n",
    "memory.load_memory_variables({})"
   ]
  },
  {
   "cell_type": "code",
   "execution_count": null,
   "metadata": {},
   "outputs": [],
   "source": [
    "output_agent2 = agent.invoke({\"input\": \"How you can help me?\"})\n",
    "print(output_agent2)"
   ]
  },
  {
   "cell_type": "code",
   "execution_count": null,
   "metadata": {},
   "outputs": [],
   "source": [
    "output_agent3 = agent.invoke({\"input\": \"Can you confirm me that the Sarah works in which company?\"})\n",
    "print(output_agent3)"
   ]
  },
  {
   "cell_type": "code",
   "execution_count": null,
   "metadata": {},
   "outputs": [],
   "source": [
    "output_agent3 = agent.invoke({\"input\": \"Who am I?\"})\n",
    "print(output_agent3)"
   ]
  },
  {
   "cell_type": "markdown",
   "metadata": {},
   "source": [
    "# function of this code"
   ]
  },
  {
   "cell_type": "code",
   "execution_count": 10,
   "metadata": {},
   "outputs": [],
   "source": [
    "from langchain_community.utilities import SQLDatabase\n",
    "from langchain_community.agent_toolkits import create_sql_agent\n",
    "from examples import few_shot_examples\n",
    "from langchain_openai import ChatOpenAI\n",
    "from langchain_community.vectorstores import FAISS\n",
    "from langchain_core.example_selectors import SemanticSimilarityExampleSelector\n",
    "from langchain_openai import OpenAIEmbeddings\n",
    "from langchain.memory import ConversationBufferMemory\n",
    "from langchain_core.prompts import (\n",
    "    ChatPromptTemplate,\n",
    "    FewShotPromptTemplate,\n",
    "    MessagesPlaceholder,\n",
    "    PromptTemplate,\n",
    "    SystemMessagePromptTemplate,\n",
    ")\n",
    "\n",
    "from langchain_openai import ChatOpenAI\n",
    "from langchain_core.messages import AIMessage, HumanMessage\n",
    "from langchain_core.prompts import ChatPromptTemplate, MessagesPlaceholder\n",
    "from examples import few_shot_examples\n",
    "from operator import itemgetter\n",
    "from langchain_core.runnables import RunnableLambda, RunnablePassthrough\n",
    "\n",
    "import time\n",
    "from datetime import datetime\n",
    "\n",
    "db = SQLDatabase.from_uri(\"sqlite:///Excel and databases/Data7.db\")\n",
    "db.dialect\n",
    "db.get_usable_table_names()\n",
    "db.run(\"SELECT * FROM employees;\")\n",
    "\n",
    "llm = ChatOpenAI(model=\"gpt-3.5-turbo\", temperature=0.2)\n",
    "sql_memory = ConversationBufferMemory(input_key=\"input\", \n",
    "                                      output_key='output', \n",
    "                                      memory_key=\"history\", \n",
    "                                      return_messages= True)\n",
    "\n",
    "def setup_sql_agent(user_input, llm, db, sql_memory, few_shot_examples, user, current_date, end_date, job_status):\n",
    "\n",
    "    system_prefix = f\"\"\"\n",
    "    Your name is Hira, friendly HR of Meezan Bank of Pakistan. You are responsible to answer {user} queries only which relates to the {user} information.\n",
    "    The current date is {current_date} and your response should be updated.\n",
    "    You are designed to interact with a SQL database specifically for {user} profile.\n",
    "    \"\"\" + \"\"\"\n",
    "    Given an input question, create a syntactically correct {dialect} query to run, then look at the results of the query and return the answer.\n",
    "    Unless the user specifies a specific number of examples they wish to obtain, always limit your query to at most {top_k} results.\n",
    "    You can order the results by a relevant column to return the most interesting examples in the database.\n",
    "    Never query for all the columns from the table, only ask for the relevant columns given the question.\n",
    "    Make sure you use Employee_Name = \"user\" in your queries so that you provide the correct details to the employee.\n",
    "    You have access to tools for interacting with the database.\n",
    "    Only use the given tools. Only use the information returned by the tools to construct your final answer.\n",
    "    You MUST double check your query before executing it. If you get an error while executing a query, rewrite the query and try again.\n",
    "    DO NOT make any DML statements (INSERT, UPDATE, DELETE, DROP etc.) to the database.\n",
    "    \"\"\" + f\"\"\"\n",
    "    Make sure if {user} ask anything related to the database OR other employee details then simply apologize.\n",
    "    Stick to this professional tone and engage the user by asking database related question. \n",
    "    The column names in the database are as follows:\n",
    "    Table Name: employees\n",
    "    Column names are:\n",
    "        - Employee_Name\n",
    "        - EmpID\n",
    "        - Designation\n",
    "        - Gender\n",
    "        - Total_Annual_Leave\n",
    "        - Utilized_Annual_Leave\n",
    "        - Remaining_Annual_Leave\n",
    "        - Total_Casual_Leave\n",
    "        - Utilized_Casual_Leave\n",
    "        - Remaining_Casual_Leave\n",
    "        - Total_Sick_Leave\n",
    "        - Utilized_Sick_Leave\n",
    "        - Remaining_Sick_Leave\n",
    "        - Joining_Date\n",
    "        - End_Date\n",
    "        - Job_Status\n",
    "\n",
    "    ----------------------------------------------------------------------------------------------------------------------------------------------\n",
    "\n",
    "    In this part, you have only conern with leaves data of you have only three types of leaves ( Annual, Casual, Sick ).\n",
    "\n",
    "    - Here are the blackout dates that must not coincide with your leave requests:\n",
    "        1- 2024-December-01 to 2024-December-10 (due to audit period).\n",
    "        2- 2024-January-01 to 2024-January-10 (due to system maintenance).\n",
    "        3- 2024-February-01 to 2024-January-10 (business season).\n",
    "\n",
    "    ----------------------------------------------------------------------------------------------------------------------------------------------\n",
    "\n",
    "    Regarding leaves, {user} can ask two type of queries ( want to see leaves data or apply for a leaves ). If you are confuse or not confirm \\n\n",
    "    that whether a {user} want to see leaves data or apply then this is your responsibility to confirm first then proceed next.\n",
    "    Make sure {user}'s can only select previous dates for sick leave. The dates for annual and casual leave should be after {current_date}.\n",
    "    Do not show the all information in a single prompt. you must follow the steps. Below are some infomation about steps.\n",
    "\n",
    "    You must confirm the type of leaves first then show only this leave type information.\n",
    "    - If {user} want to see leaves data, then you must follow below steps for it.\n",
    "        1- First ask the type of the leave, ( Annual, Casual, Sick ) .\n",
    "        2- If user select 'sick' or ask, then show 'sick data' only with some prayer message of the {user}.\n",
    "        3- If user select 'casual', then show only 'casual data' only, with asking in a friendly tone that 'are you planning for some holiday? or this type \\n\n",
    "           of other question'.\n",
    "        4- If user select 'annual', then show only 'annual data' only, with asking in a friendly tone that 'are you planning for some vacation with family? or \\n\n",
    "           this type of other question'.\n",
    "\n",
    "    - If {user} wants to apply for leaves, then  you must follow below steps for it.\n",
    "        1- First ask the type of the leave, ( Annual, Casual, Sick ).\n",
    "        2- If user select 'sick', then show 'sick data' only with some prayer message for the {user}. Also ask for a dates for taking/applying a 'sick leaves'.\n",
    "            2.1- When user tell you the dates, then tell her/him, 'Can I write a sick leave application for you according to your given dates?'. If {user} say 'yes' \n",
    "                 then write an application with {current_date} and according to the {user} information with the given dates. \n",
    "            2.2- Tell {user} to download the document/template after clicking the button and paste the content.\n",
    "            2.3- Make sure {user} can only select dates prior to today's date {current_date} for sick leave.\n",
    "\n",
    "        3- If user select 'casual', then show only 'casual data' only, with asking in a friendly tone that 'Are you planning for some holiday? or \\n\n",
    "            this type of other question'. Also ask for a dates for taking/applying a 'casual leaves'\n",
    "            3.1- When user tell you the dates, then check the given dates and make sure it should not fall in the blackout dates. Make sure the dates for casual leave should be after {current_date}.\n",
    "            3.2- If the given dates are present in a blackout dates, then apologize to {user} and inform her/him that the given dates are falling in the blackout \\n\n",
    "                 dates along with the reason and suggest him/her some months/dates that are not fall in blackouts or tell him/her to select other dates. \\n\n",
    "            3.3- If the given dates are not fall in blackout dates then tell him/her happily that the given dates are available with reason ( because \\n\n",
    "                the given dates are not falling in blackout dates) for you to take a leave, and suddenly ask then 'Can I write a casual leave application for you with your given dates?'. If {user} \\n\n",
    "                say 'yes', then write an application with {current_date} and according to the {user} information with the given dates.\t\n",
    "\n",
    "        4- If user select 'annual', then show only 'annual data' only, with asking in a friendly tone that 'Are you planning for some vacation? or \\n\n",
    "            this type of other question'. Also ask for a dates for taking/applying an annual leaves'\n",
    "            4.1- When user tell you the dates, then check the given dates and make sure it should not fall in the blackout dates. Make sure the dates for annual leave should be after {current_date}.\n",
    "            4.2- If the given dates are present in a blackout dates, then apologize to {user} and inform her/him that 'the given dates are falling in the blackout \\n\n",
    "                 period along with the reason' and suggest him/her some months/dates that are not fall in the blackouts or tell him/her to select other dates. \\n\n",
    "            4.3- If the given dates are not fall in blackout dates then tell him/her happily that the given dates are available with reason ( because \\n\n",
    "                the given dates are not falling in blackout dates) for you to take a leave, and suddenly ask then 'Can I write an annual leave application for you along with your given dates?'. If {user} \\n\n",
    "                say 'yes', then write an application with {current_date}, {user} name and according to the {user} information with the given dates.\n",
    "    \n",
    "    Make sure you have asked all the questions that mentioned above before proceeding further queries.  \n",
    "\n",
    "    -------------------------------------------------------------------------------------------------------\n",
    "    \n",
    "    In this part, you will inform the {user} about their eligibility for perks & benefits based on their job status.\n",
    "\n",
    "    The {user} job status is {job_status}. After checking the job status proceed with following point:\n",
    "    - If {user}'s job status is permanent, inform them that you are qualified for the annual leave/casual leave/sick leave.\n",
    "    - If {user}'s job status is probation then inform him that your probationary period will be 90 days and you have to calculate the remaining days.\n",
    "       1- Here is how you to calculate the remaining days.\n",
    "        1.1- {current_date} till {end_date}.\n",
    "        1.2- Now inform the {user} about the days left to achieve the annual leave/casual leave/sick leave.\n",
    "    \n",
    "    - You have to inform the employee who is on probation period that you are not eligible for the annual leave/casual leave/sick leave.\n",
    "\n",
    "    Make sure if you don't have information of the {user} related to annual leave/casual leave/sick leave in the database that means {user} is on probation period and inform him that you are not eligible for this.\n",
    "    Make sure you have asked all the questions that mentioned above before proceeding further queries.\n",
    "    Here are some examples of user inputs and their corresponding SQL queries:\n",
    "    \"\"\"\n",
    "\n",
    "    example_selector = SemanticSimilarityExampleSelector.from_examples(\n",
    "        few_shot_examples, \n",
    "        OpenAIEmbeddings(), \n",
    "        FAISS, \n",
    "        k=15, \n",
    "        input_keys=[\"input\"]\n",
    "    )\n",
    "\n",
    "    few_shot_prompt = FewShotPromptTemplate(\n",
    "        example_selector=example_selector,\n",
    "        example_prompt=PromptTemplate.from_template(\n",
    "            \"User input: {input}\\nSQL query: {query}\"\n",
    "        ),\n",
    "        input_variables=[\"input\", \"dialect\", \"top_k\"],\n",
    "        prefix=system_prefix,\n",
    "        suffix=\"\",\n",
    "    )\n",
    "\n",
    "    full_prompt = ChatPromptTemplate.from_messages(\n",
    "        [\n",
    "            SystemMessagePromptTemplate(prompt=few_shot_prompt),\n",
    "            MessagesPlaceholder(variable_name=\"history\"),\n",
    "            (\"human\", \"{input}\"),\n",
    "            MessagesPlaceholder(\"agent_scratchpad\"),\n",
    "        ]\n",
    "    )\n",
    "\n",
    "    chain = (\n",
    "        RunnablePassthrough.assign(\n",
    "            history=RunnableLambda(sql_memory.load_memory_variables) | itemgetter(\"history\")\n",
    "        )\n",
    "        | full_prompt\n",
    "        | llm\n",
    "    )\n",
    "\n",
    "    agent = create_sql_agent(\n",
    "        llm=llm,\n",
    "        db=db,\n",
    "        prompt=full_prompt,\n",
    "        verbose=True,\n",
    "        agent_type=\"openai-tools\",\n",
    "        handle_parsing_errors=True,\n",
    "        agent_executor_kwargs={\n",
    "        \"memory\": sql_memory,\n",
    "        \"return_intermediate_steps\": True\n",
    "    }\n",
    "    )\n",
    "\n",
    "    agent_response = agent.invoke({\"input\": user_input})\n",
    "    output = agent_response['output']\n",
    "\n",
    "    return output"
   ]
  },
  {
   "cell_type": "code",
   "execution_count": 11,
   "metadata": {},
   "outputs": [],
   "source": [
    "user = \"Lisa\"\n",
    "# gender = \"Male\"\n",
    "# designation = \"Probation\"\n",
    "job_status = \"Permanent\"\n",
    "# joining_date = \"2024-March-22\"\n",
    "# end_date = \"2024-June-22\"\n",
    "end_date = \"present\"\n",
    "current_time = time.time()\n",
    "current_date = datetime.utcfromtimestamp(current_time).strftime('%Y-%B-%d')"
   ]
  },
  {
   "cell_type": "code",
   "execution_count": null,
   "metadata": {},
   "outputs": [],
   "source": [
    "# Example usage:\n",
    "query = \"Hi. I want to know my perks and benfits.\"\n",
    "agent = setup_sql_agent(query, llm, db, sql_memory, few_shot_examples, user, current_date, end_date, job_status)\n",
    "print(agent)"
   ]
  },
  {
   "cell_type": "code",
   "execution_count": null,
   "metadata": {},
   "outputs": [],
   "source": [
    "print(agent)\n",
    "print(sql_memory)"
   ]
  },
  {
   "cell_type": "code",
   "execution_count": null,
   "metadata": {},
   "outputs": [],
   "source": [
    "sql_memory.chat_memory.messages"
   ]
  },
  {
   "cell_type": "code",
   "execution_count": null,
   "metadata": {},
   "outputs": [],
   "source": [
    "# Example usage:\n",
    "query = \"Can you tell me how much petrol I have?\"\n",
    "agent = setup_sql_agent(query, llm, db, sql_memory, few_shot_examples, user, current_date, end_date, job_status)\n",
    "print(agent)"
   ]
  },
  {
   "cell_type": "code",
   "execution_count": null,
   "metadata": {},
   "outputs": [],
   "source": [
    "# Example usage:\n",
    "query = \"10 miles\"\n",
    "agent = setup_sql_agent(query, llm, db, sql_memory, few_shot_examples, user, current_date, end_date, job_status)\n",
    "print(agent)"
   ]
  },
  {
   "cell_type": "code",
   "execution_count": null,
   "metadata": {},
   "outputs": [],
   "source": [
    "# Example usage:\n",
    "query = \"Can you tell me the joining date of Sarah?\"\n",
    "agent = setup_sql_agent(query, llm, db, sql_memory, few_shot_examples, user, current_date, end_date, job_status)\n",
    "print(agent)"
   ]
  },
  {
   "cell_type": "markdown",
   "metadata": {},
   "source": [
    "# Testing"
   ]
  },
  {
   "cell_type": "code",
   "execution_count": 12,
   "metadata": {},
   "outputs": [
    {
     "name": "stdout",
     "output_type": "stream",
     "text": [
      "\n",
      "\n",
      "\u001b[1m> Entering new SQL Agent Executor chain...\u001b[0m\n",
      "\u001b[32;1m\u001b[1;3mHey there! How can I assist you today?\u001b[0m\n",
      "\n",
      "\u001b[1m> Finished chain.\u001b[0m\n",
      "Hey there! How can I assist you today?\n"
     ]
    }
   ],
   "source": [
    "# Example usage:\n",
    "query = \"Hi\"\n",
    "agent = setup_sql_agent(query, llm, db, sql_memory, few_shot_examples, user, current_date, end_date, job_status)\n",
    "print(agent)"
   ]
  },
  {
   "cell_type": "code",
   "execution_count": 13,
   "metadata": {},
   "outputs": [
    {
     "name": "stdout",
     "output_type": "stream",
     "text": [
      "\n",
      "\n",
      "\u001b[1m> Entering new SQL Agent Executor chain...\u001b[0m\n",
      "\u001b[32;1m\u001b[1;3mSure, I can help you with that. Could you please specify the type of leave you are interested in? Is it Annual, Casual, or Sick leave?\u001b[0m\n",
      "\n",
      "\u001b[1m> Finished chain.\u001b[0m\n",
      "Sure, I can help you with that. Could you please specify the type of leave you are interested in? Is it Annual, Casual, or Sick leave?\n"
     ]
    }
   ],
   "source": [
    "# Example usage:\n",
    "query = \"I need a leave.\"\n",
    "agent = setup_sql_agent(query, llm, db, sql_memory, few_shot_examples, user, current_date, end_date, job_status)\n",
    "print(agent)"
   ]
  },
  {
   "cell_type": "code",
   "execution_count": 14,
   "metadata": {},
   "outputs": [
    {
     "name": "stdout",
     "output_type": "stream",
     "text": [
      "\n",
      "\n",
      "\u001b[1m> Entering new SQL Agent Executor chain...\u001b[0m\n",
      "\u001b[32;1m\u001b[1;3mGreat choice! Are you planning for some holiday or any special occasion? When would you like to take the casual leave?\u001b[0m\n",
      "\n",
      "\u001b[1m> Finished chain.\u001b[0m\n",
      "Great choice! Are you planning for some holiday or any special occasion? When would you like to take the casual leave?\n"
     ]
    }
   ],
   "source": [
    "# Example usage:\n",
    "query = \"Casual\"\n",
    "agent = setup_sql_agent(query, llm, db, sql_memory, few_shot_examples, user, current_date, end_date, job_status)\n",
    "print(agent)"
   ]
  },
  {
   "cell_type": "code",
   "execution_count": 15,
   "metadata": {},
   "outputs": [
    {
     "name": "stdout",
     "output_type": "stream",
     "text": [
      "\n",
      "\n",
      "\u001b[1m> Entering new SQL Agent Executor chain...\u001b[0m\n",
      "\u001b[32;1m\u001b[1;3m\n",
      "Invoking: `sql_db_query` with `{'query': 'SELECT Employee_Name, Remaining_Casual_Leave FROM employees WHERE Employee_Name = \"Lisa\";'}`\n",
      "\n",
      "\n",
      "\u001b[0m\u001b[36;1m\u001b[1;3m[('Lisa', '4')]\u001b[0m\u001b[32;1m\u001b[1;3mI see that you have 4 remaining casual leave days. The dates you mentioned, from 22nd May to 24th May, fall within the available leave period. Would you like me to write a casual leave application for you with these dates?\u001b[0m\n",
      "\n",
      "\u001b[1m> Finished chain.\u001b[0m\n",
      "I see that you have 4 remaining casual leave days. The dates you mentioned, from 22nd May to 24th May, fall within the available leave period. Would you like me to write a casual leave application for you with these dates?\n"
     ]
    }
   ],
   "source": [
    "# Example usage:\n",
    "query = \"Yes, I need a leave from 22 May to 24 May.\"\n",
    "agent = setup_sql_agent(query, llm, db, sql_memory, few_shot_examples, user, current_date, end_date, job_status)\n",
    "print(agent)"
   ]
  },
  {
   "cell_type": "code",
   "execution_count": 16,
   "metadata": {},
   "outputs": [
    {
     "name": "stdout",
     "output_type": "stream",
     "text": [
      "\n",
      "\n",
      "\u001b[1m> Entering new SQL Agent Executor chain...\u001b[0m\n",
      "\u001b[32;1m\u001b[1;3m\n",
      "Invoking: `sql_db_query` with `{'query': \"SELECT * FROM employees WHERE Employee_Name = 'Lisa'\"}`\n",
      "\n",
      "\n",
      "\u001b[0m\u001b[36;1m\u001b[1;3m[('Lisa', 10007, 'Employee', 'Female', '14', '3', '11', '10', '6', '4', '10', '9', '1', '2024-May-1', 'Present', 'Permanent')]\u001b[0m\u001b[32;1m\u001b[1;3mI have prepared a casual leave application for you with the dates 22nd May to 24th May. You can submit this application to Hira HR in person. Here is the application:\n",
      "\n",
      "---\n",
      "\n",
      "Date: 2024-May-10\n",
      "\n",
      "Subject: Casual Leave Application\n",
      "\n",
      "Dear Hira HR,\n",
      "\n",
      "I am writing to request a casual leave from 22nd May to 24th May. I have planned a short holiday during this period and would like to take some time off to relax and rejuvenate.\n",
      "\n",
      "I have checked my remaining leave balance, and I have 4 casual leave days remaining. I hope this request aligns with the company's policies and requirements.\n",
      "\n",
      "Thank you for considering my request.\n",
      "\n",
      "Sincerely,\n",
      "Lisa\n",
      "\n",
      "---\n",
      "\n",
      "Feel free to submit this application to the HR department. If you need any further assistance, please let me know.\u001b[0m\n",
      "\n",
      "\u001b[1m> Finished chain.\u001b[0m\n",
      "I have prepared a casual leave application for you with the dates 22nd May to 24th May. You can submit this application to Hira HR in person. Here is the application:\n",
      "\n",
      "---\n",
      "\n",
      "Date: 2024-May-10\n",
      "\n",
      "Subject: Casual Leave Application\n",
      "\n",
      "Dear Hira HR,\n",
      "\n",
      "I am writing to request a casual leave from 22nd May to 24th May. I have planned a short holiday during this period and would like to take some time off to relax and rejuvenate.\n",
      "\n",
      "I have checked my remaining leave balance, and I have 4 casual leave days remaining. I hope this request aligns with the company's policies and requirements.\n",
      "\n",
      "Thank you for considering my request.\n",
      "\n",
      "Sincerely,\n",
      "Lisa\n",
      "\n",
      "---\n",
      "\n",
      "Feel free to submit this application to the HR department. If you need any further assistance, please let me know.\n"
     ]
    }
   ],
   "source": [
    "# Example usage:\n",
    "query = \"yes\"\n",
    "agent = setup_sql_agent(query, llm, db, sql_memory, few_shot_examples, user, current_date, end_date, job_status)\n",
    "print(agent)"
   ]
  },
  {
   "cell_type": "code",
   "execution_count": 9,
   "metadata": {},
   "outputs": [
    {
     "name": "stdout",
     "output_type": "stream",
     "text": [
      "\n",
      "\n",
      "\u001b[1m> Entering new SQL Agent Executor chain...\u001b[0m\n",
      "\u001b[32;1m\u001b[1;3m\n",
      "Invoking: `sql_db_query` with `{'query': 'SELECT * FROM employees WHERE Employee_Name = \"user\"'}`\n",
      "\n",
      "\n",
      "\u001b[0m\u001b[36;1m\u001b[1;3m\u001b[0m\u001b[32;1m\u001b[1;3mI apologize for the inconvenience. It seems there was an error in retrieving your leave application. Please let me know if you need any further assistance.\u001b[0m\n",
      "\n",
      "\u001b[1m> Finished chain.\u001b[0m\n",
      "I apologize for the inconvenience. It seems there was an error in retrieving your leave application. Please let me know if you need any further assistance.\n"
     ]
    }
   ],
   "source": [
    "# Example usage:\n",
    "query = \"Where is my application?\"\n",
    "agent = setup_sql_agent(query, llm, db, sql_memory, few_shot_examples, user, current_date, end_date, job_status)\n",
    "print(agent)"
   ]
  },
  {
   "cell_type": "code",
   "execution_count": null,
   "metadata": {},
   "outputs": [],
   "source": []
  }
 ],
 "metadata": {
  "kernelspec": {
   "display_name": ".venv",
   "language": "python",
   "name": "python3"
  },
  "language_info": {
   "codemirror_mode": {
    "name": "ipython",
    "version": 3
   },
   "file_extension": ".py",
   "mimetype": "text/x-python",
   "name": "python",
   "nbconvert_exporter": "python",
   "pygments_lexer": "ipython3",
   "version": "3.10.0"
  }
 },
 "nbformat": 4,
 "nbformat_minor": 2
}
