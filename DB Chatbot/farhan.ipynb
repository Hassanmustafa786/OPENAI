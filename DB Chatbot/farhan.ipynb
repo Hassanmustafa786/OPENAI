{
 "cells": [
  {
   "cell_type": "code",
   "execution_count": 1,
   "metadata": {},
   "outputs": [],
   "source": [
    "from dotenv import load_dotenv\n",
    "from operator import itemgetter\n",
    "from examples import few_shot_examples\n",
    "from langchain_community.utilities import SQLDatabase\n",
    "from langchain.chains import create_sql_query_chain\n",
    "from langchain_openai import ChatOpenAI\n",
    "from langchain_community.tools.sql_database.tool import QuerySQLDataBaseTool\n",
    "from langchain_core.output_parsers import StrOutputParser\n",
    "from langchain_core.prompts import ChatPromptTemplate, MessagesPlaceholder,FewShotChatMessagePromptTemplate,PromptTemplate\n",
    "from langchain_core.runnables import RunnablePassthrough\n",
    "from langchain_community.vectorstores import Chroma\n",
    "from langchain_core.example_selectors import SemanticSimilarityExampleSelector\n",
    "from langchain_openai import OpenAIEmbeddings\n",
    "from langchain.memory import ChatMessageHistory\n",
    "\n",
    "load_dotenv()\n",
    "llm = ChatOpenAI(model=\"gpt-3.5-turbo\", temperature=0.2)\n",
    "history = ChatMessageHistory()\n",
    "vectorstore = Chroma()\n",
    "vectorstore.delete_collection()\n",
    "example_selector = SemanticSimilarityExampleSelector.from_examples(\n",
    "    few_shot_examples,\n",
    "    OpenAIEmbeddings(),  \n",
    "    vectorstore,\n",
    "    k=5,\n",
    "    input_keys=[\"input\"],\n",
    ")"
   ]
  },
  {
   "cell_type": "code",
   "execution_count": 2,
   "metadata": {},
   "outputs": [],
   "source": [
    "sqlite_uri = 'sqlite:///Excel and databases/Data3.db' \n",
    "db = SQLDatabase.from_uri(sqlite_uri)\n",
    "# db.dialect\n",
    "# db.get_usable_table_names()\n",
    "# db.run(\"SELECT * FROM employees;\")\n",
    "# db.run(\"SELECT * FROM perks;\")\n",
    "# db.run(\"SELECT * FROM benefits;\")\n",
    "# db.run(\"SELECT * FROM insurance;\")"
   ]
  },
  {
   "cell_type": "code",
   "execution_count": 3,
   "metadata": {},
   "outputs": [
    {
     "name": "stdout",
     "output_type": "stream",
     "text": [
      "SELECT date('now');\n"
     ]
    }
   ],
   "source": [
    "question=\"Hi\"\n",
    "generate_query = create_sql_query_chain(llm, db)\n",
    "sql_query = generate_query.invoke({\"question\": question})\n",
    "print(sql_query)"
   ]
  },
  {
   "cell_type": "code",
   "execution_count": 4,
   "metadata": {},
   "outputs": [
    {
     "data": {
      "text/plain": [
       "RunnableAssign(mapper={\n",
       "  input: RunnableLambda(...),\n",
       "  table_info: RunnableLambda(...)\n",
       "})\n",
       "| RunnableLambda(lambda x: {k: v for (k, v) in x.items() if k not in ('question', 'table_names_to_use')})\n",
       "| PromptTemplate(input_variables=['input', 'table_info'], partial_variables={'top_k': '5'}, template='You are a SQLite expert. Given an input question, first create a syntactically correct SQLite query to run, then look at the results of the query and return the answer to the input question.\\nUnless the user specifies in the question a specific number of examples to obtain, query for at most {top_k} results using the LIMIT clause as per SQLite. You can order the results to return the most informative data in the database.\\nNever query for all columns from a table. You must query only the columns that are needed to answer the question. Wrap each column name in double quotes (\") to denote them as delimited identifiers.\\nPay attention to use only the column names you can see in the tables below. Be careful to not query for columns that do not exist. Also, pay attention to which column is in which table.\\nPay attention to use date(\\'now\\') function to get the current date, if the question involves \"today\".\\n\\nUse the following format:\\n\\nQuestion: Question here\\nSQLQuery: SQL Query to run\\nSQLResult: Result of the SQLQuery\\nAnswer: Final answer here\\n\\nOnly use the following tables:\\n{table_info}\\n\\nQuestion: {input}')\n",
       "| RunnableBinding(bound=ChatOpenAI(client=<openai.resources.chat.completions.Completions object at 0x000002DBACDC2050>, async_client=<openai.resources.chat.completions.AsyncCompletions object at 0x000002DBACDC3820>, temperature=0.2, openai_api_key=SecretStr('**********'), openai_proxy=''), kwargs={'stop': ['\\nSQLResult:']})\n",
       "| StrOutputParser()\n",
       "| RunnableLambda(_strip)\n",
       "| QuerySQLDataBaseTool(db=<langchain_community.utilities.sql_database.SQLDatabase object at 0x000002DBA28FB130>)"
      ]
     },
     "execution_count": 4,
     "metadata": {},
     "output_type": "execute_result"
    }
   ],
   "source": [
    "execute_query = QuerySQLDataBaseTool(db=db)\n",
    "execute_query.invoke(sql_query)\n",
    "\n",
    "chain = generate_query | execute_query\n",
    "\n",
    "answer_prompt = PromptTemplate.from_template(\n",
    "    \"\"\"Given the following user question, corresponding SQL query, and SQL result, answer the user questiony.Your answer should contain thank you at the end of messages.\n",
    "\n",
    "Question: {question}\n",
    "SQL Query: {query}\n",
    "SQL Result: {result}\n",
    "Answer: \"\"\"\n",
    ")\n",
    "chain"
   ]
  },
  {
   "cell_type": "code",
   "execution_count": 5,
   "metadata": {},
   "outputs": [
    {
     "data": {
      "text/plain": [
       "RunnableAssign(mapper={\n",
       "  query: RunnableAssign(mapper={\n",
       "           input: RunnableLambda(...),\n",
       "           table_info: RunnableLambda(...)\n",
       "         })\n",
       "         | RunnableLambda(lambda x: {k: v for (k, v) in x.items() if k not in ('question', 'table_names_to_use')})\n",
       "         | PromptTemplate(input_variables=['input', 'table_info'], partial_variables={'top_k': '5'}, template='You are a SQLite expert. Given an input question, first create a syntactically correct SQLite query to run, then look at the results of the query and return the answer to the input question.\\nUnless the user specifies in the question a specific number of examples to obtain, query for at most {top_k} results using the LIMIT clause as per SQLite. You can order the results to return the most informative data in the database.\\nNever query for all columns from a table. You must query only the columns that are needed to answer the question. Wrap each column name in double quotes (\") to denote them as delimited identifiers.\\nPay attention to use only the column names you can see in the tables below. Be careful to not query for columns that do not exist. Also, pay attention to which column is in which table.\\nPay attention to use date(\\'now\\') function to get the current date, if the question involves \"today\".\\n\\nUse the following format:\\n\\nQuestion: Question here\\nSQLQuery: SQL Query to run\\nSQLResult: Result of the SQLQuery\\nAnswer: Final answer here\\n\\nOnly use the following tables:\\n{table_info}\\n\\nQuestion: {input}')\n",
       "         | RunnableBinding(bound=ChatOpenAI(client=<openai.resources.chat.completions.Completions object at 0x000002DBACDC2050>, async_client=<openai.resources.chat.completions.AsyncCompletions object at 0x000002DBACDC3820>, temperature=0.2, openai_api_key=SecretStr('**********'), openai_proxy=''), kwargs={'stop': ['\\nSQLResult:']})\n",
       "         | StrOutputParser()\n",
       "         | RunnableLambda(_strip)\n",
       "})\n",
       "| RunnableAssign(mapper={\n",
       "    result: RunnableLambda(itemgetter('query'))\n",
       "            | QuerySQLDataBaseTool(db=<langchain_community.utilities.sql_database.SQLDatabase object at 0x000002DBA28FB130>)\n",
       "  })\n",
       "| PromptTemplate(input_variables=['query', 'question', 'result'], template='Given the following user question, corresponding SQL query, and SQL result, answer the user questiony.Your answer should contain thank you at the end of messages.\\n\\nQuestion: {question}\\nSQL Query: {query}\\nSQL Result: {result}\\nAnswer: ')\n",
       "| ChatOpenAI(client=<openai.resources.chat.completions.Completions object at 0x000002DBACDC2050>, async_client=<openai.resources.chat.completions.AsyncCompletions object at 0x000002DBACDC3820>, temperature=0.2, openai_api_key=SecretStr('**********'), openai_proxy='')\n",
       "| StrOutputParser()"
      ]
     },
     "execution_count": 5,
     "metadata": {},
     "output_type": "execute_result"
    }
   ],
   "source": [
    "rephrase_answer = answer_prompt | llm | StrOutputParser()\n",
    "\n",
    "chain = (\n",
    "    RunnablePassthrough.assign(query=generate_query).assign(\n",
    "        result=itemgetter(\"query\") | execute_query\n",
    "    )\n",
    "    | rephrase_answer\n",
    ")\n",
    "chain"
   ]
  },
  {
   "cell_type": "code",
   "execution_count": 6,
   "metadata": {},
   "outputs": [
    {
     "data": {
      "text/plain": [
       "ChatPromptTemplate(input_variables=['input', 'query'], messages=[HumanMessagePromptTemplate(prompt=PromptTemplate(input_variables=['input'], template='{input}\\nSQLQuery:')), AIMessagePromptTemplate(prompt=PromptTemplate(input_variables=['query'], template='{query}'))])"
      ]
     },
     "execution_count": 6,
     "metadata": {},
     "output_type": "execute_result"
    }
   ],
   "source": [
    "example_prompt = ChatPromptTemplate.from_messages(\n",
    "    [\n",
    "        (\"human\", \"{input}\\nSQLQuery:\"),\n",
    "        (\"ai\", \"{query}\"),\n",
    "    ]\n",
    ")\n",
    "example_prompt"
   ]
  },
  {
   "cell_type": "code",
   "execution_count": 7,
   "metadata": {},
   "outputs": [
    {
     "data": {
      "text/plain": [
       "FewShotChatMessagePromptTemplate(example_selector=SemanticSimilarityExampleSelector(vectorstore=<langchain_community.vectorstores.chroma.Chroma object at 0x000002DBADB54EE0>, k=5, example_keys=None, input_keys=['input'], vectorstore_kwargs=None), input_variables=['input', 'top_k'], example_prompt=ChatPromptTemplate(input_variables=['input', 'query'], messages=[HumanMessagePromptTemplate(prompt=PromptTemplate(input_variables=['input'], template='{input}\\nSQLQuery:')), AIMessagePromptTemplate(prompt=PromptTemplate(input_variables=['query'], template='{query}'))]))"
      ]
     },
     "execution_count": 7,
     "metadata": {},
     "output_type": "execute_result"
    }
   ],
   "source": [
    "few_shot_prompt = FewShotChatMessagePromptTemplate(\n",
    "    example_prompt=example_prompt,\n",
    "    example_selector=example_selector,\n",
    "    input_variables=[\"input\", \"top_k\"],\n",
    ")\n",
    "few_shot_prompt"
   ]
  },
  {
   "cell_type": "code",
   "execution_count": 32,
   "metadata": {},
   "outputs": [
    {
     "name": "stdout",
     "output_type": "stream",
     "text": [
      "2024-May-08\n"
     ]
    }
   ],
   "source": [
    "import time\n",
    "from datetime import datetime\n",
    "\n",
    "user = \"Alex\"\n",
    "gender = \"Male\"\n",
    "designation = \"GM\"\n",
    "current_time = time.time()\n",
    "current_date = datetime.utcfromtimestamp(current_time).strftime('%Y-%B-%d')\n",
    "print(current_date)"
   ]
  },
  {
   "cell_type": "code",
   "execution_count": 40,
   "metadata": {},
   "outputs": [],
   "source": [
    "system_message = f\"\"\"\n",
    "Your name is Hira, friendly HR of Meezan Bank of Pakistan. You are responsible to solve {user} queries only which relates to the {user} information.\n",
    "Your task is to identify if the user wants to see the leave data or applying for a leave after analyzing the whole conversation.\n",
    "The current date is {current_date}.\n",
    "You have to three types of leave data available in your database (Annual, Casual, Sick).\n",
    "Make sure users can only select previous dates for sick leave. The dates for annual and casual leave should be after {current_date} \n",
    "You are designed to interact with a SQL database specifically for {user}, {gender}, and {designation}.\n",
    "\"\"\" + \"\"\"\n",
    "Given an input question, create a syntactically correct sqlite query to run, then look at the results of the query and return the answer.\n",
    "Unless the user specifies a specific number of examples they wish to obtain, always limit your query to at most 5 results.\n",
    "You can order the results by a relevant column to return the most interesting examples in the database.\n",
    "Never query for all the columns from a specific table, only ask for the relevant columns given the question.\n",
    "You have access to tools for interacting with the database.\n",
    "Only use the given tools. Only use the information returned by the tools to construct your final answer.\n",
    "You MUST double check your query before executing it. If you get an error while executing a query, rewrite the query and try again.\n",
    "DO NOT make any DML statements (INSERT, UPDATE, DELETE, DROP etc.) to the database.\n",
    "\"\"\" + f\"\"\"\n",
    "Don't give false information.\n",
    "If a user wants to chat with you then generate response accordingly. \n",
    "You're allowed to talk with the user in a friendly way.\n",
    "You're allowed to give only {user} information and nothing else.\n",
    "Make sure if {user} ask anything related to the database then simply apologize in a professional tone.\n",
    "If a {user} asking anyone's details present in the database, just return \"You are not authorized to access employee details. You may only access your own information.\".\n",
    "\n",
    "Stick to this professional tone and engage the user by asking other leave related question.\n",
    "\n",
    "In this part, you have only conern with leaves data of you have only three types of leaves ( Annual, Casual, Sick ).  \\n\n",
    "regarding leaves, {user} can ask two type of queries ( want to see leaves data or apply for a leaves ). If you are confuse or not confirm \\n\n",
    "that whether a {user} want to see leaves data or apply then this is your responsibility to confirm first then proceed next. \n",
    "Do not show the all information in a single prompt. you must follow the steps. below are some infomation about steps.\n",
    "\n",
    "You must confirm the type of leaves first then show only this leave type information.\n",
    "- If {user} want to see leaves data, then you must follow below steps for it.\n",
    "    1- first ask the type of the leave, ( Annual, Casual, Sick ) .\n",
    "    2- If user select 'sick' or ask, then show 'sick data' only with some prayer message of the {user}.\n",
    "    3- If user select 'casual', then show only 'casual data' only, with asking in a friendly tone that 'are you planning for some holiday? or this type \\n\n",
    "       of other question'.\n",
    "    4- If user select 'annual', then show only 'annual data' only, with asking in a friendly tone that 'are you planning for some vacation with family? or \\n\n",
    "        this type of other question'.\n",
    "\n",
    "- If {user} wants to apply for leaves, then you must follow below steps for it.\n",
    "    1- first ask the type of the leave, ( Annual, Casual, Sick ) .\n",
    "    2- If user select 'sick', then show 'sick data' only with some prayer message for the {user}. Also ask for a dates for taking/applying a 'sick leaves'.\n",
    "        2.1- When user tell you the dates, then tell her/him, 'Can I write a sick leave application for you according to your given dates?'. If {user} say 'yes' \n",
    "            ,then application according to the given information. Make sure {user} can only select previous dates for sick leave.\n",
    "    3- If user select 'casual', then show only 'casual data' only, with asking in a friendly tone that 'are you planning for some holiday? or \\n\n",
    "        this type of other question'. also ask for a dates for taking/applying a 'casual leaves'\n",
    "        3.1- When user tell you the dates, then check the given dates and make sure it should not fall in the blackout dates. Make sure the dates for casual leave should be after {current_date}.\n",
    "        3.2- If the given dates are fall/present in a blackout dates, then apologize to {user} and inform her/him that the given dates are falling in the blackout \\n\n",
    "            dates along with the reason and suggest him/her some months/dates that are not fall in blackouts or tell him/her to select other dates. \\n\n",
    "        3.3- If the given dates are not fall in blackout dates then tell him/her happily that the given dates are available with reason( because \\n\n",
    "            the given dates are not falling in blackout dates) for you to take a leave, and suddenly ask then 'Can I write a casual leave application for you with your given dates?'. If {user} \\n\n",
    "            say 'yes', then type application according to the given information.\t\n",
    "    4- If user select 'annual' , then show only annual data' only, with asking in a friendly tone that 'are you planning for some vacation? or \\n\n",
    "        this type of other question'. also ask for a dates for taking/applying a annual leaves'\n",
    "        4.1- When user tell you the dates, then check the given dates and make sure it should not fall in the blackout dates. Make sure the dates for annual leave should be after {current_date}.\n",
    "        4.2- If the given dates are fall/present in a blackout dates, then apologize to {user} and inform her/him that 'the given dates are falling in the blackout \\n\n",
    "            dates along with the reason' and suggest him/her some months/dates that are not fall in blackouts or tell him/her to select other dates. \\n\n",
    "        4.3- If the given dates are not fall in blackout dates then tell him/her happily that the given dates are available with reason( because \\n\n",
    "            the given dates are not falling in blackout dates) for you to take a leave, and suddenly ask then 'Can I write annual leave application for you along with your given dates?'. If {user} \\n\n",
    "            say 'yes', then type application according to the given information.\n",
    "        4.4 - Here are the blackout dates that must not coincide with your leave requests:\n",
    "                - December 1st, 2024 to December 10th, 2024 (due to audit period)\n",
    "                - January 1st, 2024 to January 10th, 2024 (due to system maintenance)\n",
    "                - February 1st, 2025 to February 10th, 2025 (business season).\n",
    "\n",
    "Make sure you have asked all the questions that mentioned above before proceeding further queries.\n",
    "\"\"\""
   ]
  },
  {
   "cell_type": "code",
   "execution_count": 41,
   "metadata": {},
   "outputs": [],
   "source": [
    "final_prompt = ChatPromptTemplate.from_messages(\n",
    "    [\n",
    "        (\"system\", system_message +\n",
    "         \"\"\"Here is the relevant table info: {table_info}.\n",
    "            Maintain a professional tone and provide precise, to-the-point answers.\n",
    "            Below are a number of examples of questions and their corresponding SQL queries. \n",
    "        \"\"\"),\n",
    "        few_shot_prompt,\n",
    "        MessagesPlaceholder(variable_name=\"messages\"),\n",
    "        (\"human\", \"{input}\"),\n",
    "    ]\n",
    ")\n"
   ]
  },
  {
   "cell_type": "code",
   "execution_count": 42,
   "metadata": {},
   "outputs": [
    {
     "data": {
      "text/plain": [
       "RunnableAssign(mapper={\n",
       "  input: RunnableLambda(...),\n",
       "  table_info: RunnableLambda(...)\n",
       "})\n",
       "| RunnableLambda(lambda x: {k: v for (k, v) in x.items() if k not in ('question', 'table_names_to_use')})\n",
       "| ChatPromptTemplate(input_variables=['input', 'messages', 'table_info'], input_types={'messages': typing.List[typing.Union[langchain_core.messages.ai.AIMessage, langchain_core.messages.human.HumanMessage, langchain_core.messages.chat.ChatMessage, langchain_core.messages.system.SystemMessage, langchain_core.messages.function.FunctionMessage, langchain_core.messages.tool.ToolMessage]]}, partial_variables={'top_k': '5'}, messages=[SystemMessagePromptTemplate(prompt=PromptTemplate(input_variables=['table_info'], template='\\nYour name is Hira, friendly HR of Meezan Bank of Pakistan. You are responsible to solve Alex queries only which relates to the Alex information.\\nYour task is to identify if the user wants to see the leave data or applying for a leave after analyzing the whole conversation.\\nThe current date is 2024-May-08.\\nYou have to three types of leave data available in your database (Annual, Casual, Sick).\\nMake sure users can only select previous dates for sick leave. The dates for annual and casual leave should be after 2024-May-08 \\nYou are designed to interact with a SQL database specifically for Alex, Male, and GM.\\n\\nGiven an input question, create a syntactically correct sqlite query to run, then look at the results of the query and return the answer.\\nUnless the user specifies a specific number of examples they wish to obtain, always limit your query to at most 5 results.\\nYou can order the results by a relevant column to return the most interesting examples in the database.\\nNever query for all the columns from a specific table, only ask for the relevant columns given the question.\\nYou have access to tools for interacting with the database.\\nOnly use the given tools. Only use the information returned by the tools to construct your final answer.\\nYou MUST double check your query before executing it. If you get an error while executing a query, rewrite the query and try again.\\nDO NOT make any DML statements (INSERT, UPDATE, DELETE, DROP etc.) to the database.\\n\\nDon\\'t give false information.\\nIf a user wants to chat with you then generate response accordingly. \\nYou\\'re allowed to talk with the user in a friendly way.\\nYou\\'re allowed to give only Alex information and nothing else.\\nMake sure if Alex ask anything related to the database then simply apologize in a professional tone.\\nIf a Alex asking anyone\\'s details present in the database, just return \"You are not authorized to access employee details. You may only access your own information.\".\\n\\nStick to this professional tone and engage the user by asking other leave related question.\\n\\nIn this part, you have only conern with leaves data of you have only three types of leaves ( Annual, Casual, Sick ).  \\n\\nregarding leaves, Alex can ask two type of queries ( want to see leaves data or apply for a leaves ). If you are confuse or not confirm \\n\\nthat whether a Alex want to see leaves data or apply then this is your responsibility to confirm first then proceed next. \\nDo not show the all information in a single prompt. you must follow the steps. below are some infomation about steps.\\n\\nYou must confirm the type of leaves first then show only this leave type information.\\n- If Alex want to see leaves data, then you must follow below steps for it.\\n    1- first ask the type of the leave, ( Annual, Casual, Sick ) .\\n    2- If user select \\'sick\\' or ask, then show \\'sick data\\' only with some prayer message of the Alex.\\n    3- If user select \\'casual\\', then show only \\'casual data\\' only, with asking in a friendly tone that \\'are you planning for some holiday? or this type \\n\\n       of other question\\'.\\n    4- If user select \\'annual\\', then show only \\'annual data\\' only, with asking in a friendly tone that \\'are you planning for some vacation with family? or \\n\\n        this type of other question\\'.\\n\\n- If Alex wants to apply for leaves, then you must follow below steps for it.\\n    1- first ask the type of the leave, ( Annual, Casual, Sick ) .\\n    2- If user select \\'sick\\', then show \\'sick data\\' only with some prayer message for the Alex. Also ask for a dates for taking/applying a \\'sick leaves\\'.\\n        2.1- When user tell you the dates, then tell her/him, \\'Can I write a sick leave application for you according to your given dates?\\'. If Alex say \\'yes\\' \\n            ,then application according to the given information. Make sure Alex can only select previous dates for sick leave.\\n    3- If user select \\'casual\\', then show only \\'casual data\\' only, with asking in a friendly tone that \\'are you planning for some holiday? or \\n\\n        this type of other question\\'. also ask for a dates for taking/applying a \\'casual leaves\\'\\n        3.1- When user tell you the dates, then check the given dates and make sure it should not fall in the blackout dates. Make sure the dates for casual leave should be after 2024-May-08.\\n        3.2- If the given dates are fall/present in a blackout dates, then apologize to Alex and inform her/him that the given dates are falling in the blackout \\n\\n            dates along with the reason and suggest him/her some months/dates that are not fall in blackouts or tell him/her to select other dates. \\n\\n        3.3- If the given dates are not fall in blackout dates then tell him/her happily that the given dates are available with reason( because \\n\\n            the given dates are not falling in blackout dates) for you to take a leave, and suddenly ask then \\'Can I write a casual leave application for you with your given dates?\\'. If Alex \\n\\n            say \\'yes\\', then type application according to the given information.\\t\\n    4- If user select \\'annual\\' , then show only annual data\\' only, with asking in a friendly tone that \\'are you planning for some vacation? or \\n\\n        this type of other question\\'. also ask for a dates for taking/applying a annual leaves\\'\\n        4.1- When user tell you the dates, then check the given dates and make sure it should not fall in the blackout dates. Make sure the dates for annual leave should be after 2024-May-08.\\n        4.2- If the given dates are fall/present in a blackout dates, then apologize to Alex and inform her/him that \\'the given dates are falling in the blackout \\n\\n            dates along with the reason\\' and suggest him/her some months/dates that are not fall in blackouts or tell him/her to select other dates. \\n\\n        4.3- If the given dates are not fall in blackout dates then tell him/her happily that the given dates are available with reason( because \\n\\n            the given dates are not falling in blackout dates) for you to take a leave, and suddenly ask then \\'Can I write annual leave application for you along with your given dates?\\'. If Alex \\n\\n            say \\'yes\\', then type application according to the given information.\\n        4.4 - Here are the blackout dates that must not coincide with your leave requests:\\n                - December 1st, 2024 to December 10th, 2024 (due to audit period)\\n                - January 1st, 2024 to January 10th, 2024 (due to system maintenance)\\n                - February 1st, 2025 to February 10th, 2025 (business season).\\n\\nMake sure you have asked all the questions that mentioned above before proceeding further queries.\\nHere is the relevant table info: {table_info}.\\n            Maintain a professional tone and provide precise, to-the-point answers.\\n            Below are a number of examples of questions and their corresponding SQL queries. \\n        ')), FewShotChatMessagePromptTemplate(example_selector=SemanticSimilarityExampleSelector(vectorstore=<langchain_community.vectorstores.chroma.Chroma object at 0x000002DBADB54EE0>, k=5, example_keys=None, input_keys=['input'], vectorstore_kwargs=None), input_variables=['input', 'top_k'], example_prompt=ChatPromptTemplate(input_variables=['input', 'query'], messages=[HumanMessagePromptTemplate(prompt=PromptTemplate(input_variables=['input'], template='{input}\\nSQLQuery:')), AIMessagePromptTemplate(prompt=PromptTemplate(input_variables=['query'], template='{query}'))])), MessagesPlaceholder(variable_name='messages'), HumanMessagePromptTemplate(prompt=PromptTemplate(input_variables=['input'], template='{input}'))])\n",
       "| RunnableBinding(bound=ChatOpenAI(client=<openai.resources.chat.completions.Completions object at 0x000002DBACDC2050>, async_client=<openai.resources.chat.completions.AsyncCompletions object at 0x000002DBACDC3820>, temperature=0.2, openai_api_key=SecretStr('**********'), openai_proxy=''), kwargs={'stop': ['\\nSQLResult:']})\n",
       "| StrOutputParser()\n",
       "| RunnableLambda(_strip)"
      ]
     },
     "execution_count": 42,
     "metadata": {},
     "output_type": "execute_result"
    }
   ],
   "source": [
    "generate_query = create_sql_query_chain(llm, db, final_prompt)\n",
    "generate_query"
   ]
  },
  {
   "cell_type": "code",
   "execution_count": 43,
   "metadata": {},
   "outputs": [
    {
     "data": {
      "text/plain": [
       "RunnableAssign(mapper={\n",
       "  query: RunnableAssign(mapper={\n",
       "           input: RunnableLambda(...),\n",
       "           table_info: RunnableLambda(...)\n",
       "         })\n",
       "         | RunnableLambda(lambda x: {k: v for (k, v) in x.items() if k not in ('question', 'table_names_to_use')})\n",
       "         | ChatPromptTemplate(input_variables=['input', 'messages', 'table_info'], input_types={'messages': typing.List[typing.Union[langchain_core.messages.ai.AIMessage, langchain_core.messages.human.HumanMessage, langchain_core.messages.chat.ChatMessage, langchain_core.messages.system.SystemMessage, langchain_core.messages.function.FunctionMessage, langchain_core.messages.tool.ToolMessage]]}, partial_variables={'top_k': '5'}, messages=[SystemMessagePromptTemplate(prompt=PromptTemplate(input_variables=['table_info'], template='\\nYour name is Hira, friendly HR of Meezan Bank of Pakistan. You are responsible to solve Alex queries only which relates to the Alex information.\\nYour task is to identify if the user wants to see the leave data or applying for a leave after analyzing the whole conversation.\\nThe current date is 2024-May-08.\\nYou have to three types of leave data available in your database (Annual, Casual, Sick).\\nMake sure users can only select previous dates for sick leave. The dates for annual and casual leave should be after 2024-May-08 \\nYou are designed to interact with a SQL database specifically for Alex, Male, and GM.\\n\\nGiven an input question, create a syntactically correct sqlite query to run, then look at the results of the query and return the answer.\\nUnless the user specifies a specific number of examples they wish to obtain, always limit your query to at most 5 results.\\nYou can order the results by a relevant column to return the most interesting examples in the database.\\nNever query for all the columns from a specific table, only ask for the relevant columns given the question.\\nYou have access to tools for interacting with the database.\\nOnly use the given tools. Only use the information returned by the tools to construct your final answer.\\nYou MUST double check your query before executing it. If you get an error while executing a query, rewrite the query and try again.\\nDO NOT make any DML statements (INSERT, UPDATE, DELETE, DROP etc.) to the database.\\n\\nDon\\'t give false information.\\nIf a user wants to chat with you then generate response accordingly. \\nYou\\'re allowed to talk with the user in a friendly way.\\nYou\\'re allowed to give only Alex information and nothing else.\\nMake sure if Alex ask anything related to the database then simply apologize in a professional tone.\\nIf a Alex asking anyone\\'s details present in the database, just return \"You are not authorized to access employee details. You may only access your own information.\".\\n\\nStick to this professional tone and engage the user by asking other leave related question.\\n\\nIn this part, you have only conern with leaves data of you have only three types of leaves ( Annual, Casual, Sick ).  \\n\\nregarding leaves, Alex can ask two type of queries ( want to see leaves data or apply for a leaves ). If you are confuse or not confirm \\n\\nthat whether a Alex want to see leaves data or apply then this is your responsibility to confirm first then proceed next. \\nDo not show the all information in a single prompt. you must follow the steps. below are some infomation about steps.\\n\\nYou must confirm the type of leaves first then show only this leave type information.\\n- If Alex want to see leaves data, then you must follow below steps for it.\\n    1- first ask the type of the leave, ( Annual, Casual, Sick ) .\\n    2- If user select \\'sick\\' or ask, then show \\'sick data\\' only with some prayer message of the Alex.\\n    3- If user select \\'casual\\', then show only \\'casual data\\' only, with asking in a friendly tone that \\'are you planning for some holiday? or this type \\n\\n       of other question\\'.\\n    4- If user select \\'annual\\', then show only \\'annual data\\' only, with asking in a friendly tone that \\'are you planning for some vacation with family? or \\n\\n        this type of other question\\'.\\n\\n- If Alex wants to apply for leaves, then you must follow below steps for it.\\n    1- first ask the type of the leave, ( Annual, Casual, Sick ) .\\n    2- If user select \\'sick\\', then show \\'sick data\\' only with some prayer message for the Alex. Also ask for a dates for taking/applying a \\'sick leaves\\'.\\n        2.1- When user tell you the dates, then tell her/him, \\'Can I write a sick leave application for you according to your given dates?\\'. If Alex say \\'yes\\' \\n            ,then application according to the given information. Make sure Alex can only select previous dates for sick leave.\\n    3- If user select \\'casual\\', then show only \\'casual data\\' only, with asking in a friendly tone that \\'are you planning for some holiday? or \\n\\n        this type of other question\\'. also ask for a dates for taking/applying a \\'casual leaves\\'\\n        3.1- When user tell you the dates, then check the given dates and make sure it should not fall in the blackout dates. Make sure the dates for casual leave should be after 2024-May-08.\\n        3.2- If the given dates are fall/present in a blackout dates, then apologize to Alex and inform her/him that the given dates are falling in the blackout \\n\\n            dates along with the reason and suggest him/her some months/dates that are not fall in blackouts or tell him/her to select other dates. \\n\\n        3.3- If the given dates are not fall in blackout dates then tell him/her happily that the given dates are available with reason( because \\n\\n            the given dates are not falling in blackout dates) for you to take a leave, and suddenly ask then \\'Can I write a casual leave application for you with your given dates?\\'. If Alex \\n\\n            say \\'yes\\', then type application according to the given information.\\t\\n    4- If user select \\'annual\\' , then show only annual data\\' only, with asking in a friendly tone that \\'are you planning for some vacation? or \\n\\n        this type of other question\\'. also ask for a dates for taking/applying a annual leaves\\'\\n        4.1- When user tell you the dates, then check the given dates and make sure it should not fall in the blackout dates. Make sure the dates for annual leave should be after 2024-May-08.\\n        4.2- If the given dates are fall/present in a blackout dates, then apologize to Alex and inform her/him that \\'the given dates are falling in the blackout \\n\\n            dates along with the reason\\' and suggest him/her some months/dates that are not fall in blackouts or tell him/her to select other dates. \\n\\n        4.3- If the given dates are not fall in blackout dates then tell him/her happily that the given dates are available with reason( because \\n\\n            the given dates are not falling in blackout dates) for you to take a leave, and suddenly ask then \\'Can I write annual leave application for you along with your given dates?\\'. If Alex \\n\\n            say \\'yes\\', then type application according to the given information.\\n        4.4 - Here are the blackout dates that must not coincide with your leave requests:\\n                - December 1st, 2024 to December 10th, 2024 (due to audit period)\\n                - January 1st, 2024 to January 10th, 2024 (due to system maintenance)\\n                - February 1st, 2025 to February 10th, 2025 (business season).\\n\\nMake sure you have asked all the questions that mentioned above before proceeding further queries.\\nHere is the relevant table info: {table_info}.\\n            Maintain a professional tone and provide precise, to-the-point answers.\\n            Below are a number of examples of questions and their corresponding SQL queries. \\n        ')), FewShotChatMessagePromptTemplate(example_selector=SemanticSimilarityExampleSelector(vectorstore=<langchain_community.vectorstores.chroma.Chroma object at 0x000002DBADB54EE0>, k=5, example_keys=None, input_keys=['input'], vectorstore_kwargs=None), input_variables=['input', 'top_k'], example_prompt=ChatPromptTemplate(input_variables=['input', 'query'], messages=[HumanMessagePromptTemplate(prompt=PromptTemplate(input_variables=['input'], template='{input}\\nSQLQuery:')), AIMessagePromptTemplate(prompt=PromptTemplate(input_variables=['query'], template='{query}'))])), MessagesPlaceholder(variable_name='messages'), HumanMessagePromptTemplate(prompt=PromptTemplate(input_variables=['input'], template='{input}'))])\n",
       "         | RunnableBinding(bound=ChatOpenAI(client=<openai.resources.chat.completions.Completions object at 0x000002DBACDC2050>, async_client=<openai.resources.chat.completions.AsyncCompletions object at 0x000002DBACDC3820>, temperature=0.2, openai_api_key=SecretStr('**********'), openai_proxy=''), kwargs={'stop': ['\\nSQLResult:']})\n",
       "         | StrOutputParser()\n",
       "         | RunnableLambda(_strip)\n",
       "})\n",
       "| RunnableAssign(mapper={\n",
       "    result: RunnableLambda(itemgetter('query'))\n",
       "            | QuerySQLDataBaseTool(db=<langchain_community.utilities.sql_database.SQLDatabase object at 0x000002DBA28FB130>)\n",
       "  })\n",
       "| PromptTemplate(input_variables=['query', 'question', 'result'], template='Given the following user question, corresponding SQL query, and SQL result, answer the user questiony.Your answer should contain thank you at the end of messages.\\n\\nQuestion: {question}\\nSQL Query: {query}\\nSQL Result: {result}\\nAnswer: ')\n",
       "| ChatOpenAI(client=<openai.resources.chat.completions.Completions object at 0x000002DBACDC2050>, async_client=<openai.resources.chat.completions.AsyncCompletions object at 0x000002DBACDC3820>, temperature=0.2, openai_api_key=SecretStr('**********'), openai_proxy='')\n",
       "| StrOutputParser()"
      ]
     },
     "execution_count": 43,
     "metadata": {},
     "output_type": "execute_result"
    }
   ],
   "source": [
    "chain = (\n",
    "# RunnablePassthrough.assign(table_names_to_use=select_table) |\n",
    "RunnablePassthrough.assign(query=generate_query).assign(\n",
    "    result=itemgetter(\"query\") | execute_query\n",
    ")\n",
    "| rephrase_answer\n",
    ")\n",
    "chain"
   ]
  },
  {
   "cell_type": "code",
   "execution_count": 44,
   "metadata": {},
   "outputs": [],
   "source": [
    "def langchain_query_executor(query):\n",
    "    response = chain.invoke({\"question\": query, \n",
    "                             \"messages\": history.messages})\n",
    "    history.add_user_message(query)\n",
    "    history.add_ai_message(response)\n",
    "    print(history.messages)\n",
    "    return response"
   ]
  },
  {
   "cell_type": "code",
   "execution_count": 45,
   "metadata": {},
   "outputs": [
    {
     "name": "stdout",
     "output_type": "stream",
     "text": [
      "[HumanMessage(content='Tell me my perks and benefits'), AIMessage(content=\"I'm sorry, but you are not authorized to access employee details. You may only access your own information. Thank you.\"), HumanMessage(content='Hi'), AIMessage(content=\"I'm sorry, but there seems to be a syntax error in the SQL query. Can you please provide more information or clarify your question? Thank you.\"), HumanMessage(content='Who are you?'), AIMessage(content='I am a language model AI designed to assist you with your queries. How can I help you today? Thank you.'), HumanMessage(content='What was last question that I asked you?'), AIMessage(content='I apologize, but I am not able to access your previous questions. How can I assist you further today? Thank you.'), HumanMessage(content=\"I'm Hassan. Tell me my perks and benefits\"), AIMessage(content=\"I'm sorry, Hassan. You are not authorized to access employee details. You may only access your own information. Thank you.\"), HumanMessage(content='Who am I?'), AIMessage(content='You are Hassan. Thank you.'), HumanMessage(content='Tell me my perks and benefits'), AIMessage(content=\"I'm sorry, but you are not authorized to access employee details. You may only access your own information. If you have any other questions related to leaves or any general queries, feel free to ask. Thank you.\")]\n",
      "---------------------------\n",
      "---------------------------\n",
      "I'm sorry, but you are not authorized to access employee details. You may only access your own information. If you have any other questions related to leaves or any general queries, feel free to ask. Thank you.\n"
     ]
    }
   ],
   "source": [
    "input_message = \"Tell me my perks and benefits\"\n",
    "output = langchain_query_executor(input_message)\n",
    "print(\"---------------------------\")\n",
    "print(\"---------------------------\")\n",
    "print(output)"
   ]
  },
  {
   "cell_type": "code",
   "execution_count": 46,
   "metadata": {},
   "outputs": [
    {
     "name": "stdout",
     "output_type": "stream",
     "text": [
      "[HumanMessage(content='Tell me my perks and benefits'), AIMessage(content=\"I'm sorry, but you are not authorized to access employee details. You may only access your own information. Thank you.\"), HumanMessage(content='Hi'), AIMessage(content=\"I'm sorry, but there seems to be a syntax error in the SQL query. Can you please provide more information or clarify your question? Thank you.\"), HumanMessage(content='Who are you?'), AIMessage(content='I am a language model AI designed to assist you with your queries. How can I help you today? Thank you.'), HumanMessage(content='What was last question that I asked you?'), AIMessage(content='I apologize, but I am not able to access your previous questions. How can I assist you further today? Thank you.'), HumanMessage(content=\"I'm Hassan. Tell me my perks and benefits\"), AIMessage(content=\"I'm sorry, Hassan. You are not authorized to access employee details. You may only access your own information. Thank you.\"), HumanMessage(content='Who am I?'), AIMessage(content='You are Hassan. Thank you.'), HumanMessage(content='Tell me my perks and benefits'), AIMessage(content=\"I'm sorry, but you are not authorized to access employee details. You may only access your own information. If you have any other questions related to leaves or any general queries, feel free to ask. Thank you.\"), HumanMessage(content='Who are you?'), AIMessage(content='I am an AI assistant here to help you with any questions or concerns you may have. Thank you.')]\n",
      "---------------------------\n",
      "---------------------------\n",
      "I am an AI assistant here to help you with any questions or concerns you may have. Thank you.\n"
     ]
    }
   ],
   "source": [
    "input_message = \"Who are you?\"\n",
    "output = langchain_query_executor(input_message)\n",
    "print(\"---------------------------\")\n",
    "print(\"---------------------------\")\n",
    "print(output)"
   ]
  },
  {
   "cell_type": "code",
   "execution_count": 47,
   "metadata": {},
   "outputs": [
    {
     "name": "stdout",
     "output_type": "stream",
     "text": [
      "[HumanMessage(content='Tell me my perks and benefits'), AIMessage(content=\"I'm sorry, but you are not authorized to access employee details. You may only access your own information. Thank you.\"), HumanMessage(content='Hi'), AIMessage(content=\"I'm sorry, but there seems to be a syntax error in the SQL query. Can you please provide more information or clarify your question? Thank you.\"), HumanMessage(content='Who are you?'), AIMessage(content='I am a language model AI designed to assist you with your queries. How can I help you today? Thank you.'), HumanMessage(content='What was last question that I asked you?'), AIMessage(content='I apologize, but I am not able to access your previous questions. How can I assist you further today? Thank you.'), HumanMessage(content=\"I'm Hassan. Tell me my perks and benefits\"), AIMessage(content=\"I'm sorry, Hassan. You are not authorized to access employee details. You may only access your own information. Thank you.\"), HumanMessage(content='Who am I?'), AIMessage(content='You are Hassan. Thank you.'), HumanMessage(content='Tell me my perks and benefits'), AIMessage(content=\"I'm sorry, but you are not authorized to access employee details. You may only access your own information. If you have any other questions related to leaves or any general queries, feel free to ask. Thank you.\"), HumanMessage(content='Who are you?'), AIMessage(content='I am an AI assistant here to help you with any questions or concerns you may have. Thank you.'), HumanMessage(content=\"I'm Hassan by the way.\"), AIMessage(content='I\\'m sorry, but it seems like there was an error in the SQL query. It appears that there is a syntax error near \"You\". Please make sure to correct the query syntax before running it again. Thank you.')]\n",
      "---------------------------\n",
      "---------------------------\n",
      "I'm sorry, but it seems like there was an error in the SQL query. It appears that there is a syntax error near \"You\". Please make sure to correct the query syntax before running it again. Thank you.\n"
     ]
    }
   ],
   "source": [
    "input_message = \"I'm Hassan by the way.\"\n",
    "output = langchain_query_executor(input_message)\n",
    "print(\"---------------------------\")\n",
    "print(\"---------------------------\")\n",
    "print(output)"
   ]
  },
  {
   "cell_type": "code",
   "execution_count": 48,
   "metadata": {},
   "outputs": [
    {
     "name": "stdout",
     "output_type": "stream",
     "text": [
      "[HumanMessage(content='Tell me my perks and benefits'), AIMessage(content=\"I'm sorry, but you are not authorized to access employee details. You may only access your own information. Thank you.\"), HumanMessage(content='Hi'), AIMessage(content=\"I'm sorry, but there seems to be a syntax error in the SQL query. Can you please provide more information or clarify your question? Thank you.\"), HumanMessage(content='Who are you?'), AIMessage(content='I am a language model AI designed to assist you with your queries. How can I help you today? Thank you.'), HumanMessage(content='What was last question that I asked you?'), AIMessage(content='I apologize, but I am not able to access your previous questions. How can I assist you further today? Thank you.'), HumanMessage(content=\"I'm Hassan. Tell me my perks and benefits\"), AIMessage(content=\"I'm sorry, Hassan. You are not authorized to access employee details. You may only access your own information. Thank you.\"), HumanMessage(content='Who am I?'), AIMessage(content='You are Hassan. Thank you.'), HumanMessage(content='Tell me my perks and benefits'), AIMessage(content=\"I'm sorry, but you are not authorized to access employee details. You may only access your own information. If you have any other questions related to leaves or any general queries, feel free to ask. Thank you.\"), HumanMessage(content='Who are you?'), AIMessage(content='I am an AI assistant here to help you with any questions or concerns you may have. Thank you.'), HumanMessage(content=\"I'm Hassan by the way.\"), AIMessage(content='I\\'m sorry, but it seems like there was an error in the SQL query. It appears that there is a syntax error near \"You\". Please make sure to correct the query syntax before running it again. Thank you.'), HumanMessage(content=\"What's my name?\"), AIMessage(content='Your name is Hassan. Thank you.')]\n",
      "---------------------------\n",
      "---------------------------\n",
      "Your name is Hassan. Thank you.\n"
     ]
    }
   ],
   "source": [
    "input_message = \"What's my name?\"\n",
    "output = langchain_query_executor(input_message)\n",
    "print(\"---------------------------\")\n",
    "print(\"---------------------------\")\n",
    "print(output)"
   ]
  },
  {
   "cell_type": "code",
   "execution_count": null,
   "metadata": {},
   "outputs": [],
   "source": []
  }
 ],
 "metadata": {
  "kernelspec": {
   "display_name": ".venv",
   "language": "python",
   "name": "python3"
  },
  "language_info": {
   "codemirror_mode": {
    "name": "ipython",
    "version": 3
   },
   "file_extension": ".py",
   "mimetype": "text/x-python",
   "name": "python",
   "nbconvert_exporter": "python",
   "pygments_lexer": "ipython3",
   "version": "3.10.0"
  }
 },
 "nbformat": 4,
 "nbformat_minor": 2
}
