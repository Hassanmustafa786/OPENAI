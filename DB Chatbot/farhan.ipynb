{
 "cells": [
  {
   "cell_type": "code",
   "execution_count": 1,
   "metadata": {},
   "outputs": [],
   "source": [
    "import os\n",
    "from dotenv import load_dotenv\n",
    "from langchain_openai import ChatOpenAI\n",
    "\n",
    "load_dotenv()\n",
    "\n",
    "openai_api_key = os.getenv(\"OPENAI_API_KEY\")\n",
    "model = ChatOpenAI(\n",
    "    temperature=0.2,\n",
    "    model_name=\"gpt-3.5-turbo-0125\",\n",
    "    openai_api_key=openai_api_key,\n",
    "    max_tokens=100,\n",
    ")"
   ]
  },
  {
   "cell_type": "code",
   "execution_count": 2,
   "metadata": {},
   "outputs": [
    {
     "name": "stdout",
     "output_type": "stream",
     "text": [
      "[Document(page_content=\"MEEZAN BANK POLICIES & PROCEDURES FOR NEW \\nSTAFF  \\nOnboarding Procedures  \\nObjective:  To ensure a smooth integration of new employees into the bank, \\nfacilitating understanding of the bank's culture, processes, and expectations.  \\n1. Pre-Onboarding  Activities:  \\n• Offer  Letter  and Documentation:  Send out offer letters and necessary \\nemployment forms including bank details, tax forms, and identity \\nverification documents.  \\n• Background  Checks:  Conduct comprehensive background checks \\nfollowing local legal guidelines.  \\n2. Orientation  Program:  \\n• First Day Agenda:  Welcome session, introduction to team and key \\ndepartments, issuance of employee ID, and workstation setup.  \\n• Training  Sessions:  Schedule initial training sessions covering bank \\noperations, compliance standards, and Islamic banking principles.  \\n• Mentor  Assignment:  Assign a mentor for at least the first three \\nmonths to guide the new employee through their initial period at the \\nbank.  \\n3. Integration:  \\n• Regular  Check -Ins: HR-led check -ins at the end of the first week, first \\nmonth, and third month to address any concerns and gather feedback \\non the onboarding experience.  \\n• Performance  Goals:  Set clear performance goals and expectations for \\nthe first six months.  \\nEmployee Benefits  \\nObjective:  To provide competitive and comprehensive benefits that promote \\nemployee well -being, loyalty, and satisfaction.  \\n1. Health  and Insurance  Benefits:  \\n• Health  Insurance:  Coverage for employees and their families, \\nincluding medical, dental, and vision care.  \\n• Life Insurance:  Basic life insurance coverage with options to purchase \\nadditional coverage.  \\n2. Financial  Benefits:  \", metadata={'source': 'E:\\\\Habibi\\\\DB Chatbot\\\\policies\\\\MZbankpolicies.pdf', 'page': 0}), Document(page_content='• Provident  Fund:  Employees are automatically enrolled in a provident \\nfund, with contributions from both employee and employer.  \\n• Performance  Bonuses:  Annual performance -related bonuses based on \\nindividual and bank -wide achievements.  \\n3. Leave  and Time  Off: \\n• Annual  Leave:  Generous annual leave allowances plus public holidays.  \\n• Parental  Leave:  Maternity and paternity leave in compliance with local \\nlabor laws.  \\n• Sick Leave:  Paid sick leave allocation per year.  \\n4. Employee  Support  Programs:  \\n• Educational  Assistance:  Support for professional development and \\neducational pursuits relevant to their roles.  \\n• Employee  Assistance  Programs:  Counseling and support services for \\npersonal and professional issues.  \\nCode of Conduct  \\nObjective:  To maintain a professional work environment based on integrity, respect, \\nand adherence to Islamic banking principles.  \\n1. Professional  Behavior:  \\n• Integrity  and Honesty:  Uphold the highest standards of integrity and \\nhonesty in all transactions and interactions.  \\n• Respect  and Fairness:  Treat colleagues and clients with respect and \\nfairness.  \\n2. Compliance  and Ethics:  \\n• Regulatory  Compliance:  Adhere to all banking regulations and laws.  \\n• Confidentiality:  Maintain confidentiality of client and bank \\ninformation.  \\n3. Workplace  Policies:  \\n• Harassment:  Zero tolerance for harassment of any kind.  \\n• Substance  Abuse:  Prohibit the use of alcohol or drugs in the \\nworkplace.  \\n4. Dress  Code:  \\n• Professional  Attire:  Employees are expected to dress in professional \\nattire that is culturally and religiously appropriate.  \\n \\n \\n \\n \\n ', metadata={'source': 'E:\\\\Habibi\\\\DB Chatbot\\\\policies\\\\MZbankpolicies.pdf', 'page': 1}), Document(page_content=' \\n \\n \\nMeezan Bank Employee Benefits Package  \\nObjective:  To provide a comprehensive benefits package that supports the well -\\nbeing and financial security of our employees and their families.  \\n1. Eligibility Requirements  \\n• Employee  Status:  Full-time employees are eligible for all benefits. Part -time \\nemployees are eligible for prorated benefits based on their hours worked.  \\n• Waiting  Period:  There is a standard waiting period of 90 days from the date \\nof employment before benefit coverages begin.  \\n• Dependents:  Legal spouses, children up to the age of 25, and parents living \\nwith the employee are eligible for certain benefits.  \\n2. Coverage Options  \\nHealth Insurance  \\n• Medical  Insurance:  Coverage includes hospitalization, outpatient services, \\nemergency care, maternity care, and prescription drugs.  \\n• Dental  and Vision  Insurance:  Optional dental and vision coverage for routine \\ncheck -ups and treatments.  \\nLife and Disability Insurance  \\n• Life Insurance:  Basic life insurance at no cost to the employee, with the \\noption to buy additional coverage.  \\n• Disability  Insurance:  Short -term and long -term disability insurance to \\nsupport employees who are unable to work due to illness or injury.  \\nRetirement Benefits  \\n• Provident  Fund:  Mandatory participation with contributions from both the \\nemployee and the employer. Contributions are a fixed percentage of the \\nmonthly salary.  \\n• Optional  Retirement  Savings  Plan:  Employees may choose to contribute to \\nan additional retirement savings plan with matching contributions from the \\nbank up to a certain limit.  ', metadata={'source': 'E:\\\\Habibi\\\\DB Chatbot\\\\policies\\\\MZbankpolicies.pdf', 'page': 2}), Document(page_content='3. Additional Benefits  \\n• Education  Assistance:  Financial support for pursuing further education \\nrelated to the employee’s job role.  \\n• Performance  Bonuses:  Annual bonuses based on the achievement of \\npersonal and bank -wide targets.  \\n• Employee  Assistance  Programs  (EAP):  Confidential counseling and support \\nfor personal or work -related issues.  \\n4. Enrollment Process  \\n• Initial  Enrollment:  New employees receive benefit enrollment forms during \\ntheir onboarding session. They have 30 days from the date of eligibility to \\ncomplete and submit their enrollment forms.  \\n• Online  Portal:  Employees can access an online benefits portal where they can \\nselect and manage their benefit options. Detailed information about each \\nbenefit option, including costs and coverage details, is available on the portal.  \\n• Support  Sessions:  HR conducts regular sessions to assist employees with \\nunderstanding their benefits and making informed choices.  \\n• Annual  Enrollment  Period:  There is an annual enrollment period where \\nemployees can review, change, or update their benefit choices based on \\nchanging needs.  \\n5. Changes in Employee Status  \\n• Life Events:  Employees are allowed to make changes to their benefits in the \\nevent of major life changes such as marriage, divorce, birth of a child, or loss \\nof a dependent, provided they notify HR within 30 days of the event.  \\n• Termination  of Employment:  Benefits coverage will end according to the \\nterms of each specific benefit. Employees will receive information on how they \\nmay continue certain benefits at their own expense.  \\n \\n \\n \\n \\n \\n \\n \\n \\n ', metadata={'source': 'E:\\\\Habibi\\\\DB Chatbot\\\\policies\\\\MZbankpolicies.pdf', 'page': 3}), Document(page_content=\" \\n \\nProfessional Development and Training Policy  \\nObjective:  To enhance employee skills, knowledge, and effectiveness through \\ncontinuous learning and development opportunities, aligning with the bank's \\nstrategic goals and compliance with Islamic banking principles.  \\n1. Available Training Programs  \\n• Onboarding  Training:  Comprehensive introduction to bank operations, \\nIslamic banking norms, customer service excellence, and compliance.  \\n• Ongoing  In-House  Training:  \\n• Technical  Skills  Development:  Regularly updated courses on banking \\nsoftware, financial analysis, risk management, and regulatory \\ncompliance.  \\n• Soft Skills  Enhancement:  Workshops on leadership, communication, \\nteamwork, and customer relationship management.  \\n• Islamic  Banking  Courses:  Detailed courses on Sharia -compliant \\nbanking practices, products, and ethical banking standards.  \\n• Leadership  Development  Program:  \\n• Designed for high -potential employees to prepare them for future \\nleadership roles within the bank.  \\n• Includes mentorship, rotational assignments across different \\ndepartments, and leadership workshops.  \\n2. Reimbursement for External Courses or Certifications  \\nObjective:  To support employees in pursuing external educational opportunities that \\ncontribute to their professional growth and the bank’s objectives.  \\n• Eligibility:  \\n• All full -time employees are eligible for reimbursement after completing \\ntheir probationary period.  \\n• The course or certification must be relevant to the employee’s current \\nrole or a future role within the bank as approved by management.  \\n• Reimbursement  Process:  \\n• Pre-Approval:  Employees must submit a request for pre -approval of \\nthe course or certification to their direct supervisor and the HR \\ndepartment. The request should include the course details, provider, \", metadata={'source': 'E:\\\\Habibi\\\\DB Chatbot\\\\policies\\\\MZbankpolicies.pdf', 'page': 4}), Document(page_content='cost, and a statement on how it relates to their job or career \\nprogression at the bank.  \\n• Payment:  Upon approval, employees may either pay upfront and \\nsubmit receipts for reimbursement, or request direct payment from the \\nbank to the institution, if feasible.  \\n• Proof  of Completion:  Employees must submit proof of successful \\ncompletion of the course or certification along with their grade or \\ncertification awarded.  \\n• Reimbursement  Limits:  \\n• The bank reimburses up to a certain percentage, typically 75 -100%, of \\nthe course fees, depending on the strategic importance of the skills \\nacquired.  \\n• There may be annual limits per employee based on budget availability \\nand departmental needs.  \\n3. Commitment Agreement  \\n• Employees who receive reimbursement may be required to sign a \\ncommitment agreement to continue working at the bank for a specified \\nperiod (typically one to two years) after completing the course. If the \\nemployee leaves before fulfilling this commitment, they may be required to \\nrepay a prorated portion of the reimbursement.  \\n4. Performance and Follow -up \\n• Integration  into Work  Role:  Employees are encouraged to integrate and \\nshare learned skills with their teams.  \\n• Feedback  and Assessment:  Post-training feedback will be collected to assess \\nthe impact on job performance and employee satisfaction. This feedback will \\nhelp refine future training offerings.  \\n \\n \\n \\n \\n \\n \\n \\n \\n ', metadata={'source': 'E:\\\\Habibi\\\\DB Chatbot\\\\policies\\\\MZbankpolicies.pdf', 'page': 5}), Document(page_content=\" \\n \\nProbation Period Policy  \\nObjective:  To assess new employees' performance, fit within the company culture, \\nand capability to meet job requirements effectively, ensuring alignment with the \\nbank’s values and standards.  \\n1. Duration of the Probation Period  \\n• Standard  Duration:  The probation period for new employees is typically set \\nat 90 days from the date of joining. This period may vary for senior positions \\nbased on the complexity of the responsibilities.  \\n2. Expectations During the Probation Period  \\n• Performance  Standards:  New employees are expected to demonstrate a \\nbasic understanding of their job duties, adapt to Meezan Bank’s culture, and \\nstart contributing effectively to their team.  \\n• Learning  and Integration:  Employees should actively engage in all training \\nsessions and seek to understand the bank’s operations and Islamic banking \\nprinciples.  \\n• Professional  Behavior:  Maintain professionalism, integrity, and collaboration \\nin interactions with colleagues and clients, adhering to the bank's code of \\nconduct.  \\n3. Performance Evaluation and Feedback  \\n• Continuous  Feedback:  Supervisors are encouraged to provide ongoing \\nfeedback to new employees throughout the probation period. This feedback \\nshould be constructive and aimed at guiding the employees in their \\nadjustment and performance improvement.  \\n• Formal  Reviews:  \\n• Mid-Probation  Review:  Conducted at the 45 -day mark to assess early \\nperformance, address any concerns, and set goals for the remainder of \\nthe probation period.  \\n• End-of-Probation  Review:  A comprehensive evaluation at the end of \\nthe 90 days. This review assesses the employee’s overall performance, \\nincluding achievements, improvements, and areas needing further \\ndevelopment.  \\n• Evaluation  Criteria:  Performance evaluations during probation are based on:  \", metadata={'source': 'E:\\\\Habibi\\\\DB Chatbot\\\\policies\\\\MZbankpolicies.pdf', 'page': 6}), Document(page_content='• Quality  of Work:  Accuracy, thoroughness, and reliability in completing \\ntasks.  \\n• Productivity:  Ability to meet deadlines and manage workload \\neffectively.  \\n• Learning  Ability:  Speed and effectiveness in learning new skills and \\nadapting to processes.  \\n• Team  Integration:  Ability to work collaboratively with the team and \\ncontribute to team goals.  \\n• Adherence  to Policies:  Compliance with bank policies and ethical \\nstandards.  \\n• Outcome  of the Probation  Period:  \\n• Successful  Completion:  If performance is deemed satisfactory, the \\nemployee is formally confirmed in their position.  \\n• Extension  of Probation:  In cases where performance does not meet \\nexpectations but shows potential for improvement, the probation \\nperiod may be extended by an additional 30 to 60 days.  \\n• Termination:  If performance remains unsatisfactory and shows no sign \\nof improvement, employment may be terminated at the discretion of \\nthe bank.  \\n4. Documentation  \\n• Record  Keeping:  All feedback and evaluation forms used during the \\nprobation period must be documented and stored in the employee’s \\npersonnel file.  \\n• Communication:  Results of the probation reviews should be communicated \\nclearly and promptly to the employee in writing.  \\n \\n \\n \\n \\n \\n \\n \\n \\n \\n \\n ', metadata={'source': 'E:\\\\Habibi\\\\DB Chatbot\\\\policies\\\\MZbankpolicies.pdf', 'page': 7}), Document(page_content=' \\n \\nDress Code Policy  \\nObjective:  To maintain a professional appearance that reflects the bank’s values and \\nstandards, aligns with Islamic principles, and is appropriate for the banking \\nenvironment.  \\n1. General Guidelines  \\n• Neatness  and Cleanliness:  All employees are expected to maintain a neat, \\nclean, and well -groomed appearance while at work.  \\n• Cultural  and Religious  Consideration:  Attire should respect Islamic values \\nand the cultural context of Pakistan, emphasizing modesty for all employees.  \\n2. Appropriate Attire for Various Settings  \\nClient Meetings  \\n• Men:  \\n• Formal business suit or a smart combination of dress pants with a \\nblazer.  \\n• Collared dress shirts with a tie.  \\n• Dark, polished formal shoes.  \\n• Women:  \\n• Formal business attire such as a tailored kameez with trousers or a long \\nskirt.  \\n• Scarves or shawls should be used if covering is part of the employee’s \\npersonal or religious practice.  \\n• Conservative and non -flashy footwear.  \\nOffice Work  \\n• Men:  \\n• Dress pants with long -sleeved dress shirts. Jackets or blazers are \\noptional.  \\n• Ties are optional unless specified for specific meetings or events.  \\n• Loafers or other smart shoes.  \\n• Women:  \\n• Kameez with trousers or a modest skirt of appropriate length.  \\n• Optional scarves or shawls, adhering to personal and religious \\npractices.  ', metadata={'source': 'E:\\\\Habibi\\\\DB Chatbot\\\\policies\\\\MZbankpolicies.pdf', 'page': 8}), Document(page_content='• Closed -toe flats or low heels.  \\n \\nCasual Fridays  \\n• Men:  \\n• Smart casual attire such as chinos or smart jeans paired with polo shirts \\nor casual shirts without ties.  \\n• Casual shoes like loafers or smart sneakers; sandals only if deemed neat \\nand clean.  \\n• Women:  \\n• Casual yet modest attire such as less formal kameez and trousers.  \\n• Scarves or shawls can be more casual but should still maintain modesty.  \\n• Appropriate casual footwear that maintains a professional look.  \\n3. Prohibited Attire  \\n• All Employees:  \\n• No ripped or torn clothing.  \\n• No offensive logos or slogans on clothing.  \\n• No overly flashy or ostentatious accessories.  \\n• Avoid excessively tight or revealing clothing.  \\n4. Enforcement  \\n• Supervisors’  Role:  Supervisors are responsible for ensuring that their team \\nmembers adhere to the dress code. They should address any deviations in a \\nrespectful and discreet manner.  \\n• HR Department:  The HR department is available to provide guidance on the \\ndress code and assist with any disputes or clarifications.  \\n• Consequences:  Repeated failure to comply with the dress code may result in \\ndisciplinary action, following the bank’s standard disciplinary procedures.  \\n5. Seasonal Adjustments  \\n• Seasonal  Clothing:  Employees may make adjustments to their attire based on \\nthe weather, such as lighter fabrics during hot seasons, provided they \\ncontinue to meet the dress code requirements.  \\n \\n \\n ', metadata={'source': 'E:\\\\Habibi\\\\DB Chatbot\\\\policies\\\\MZbankpolicies.pdf', 'page': 9}), Document(page_content=\" \\n \\n \\nMEEZAN BANK POLICIES & PROCEDURES FOR \\nEXISITING EMPLOYEES  \\n \\nPerformance Review Policy  \\nObjective:  To ensure all employees are fairly evaluated in a consistent manner, \\npromoting personal growth, professional development, and alignment with the \\nbank’s strategic objectives.  \\n1. Frequency of Performance Reviews  \\n• Annual  Reviews:  Formal performance reviews are conducted annually for all \\nemployees.  \\n• Mid-Year  Reviews:  A less formal mid -year review is encouraged to track \\nprogress, reassess goals, and make necessary adjustments.  \\n2. Criteria for Evaluation  \\n• Performance  Metrics:  Based on the specific roles and responsibilities \\noutlined in the job description. This includes quality of work, productivity, and \\nadherence to deadlines.  \\n• Core  Competencies:  Such as communication skills, teamwork, problem -\\nsolving, and customer service, relevant to the employee's role and level within \\nthe organization.  \\n• Compliance  and Integrity:  Adherence to bank policies, ethical standards, and \\nregulatory requirements.  \\n• Innovation  and Improvement:  Contributions towards improving processes, \\nenhancing customer satisfaction, or reducing costs.  \\n3. Self -Assessment Forms  \\n• Purpose:  Allows employees to reflect on their own performance, providing a \\npersonal perspective to be considered in the review process.  \\n• Content:  Self-assessment forms should include:  \\n• A review of achievements against the previous year’s goals.  \", metadata={'source': 'E:\\\\Habibi\\\\DB Chatbot\\\\policies\\\\MZbankpolicies.pdf', 'page': 10}), Document(page_content='• Identification of challenges and how they were addressed.  \\n• A section for employees to express their professional development \\nneeds and career aspirations.  \\n4. Guidelines for Setting Goals  \\n• SMART  Goals:  Goals set should be Specific, Measurable, Achievable, Relevant, \\nand Time -bound.  \\n• Alignment  with  Bank’s  Objectives:  Ensure that individual goals support the \\nbroader objectives of the bank and the specific department.  \\n• Development  Goals:  Include goals focused on skills development, \\ncertifications, or learning new aspects of the banking industry.  \\n5. Conducting the Performance Review  \\n• Preparation:  \\n• Supervisor  Preparation:  Review the employee’s self -assessment, \\nprevious performance reviews, and any relevant feedback from peers or \\nclients.  \\n• Employee  Preparation:  Employees should come prepared with \\ndocumentation of their accomplishments, examples of work, and any \\nother relevant information.  \\n• Discussion:  \\n• Conduct the review in a private, uninterrupted setting.  \\n• Discuss the employee’s performance, focusing on both strengths and \\nareas for improvement.  \\n• Address the self -assessment and reconcile any differences in \\nperception between the supervisor and the employee.  \\n• Formulate a development plan for the coming period, including new \\ngoals.  \\n6. Follow -Up \\n• Documentation:  Summarize the outcomes of the review, including agreed -\\nupon goals and development plans, in a written document. Both the \\nsupervisor and the employee should sign this document to acknowledge \\nagreement.  \\n• Monitoring  Progress:  Set regular check -ins to discuss progress on goals and \\nany support the employee may need.  \\n• Adjustments:  Be open to revising goals as necessary based on business \\nneeds, changes in role, or unexpected challenges.  ', metadata={'source': 'E:\\\\Habibi\\\\DB Chatbot\\\\policies\\\\MZbankpolicies.pdf', 'page': 11}), Document(page_content='7. Training for Supervisors  \\n• Provide training to supervisors on how to conduct effective and unbiased \\nperformance reviews. This training should cover goal setting, feedback \\ntechniques, and legal considerations  \\n \\n \\nTime -Off Policy  \\nObjective:  To provide a fair and transparent process for granting time -off to \\nemployees, ensuring operational efficiency while accommodating personal needs.  \\n1. Types of Time Off  \\n• Annual  Leave:  Allotted number of days per year, accrued monthly.  \\n• Sick Leave:  Granted for medical reasons; a doctor’s note may be required for \\nextended absences.  \\n• Personal  Leave:  For personal matters such as bereavement, family \\nemergencies, etc.  \\n• Public  Holidays:  Observed according to the national holiday calendar.  \\n• Maternity/Paternity  Leave:  As per legal requirements and additional bank \\npolicies.  \\n2. Submitting Time -Off Requests  \\n• Request  Procedure:  \\n• Form  Submission:  Employees must fill out a Time -Off Request Form, \\navailable from HR or the internal HR portal.  \\n• Advance  Notice:  Time -off requests should be submitted at least 30 \\ndays in advance for annual leave and as soon as possible for \\nunexpected sick or personal leave.  \\n• Supervisor  Approval:  Requests must be approved by the employee’s \\ndirect supervisor and then forwarded to HR for final approval.  \\n3. Required Forms  \\n• Time -Off Request  Form:  This form should include:  \\n• Employee’s name and department  \\n• Type of leave requested  \\n• Start and end date of the leave  ', metadata={'source': 'E:\\\\Habibi\\\\DB Chatbot\\\\policies\\\\MZbankpolicies.pdf', 'page': 12}), Document(page_content='• Reason for leave (if applicable)  \\n• Employee’s signature and date  \\n• Supervisor’s approval signature  \\n4. Blackout Periods  \\n• Definition:  Blackout periods are specific times during the year when time -off \\nrequests may be restricted due to operational needs (e.g., end of fiscal year, \\nduring major religious or national festivals).  \\n• Communication:  Blackout periods are communicated to all employees at the \\nbeginning of the fiscal year and as needed. These are posted on the internal \\nHR portal and included in employee newsletters.  \\n• Exceptions:  Exceptions to blackout periods may be considered in cases of \\nemergency or significant personal need, subject to approval by department \\nheads and HR.  \\n5. Process for Handling Conflicts  \\n• First Come,  First Served:  Time -off requests are generally processed on a \\nfirst-come, first -served basis.  \\n• Conflict  Resolution:  In cases where multiple requests conflict, or during \\nblackout periods, supervisors will assess the operational impact and may need \\nto negotiate compromises among team members.  \\n• Alternatives:  If a request cannot be accommodated, the supervisor should \\nwork with the employee to find alternative dates or solutions.  \\n6. Record Keeping  \\n• HR Responsibilities:  HR maintains records of all time -off requests, approvals, \\nand balances. These records are accessible to employees for review upon \\nrequest.  \\n• Tracking  System:  The bank uses an automated system to track leave \\nbalances, accruals, and usage, ensuring transparency and ease of access for \\nboth employees and management.  \\n7. Compliance and Monitoring  \\n• Policy  Compliance:  All supervisors are responsible for enforcing the time -off \\npolicy and ensuring that leave is scheduled in a way that minimally impacts \\nbank operations.  \\n• Audits:  Regular audits of leave records and compliance with the time -off \\npolicy are conducted to ensure fairness and adherence to regulations.  ', metadata={'source': 'E:\\\\Habibi\\\\DB Chatbot\\\\policies\\\\MZbankpolicies.pdf', 'page': 13}), Document(page_content=\"Parental Leave Policy  \\nObjective:  To support employees in balancing their work responsibilities with family \\ncommitments by providing time off for the birth or adoption of a child, in \\naccordance with legal requirements and Islamic values.  \\n1. Eligibility Criteria  \\n• Employee  Tenure:  Employees must have been employed with Meezan Bank \\nfor at least six months prior to the start of the leave period.  \\n• Employment  Status:  Full-time and permanent part -time employees are \\neligible for parental leave. Temporary or contractual employees may be \\neligible depending on their contract terms and local labor laws.  \\n2. Duration of Leave  \\n• Maternity  Leave:  Eligible female employees are entitled to a total of 12 \\nweeks of maternity leave. This includes up to 6 weeks prior to the expected \\ndelivery date and 6 weeks post -delivery.  \\n• Paternity  Leave:  Eligible male employees can avail 2 weeks of paternity leave, \\nto be taken within the first month following the birth of the child.  \\n• Adoption  Leave:  In cases of legal adoption, the primary caregiver is entitled \\nto 6 weeks of leave following the placement of a child in the employee's \\nhome.  \\n3. New Benefits or Procedures  \\n• Flexible  Return:  Newly introduced is a flexible return policy, allowing parents \\nto return to work part -time or with flexible hours for up to four weeks after \\ntheir leave ends to ease the transition back to work.  \\n• Leave  Extension:  Employees experiencing complications related to childbirth \\nor adoption can apply for an extension of their leave, subject to medical \\ndocumentation and approval from HR.  \\n• Work  From  Home  Options:  Post-leave, parents may request to work from \\nhome for a period, subject to their role’s suitability for remote work and \\napproval from their supervisor.  \\n4. Procedures for Applying for Parental Leave  \\n• Notice  Requirement:  Employees are required to notify HR and their \\nsupervisor at least 60 days in advance of their expected leave, using the \\nParental Leave Application Form.  \", metadata={'source': 'E:\\\\Habibi\\\\DB Chatbot\\\\policies\\\\MZbankpolicies.pdf', 'page': 14}), Document(page_content='• Documentation  Needed:  For maternity leave, a medical certificate confirming \\nthe pregnancy and expected date of delivery is required. For adoption leave, \\nlegal documentation confirming the adoption process is needed.  \\n• Approval  Process:  The application will be reviewed by HR and the \\nemployee’s supervisor to ensure coverage during the absence and will be \\nformally approved in writing.  \\n5. Continuation of Benefits  \\n• Health  Insurance:  Employees on parental leave will continue to receive health \\ninsurance benefits as per usual terms.  \\n• Salary  Benefits:  Meezan Bank provides paid leave for the duration specified. \\nAny additional leave may be taken as unpaid, or employees can use any \\naccrued annual leave.  \\n6. Job Protection  \\n• Guaranteed  Return:  Employees are guaranteed the same or a similar position \\nat the same pay and benefits upon returning from parental leave.  \\n• Protection  from  Discrimination:  Employees taking parental leave will not be \\ndisadvantaged in their employment conditions or opportunities upon their \\nreturn.  \\n7. Communication  \\n• Guidance  Sessions:  HR will provide sessions or materials detailing the \\nparental leave policies, procedures, and any updates to ensure all employees \\nare well informed.  \\n• Support  Contact:  Designate a contact person in HR to assist employees with \\nany queries or concerns regarding parental leave.  \\n \\n \\n \\n \\n \\n ', metadata={'source': 'E:\\\\Habibi\\\\DB Chatbot\\\\policies\\\\MZbankpolicies.pdf', 'page': 15}), Document(page_content='Promotion Policy  \\nObjective:  To foster a transparent and merit -based advancement system that \\nsupports professional growth and rewards performance and potential within Meezan \\nBank.  \\n1. Criteria for Promotion Eligibility  \\n• Performance:  Consistently high performance ratings in annual reviews. \\nEmployees must meet or exceed the performance expectations set for their \\ncurrent roles over a sustained period.  \\n• Tenure:  Employees are generally eligible for promotion after a minimum \\nperiod in their current role, typically two years, to ensure adequate exposure \\nand contribution at their current level.  \\n• Skills  and Competencies:  Demonstrated skills and competencies that align \\nwith the responsibilities of the new role, including leadership skills for \\nmanagerial positions.  \\n• Qualifications:  Where applicable, specific qualifications or certifications that \\nare required for the new role.  \\n• Company  Needs:  Eligibility is also contingent on the strategic needs of the \\nbank, including the availability of a suitable position.  \\n2. Application Process  \\n• Announcement  of Opportunities:  Promotion opportunities are announced \\ninternally through the bank’s HR portal. This announcement will detail the \\nroles available, the qualifications required, and the application deadline.  \\n• Submission  of Application:  Interested employees must submit a formal \\napplication along with their latest performance review summary and any other \\nrequired documents, such as certifications or a portfolio of work.  \\n• Interviews  and Assessments:  Candidates may be required to undergo \\ninterviews and/or assessments to evaluate their suitability for the new role. \\nThis might include behavioral interviews, role -specific tasks, or presentations.  \\n• Decision  Making:  Promotion decisions are made by a committee comprising \\nHR representatives and senior management to ensure fairness and \\ntransparency. Decisions are based on the evaluation criteria and business \\nneeds.  \\n3. Training and Development Opportunities  \\n• Skill Development  Programs:  Regular training programs designed to \\nenhance specific skills related to banking operations, customer service, \\ncompliance, and more.  ', metadata={'source': 'E:\\\\Habibi\\\\DB Chatbot\\\\policies\\\\MZbankpolicies.pdf', 'page': 16}), Document(page_content='• Leadership  Development:  Targeted development programs for employees \\nidentified as potential future leaders, including mentorship, leadership \\ncourses, and management workshops.  \\n• External  Education  Support:  Financial support for external courses or \\ncertifications that are directly relevant to the employee’s career path within \\nthe bank.  \\n• Career  Pathing  Workshops:  Workshops that help employees understand \\npotential career paths within the bank and the competencies required for each \\npath.  \\n• Succession  Planning:  Inclusion in succession planning for critical roles, \\npreparing high -potential employees for future senior positions.  \\n4. Communication and Feedback  \\n• Notification:  All applicants are notified of the outcomes of their promotion \\napplications. Feedback is provided to unsuccessful candidates, highlighting \\nareas for development to enhance future eligibility.  \\n• Transparency:  The criteria for promotion decisions are clearly communicated \\nto ensure all employees understand the process and the requirements.  \\n5. Monitoring and Evaluation  \\n• Tracking  Progress:  The HR department tracks the progress of promoted \\nemployees, ensuring they successfully transition into their new roles.  \\n• Evaluation  of Promotion  Policy:  Regularly reviewing the promotion policy to \\nadapt to changing business needs and employee feedback.  \\n \\n \\n \\n \\n \\n \\n \\n ', metadata={'source': 'E:\\\\Habibi\\\\DB Chatbot\\\\policies\\\\MZbankpolicies.pdf', 'page': 17}), Document(page_content='Retirement Planning Policy  \\nObjective:  To assist employees in preparing for financial security after retirement, \\nproviding structured retirement savings plans, and educational resources.  \\n1. Pension Plans  \\n• Provident  Fund:  Meezan Bank offers a mandatory provident fund where both \\nthe employee and the employer contribute a fixed percentage of the monthly \\nsalary. This fund is managed through reputable fund managers to ensure \\noptimal growth and security of the funds.  \\n• Gratuity  Fund:  Employees are also eligible for a gratuity fund, which is a lump \\nsum payment made by the bank based on the duration of service and last \\ndrawn salary, payable upon retirement or resignation.  \\n2. Retirement Savings Plans  \\n• Voluntary  Contributions:  Employees have the option to increase their \\nretirement savings by opting into voluntary contribution schemes, which allow \\nfor additional contributions to their provident fund.  \\n• Shariah -Compliant  Investment  Options:  Considering the Islamic nature of \\nMeezan Bank, all investment options offered are Shariah -compliant, ensuring \\nthat employees’ savings are invested in accordance with Islamic principles.  \\n3. 401(k) Contributions  \\n• Note:  As Meezan Bank operates in Pakistan, the equivalent to a 401(k) plan \\nmight not apply. However, if applicable or for illustrative purposes:  \\n• 401(k)  Plan:  Employees can contribute a portion of their salary to a \\n401(k) plan, with pre -tax dollars, which the bank may match up to a \\ncertain percentage, enhancing their retirement savings.  \\n4. Resources for Financial Advice  \\n• Financial  Planning  Services:  Meezan Bank partners with financial advisors \\nwho provide free or discounted financial planning services to employees. \\nThese services help employees understand how to optimize their retirement \\nsavings and plan for future financial needs.  \\n• Online  Tools  and Calculators:  Access to online resources, including \\nretirement savings calculators, that help employees estimate their retirement \\nsavings growth and plan their contributions.  ', metadata={'source': 'E:\\\\Habibi\\\\DB Chatbot\\\\policies\\\\MZbankpolicies.pdf', 'page': 18}), Document(page_content='5. Retirement Seminars and Workshops  \\n• Regular  Seminars:  Organize seminars and workshops led by financial experts \\nthat cover various aspects of retirement planning, such as savings strategies, \\ninvestment options, and tax implications.  \\n• Retirement  Planning  Workshops:  These workshops are designed to help \\nemployees nearing retirement age to prepare for the transition, covering \\ntopics such as estate planning, healthcare during retirement, and managing \\nliving expenses on a fixed income.  \\n6. Communication and Accessibility  \\n• Regular  Updates:  Employees receive regular updates about any changes to \\nthe retirement plans, including adjustments in the contribution rates or \\nchanges in the fund management policies.  \\n• Personalized  Consultations:  Available upon request to discuss individual \\nretirement goals and planning with a financial advisor.  \\n7. Transition Support  \\n• Pre-Retirement  Counseling:  Offer counseling sessions for employees \\napproaching retirement to discuss their retirement plan status and any \\nnecessary adjustments to meet their goals.  \\n• Post-Retirement  Support:  Provide information on how to access retirement \\nfunds and manage finances effectively post -retirement.  \\n \\n \\n \\n \\n \\n \\n \\n \\n ', metadata={'source': 'E:\\\\Habibi\\\\DB Chatbot\\\\policies\\\\MZbankpolicies.pdf', 'page': 19}), Document(page_content=\" \\nEmployee Assistance Program (EAP) Policy  \\nObjective:  To support the well -being of employees by providing confidential and \\nprofessional assistance to help them manage personal or work -related challenges \\neffectively.  \\n1. Services Offered  \\n• Counseling  Services:  Access to professional counseling for issues such as \\nstress, depression, anxiety, and personal or family problems. Counseling is \\navailable through face -to-face sessions, telephone, or online platforms.  \\n• Legal  Advice:  Consultation services for legal issues, including family law, \\nestate planning, and other civil matters. This service is meant to provide \\nguidance and is not a substitute for professional legal representation.  \\n• Financial  Planning:  Assistance with financial concerns such as debt \\nmanagement, budgeting, and retirement planning, provided by certified \\nfinancial planners.  \\n• Work -Life Balance  Programs:  Resources and referrals to services that can \\nassist employees in managing work -life balance, such as childcare, eldercare, \\nand wellness programs.  \\n• Crisis  Intervention:  Immediate support in the event of critical incidents, \\nincluding on -site assistance if needed.  \\n2. Accessing Support  \\n• Confidential  Contact  Methods:  Employees can access EAP services through \\na dedicated phone line, a secure website, or a mobile app, all available 24/7.  \\n• Initial  Assessment:  Upon contact, an initial assessment is conducted to \\ndetermine the employee's needs and the appropriate services to be provided.  \\n• Referral  Process:  Based on the initial assessment, employees may be referred \\nto a specialist within the EAP network who can provide the necessary services.  \\n• Session  Limits:  Employees are typically entitled to a set number of sessions \\nper issue per year at no cost. Additional services may be available if necessary, \\npotentially at a cost.  \\n3. Confidentiality Policies  \\n• Strict  Confidentiality:  All interactions with the EAP, including the fact of an \\nemployee’s participation, are kept confidential in accordance with legal \\nrequirements and ethical standards.  \", metadata={'source': 'E:\\\\Habibi\\\\DB Chatbot\\\\policies\\\\MZbankpolicies.pdf', 'page': 20}), Document(page_content='• No Impact  on Employment:  Utilization of EAP services will not be recorded \\nin employee files and will not affect job security or promotional opportunities.  \\n• Data  Protection:  Personal information is protected and will not be shared \\nwith Meezan Bank or any external entities without the employee’s explicit \\nconsent, except in circumstances where there is a legal duty to report (such as \\nimminent risk of harm to self or others).  \\n4. Promotion of EAP Services  \\n• Awareness  Programs:  Regular awareness sessions and communication \\ncampaigns to educate employees about the EAP services available and how to \\naccess them.  \\n• Onboarding  Information:  Introduction to the EAP as part of the onboarding \\nprocess for new employees to ensure they are aware of the support available \\nfrom the start of their employment.  \\n• Manager  Training:  Training for managers on how to recognize signs of \\ndistress among team members and how to refer them to the EAP.  \\n5. Monitoring and Evaluation  \\n• Feedback  and Improvement:  Employees are encouraged to provide \\nfeedback on their experience with the EAP, which is used to improve the \\nquality and effectiveness of the services offered.  \\n• Utilization  Reports:  Regular anonymous utilization reports are reviewed to \\nunderstand the common issues faced by employees and to adjust the services \\noffered as needed.  \\n \\n \\n \\n \\n \\n \\n \\n ', metadata={'source': 'E:\\\\Habibi\\\\DB Chatbot\\\\policies\\\\MZbankpolicies.pdf', 'page': 21}), Document(page_content='Remote  Work  Policy  \\n• Objective:  To define the parameters and expectations for remote work, which \\nbecame particularly relevant due to changing work dynamics.  \\n• Eligibility  and Guidelines:  Criteria for who can work remotely, the necessary \\ntechnological support, and guidelines for maintaining productivity.  \\n• Security  Measures:  Ensuring that remote work complies with data protection \\nand security protocols.  \\n2. Anti-Discrimination  and Harassment  Policy  \\n• Objective:  To promote a workplace free of discrimination and harassment, \\nensuring all employees are treated with respect and dignity.  \\n• Procedures:  Steps for reporting incidents, investigation processes, and \\ndisciplinary actions for policy violations.  \\n3. Health  and Safety  Policy  \\n• Objective:  To ensure a safe and healthy work environment, preventing \\nworkplace injuries and illnesses.  \\n• Regulations  and Compliance:  Alignment with national safety regulations and \\ncontinuous monitoring of workplace conditions.  \\n• Training  and Emergency  Procedures:  Regular health and safety training, \\nincluding emergency response drills and first aid.  \\n4. Change  Management  Policy  \\n• Objective:  To manage organizational changes effectively, minimizing \\ndisruptions while maximizing the adaptation capabilities of employees.  \\n• Communication  Strategies:  Methods for effectively communicating changes \\nwithin the organization.  \\n• Support  Systems:  Providing support and resources to employees to help \\nthem adjust to changes.  \\n5. Conflict  Resolution  Policy  \\n• Objective:  To provide a clear process for resolving interpersonal or \\ndepartmental conflicts that affect workplace harmony.  \\n• Procedures:  Steps for confidential conflict reporting, mediation processes, \\nand resolution strategies.  \\n6. Data  Protection  Policy  ', metadata={'source': 'E:\\\\Habibi\\\\DB Chatbot\\\\policies\\\\MZbankpolicies.pdf', 'page': 22}), Document(page_content='• Objective:  To safeguard personal and professional data of employees and \\nclients, complying with legal standards.  \\n• Employee  Responsibilities:  Guidelines on data handling, information sharing, \\nand penalties for breach of protocol.  \\n7. Sustainability  Policy  \\n• Objective:  To commit to sustainable practices within the workplace and \\nreduce the environmental impact.  \\n• Initiatives:  Recycling programs, energy -saving practices, and corporate social \\nresponsibility projects.  \\n8. Volunteerism  and Community  Engagement  Policy  \\n• Objective:  To encourage and support employee involvement in community \\nservice and volunteer activities.  \\n• Benefits:  Providing paid time off for volunteer work and organizing bank -\\nsponsored community service events.  \\n ', metadata={'source': 'E:\\\\Habibi\\\\DB Chatbot\\\\policies\\\\MZbankpolicies.pdf', 'page': 23})]\n"
     ]
    }
   ],
   "source": [
    "from langchain_community.vectorstores import Chroma\n",
    "from langchain_core.output_parsers import StrOutputParser\n",
    "from langchain_core.prompts import ChatPromptTemplate\n",
    "from langchain_core.runnables import RunnableParallel, RunnablePassthrough\n",
    "from langchain_openai import OpenAIEmbeddings\n",
    "from langchain_text_splitters import CharacterTextSplitter\n",
    "\n",
    "from langchain_community.document_loaders import PyPDFLoader\n",
    "loader= PyPDFLoader(\"E:\\Habibi\\DB Chatbot\\policies\\MZbankpolicies.pdf\")\n",
    "document=loader.load()\n",
    "print(document)\n"
   ]
  },
  {
   "cell_type": "code",
   "execution_count": 3,
   "metadata": {},
   "outputs": [],
   "source": [
    "text_splitter = CharacterTextSplitter(chunk_size=500, chunk_overlap=100)\n",
    "texts = text_splitter.split_documents(document)\n",
    "embeddings = OpenAIEmbeddings()"
   ]
  },
  {
   "cell_type": "code",
   "execution_count": 4,
   "metadata": {},
   "outputs": [],
   "source": [
    "# pip install chromadb==0.4.24\n",
    "\n",
    "vectorstore = Chroma.from_documents(documents=texts,embedding=embeddings)"
   ]
  },
  {
   "cell_type": "code",
   "execution_count": 8,
   "metadata": {},
   "outputs": [
    {
     "data": {
      "text/plain": [
       "VectorStoreRetriever(tags=['Chroma', 'OpenAIEmbeddings'], vectorstore=<langchain_community.vectorstores.chroma.Chroma object at 0x000001B76E00C970>)"
      ]
     },
     "execution_count": 8,
     "metadata": {},
     "output_type": "execute_result"
    }
   ],
   "source": [
    "retriever = vectorstore.as_retriever()\n",
    "retriever"
   ]
  },
  {
   "cell_type": "code",
   "execution_count": 10,
   "metadata": {},
   "outputs": [
    {
     "data": {
      "text/plain": [
       "'Based on the context provided, the document appears to be a collection of various policies implemented by a company, specifically MZbank. These policies cover a range of topics such as remote work, anti-discrimination and harassment, health and safety, change management, conflict resolution, data protection, sustainability, volunteerism and community engagement, setting goals, conducting performance reviews, and parental leave benefits. Each policy outlines the objectives, procedures, guidelines, and initiatives related to the specific topic it addresses.'"
      ]
     },
     "execution_count": 10,
     "metadata": {},
     "output_type": "execute_result"
    }
   ],
   "source": [
    "prompt = ChatPromptTemplate.from_template(\n",
    "\"\"\"Answer the question based only on the following context:\n",
    "{context}\n",
    "\n",
    "Question: {question}\n",
    "\"\"\"    \n",
    ")\n",
    "\n",
    "setup_and_retrieval = RunnableParallel(\n",
    "    {\"context\": retriever, \"question\": RunnablePassthrough()}\n",
    ")\n",
    "chain = setup_and_retrieval | prompt | model | StrOutputParser()\n",
    "\n",
    "chain.invoke(\"Tell me about this document?\")"
   ]
  },
  {
   "cell_type": "code",
   "execution_count": null,
   "metadata": {},
   "outputs": [],
   "source": []
  },
  {
   "cell_type": "code",
   "execution_count": 11,
   "metadata": {},
   "outputs": [
    {
     "data": {
      "text/plain": [
       "[{'mul_two': 4, 'mul_three': 6},\n",
       " {'mul_two': 6, 'mul_three': 9},\n",
       " {'mul_two': 8, 'mul_three': 12}]"
      ]
     },
     "execution_count": 11,
     "metadata": {},
     "output_type": "execute_result"
    }
   ],
   "source": [
    "from langchain_core.runnables import RunnableLambda\n",
    "\n",
    "def add_one(x: int) -> int:\n",
    "    return x + 1\n",
    "\n",
    "def mul_two(x: int) -> int:\n",
    "    return x * 2\n",
    "\n",
    "def mul_three(x: int) -> int:\n",
    "    return x * 3\n",
    "\n",
    "runnable_1 = RunnableLambda(add_one)\n",
    "runnable_2 = RunnableLambda(mul_two)\n",
    "runnable_3 = RunnableLambda(mul_three)\n",
    "\n",
    "sequence = runnable_1 | {  # this dict is coerced to a RunnableParallel\n",
    "    \"mul_two\": runnable_2,\n",
    "    \"mul_three\": runnable_3,\n",
    "}\n",
    "# Or equivalently:\n",
    "# sequence = runnable_1 | RunnableParallel(\n",
    "#     {\"mul_two\": runnable_2, \"mul_three\": runnable_3}\n",
    "# )\n",
    "# Also equivalently:\n",
    "# sequence = runnable_1 | RunnableParallel(\n",
    "#     mul_two=runnable_2,\n",
    "#     mul_three=runnable_3,\n",
    "# )\n",
    "\n",
    "sequence.invoke(1)\n",
    "await sequence.ainvoke(1)\n",
    "\n",
    "sequence.batch([1, 2, 3])\n",
    "await sequence.abatch([1, 2, 3])"
   ]
  },
  {
   "cell_type": "code",
   "execution_count": 12,
   "metadata": {},
   "outputs": [
    {
     "name": "stdout",
     "output_type": "stream",
     "text": [
      "{'joke': '', 'poem': ''}\n",
      "{'joke': 'Why', 'poem': ''}\n",
      "{'joke': 'Why did', 'poem': ''}\n",
      "{'joke': 'Why did', 'poem': ''}\n",
      "{'joke': 'Why did the', 'poem': ''}\n",
      "{'joke': 'Why did the bear', 'poem': ''}\n",
      "{'joke': 'Why did the bear', 'poem': 'In'}\n",
      "{'joke': 'Why did the bear break', 'poem': 'In'}\n",
      "{'joke': 'Why did the bear break up', 'poem': 'In'}\n",
      "{'joke': 'Why did the bear break up with', 'poem': 'In'}\n",
      "{'joke': 'Why did the bear break up with his', 'poem': 'In'}\n",
      "{'joke': 'Why did the bear break up with his', 'poem': 'In the'}\n",
      "{'joke': 'Why did the bear break up with his', 'poem': 'In the forest'}\n",
      "{'joke': 'Why did the bear break up with his girlfriend', 'poem': 'In the forest'}\n",
      "{'joke': 'Why did the bear break up with his girlfriend?', 'poem': 'In the forest'}\n",
      "{'joke': 'Why did the bear break up with his girlfriend?', 'poem': 'In the forest deep'}\n",
      "{'joke': 'Why did the bear break up with his girlfriend?', 'poem': 'In the forest deep and'}\n",
      "{'joke': 'Why did the bear break up with his girlfriend?', 'poem': 'In the forest deep and dark'}\n",
      "{'joke': 'Why did the bear break up with his girlfriend?', 'poem': 'In the forest deep and dark,'}\n",
      "{'joke': 'Why did the bear break up with his girlfriend? \\n\\n', 'poem': 'In the forest deep and dark,'}\n",
      "{'joke': 'Why did the bear break up with his girlfriend? \\n\\nBecause', 'poem': 'In the forest deep and dark,'}\n",
      "{'joke': 'Why did the bear break up with his girlfriend? \\n\\nBecause she', 'poem': 'In the forest deep and dark,'}\n",
      "{'joke': 'Why did the bear break up with his girlfriend? \\n\\nBecause she was', 'poem': 'In the forest deep and dark,'}\n",
      "{'joke': 'Why did the bear break up with his girlfriend? \\n\\nBecause she was', 'poem': 'In the forest deep and dark, a'}\n",
      "{'joke': 'Why did the bear break up with his girlfriend? \\n\\nBecause she was', 'poem': 'In the forest deep and dark, a bear'}\n",
      "{'joke': 'Why did the bear break up with his girlfriend? \\n\\nBecause she was always', 'poem': 'In the forest deep and dark, a bear'}\n",
      "{'joke': 'Why did the bear break up with his girlfriend? \\n\\nBecause she was always trying', 'poem': 'In the forest deep and dark, a bear'}\n",
      "{'joke': 'Why did the bear break up with his girlfriend? \\n\\nBecause she was always trying', 'poem': 'In the forest deep and dark, a bear ro'}\n",
      "{'joke': 'Why did the bear break up with his girlfriend? \\n\\nBecause she was always trying', 'poem': 'In the forest deep and dark, a bear roams'}\n",
      "{'joke': 'Why did the bear break up with his girlfriend? \\n\\nBecause she was always trying to', 'poem': 'In the forest deep and dark, a bear roams'}\n",
      "{'joke': 'Why did the bear break up with his girlfriend? \\n\\nBecause she was always trying to', 'poem': 'In the forest deep and dark, a bear roams free'}\n",
      "{'joke': 'Why did the bear break up with his girlfriend? \\n\\nBecause she was always trying to \"', 'poem': 'In the forest deep and dark, a bear roams free'}\n",
      "{'joke': 'Why did the bear break up with his girlfriend? \\n\\nBecause she was always trying to \"', 'poem': 'In the forest deep and dark, a bear roams free\\n'}\n",
      "{'joke': 'Why did the bear break up with his girlfriend? \\n\\nBecause she was always trying to \"p', 'poem': 'In the forest deep and dark, a bear roams free\\n'}\n",
      "{'joke': 'Why did the bear break up with his girlfriend? \\n\\nBecause she was always trying to \"paws', 'poem': 'In the forest deep and dark, a bear roams free\\n'}\n",
      "{'joke': 'Why did the bear break up with his girlfriend? \\n\\nBecause she was always trying to \"paws\"', 'poem': 'In the forest deep and dark, a bear roams free\\n'}\n",
      "{'joke': 'Why did the bear break up with his girlfriend? \\n\\nBecause she was always trying to \"paws\" for', 'poem': 'In the forest deep and dark, a bear roams free\\n'}\n",
      "{'joke': 'Why did the bear break up with his girlfriend? \\n\\nBecause she was always trying to \"paws\" for attention', 'poem': 'In the forest deep and dark, a bear roams free\\n'}\n",
      "{'joke': 'Why did the bear break up with his girlfriend? \\n\\nBecause she was always trying to \"paws\" for attention!', 'poem': 'In the forest deep and dark, a bear roams free\\n'}\n",
      "{'joke': 'Why did the bear break up with his girlfriend? \\n\\nBecause she was always trying to \"paws\" for attention!', 'poem': 'In the forest deep and dark, a bear roams free\\n'}\n",
      "{'joke': 'Why did the bear break up with his girlfriend? \\n\\nBecause she was always trying to \"paws\" for attention!', 'poem': 'In the forest deep and dark, a bear roams free\\nM'}\n",
      "{'joke': 'Why did the bear break up with his girlfriend? \\n\\nBecause she was always trying to \"paws\" for attention!', 'poem': 'In the forest deep and dark, a bear roams free\\nMaj'}\n",
      "{'joke': 'Why did the bear break up with his girlfriend? \\n\\nBecause she was always trying to \"paws\" for attention!', 'poem': 'In the forest deep and dark, a bear roams free\\nMajestic'}\n",
      "{'joke': 'Why did the bear break up with his girlfriend? \\n\\nBecause she was always trying to \"paws\" for attention!', 'poem': 'In the forest deep and dark, a bear roams free\\nMajestic and'}\n",
      "{'joke': 'Why did the bear break up with his girlfriend? \\n\\nBecause she was always trying to \"paws\" for attention!', 'poem': 'In the forest deep and dark, a bear roams free\\nMajestic and fierce'}\n",
      "{'joke': 'Why did the bear break up with his girlfriend? \\n\\nBecause she was always trying to \"paws\" for attention!', 'poem': 'In the forest deep and dark, a bear roams free\\nMajestic and fierce,'}\n",
      "{'joke': 'Why did the bear break up with his girlfriend? \\n\\nBecause she was always trying to \"paws\" for attention!', 'poem': 'In the forest deep and dark, a bear roams free\\nMajestic and fierce, a'}\n",
      "{'joke': 'Why did the bear break up with his girlfriend? \\n\\nBecause she was always trying to \"paws\" for attention!', 'poem': 'In the forest deep and dark, a bear roams free\\nMajestic and fierce, a sight'}\n",
      "{'joke': 'Why did the bear break up with his girlfriend? \\n\\nBecause she was always trying to \"paws\" for attention!', 'poem': 'In the forest deep and dark, a bear roams free\\nMajestic and fierce, a sight to'}\n",
      "{'joke': 'Why did the bear break up with his girlfriend? \\n\\nBecause she was always trying to \"paws\" for attention!', 'poem': 'In the forest deep and dark, a bear roams free\\nMajestic and fierce, a sight to see'}\n",
      "{'joke': 'Why did the bear break up with his girlfriend? \\n\\nBecause she was always trying to \"paws\" for attention!', 'poem': 'In the forest deep and dark, a bear roams free\\nMajestic and fierce, a sight to see'}\n"
     ]
    }
   ],
   "source": [
    "from langchain_core.prompts import ChatPromptTemplate\n",
    "from langchain_core.runnables import RunnableParallel\n",
    "from langchain_openai import ChatOpenAI\n",
    "\n",
    "model = ChatOpenAI()\n",
    "joke_chain = (\n",
    "    ChatPromptTemplate.from_template(\"tell me a joke about {topic}\")\n",
    "    | model\n",
    ")\n",
    "poem_chain = (\n",
    "    ChatPromptTemplate.from_template(\"write a 2-line poem about {topic}\")\n",
    "    | model\n",
    ")\n",
    "\n",
    "runnable = RunnableParallel(joke=joke_chain, poem=poem_chain)\n",
    "\n",
    "# Display stream\n",
    "output = {key: \"\" for key, _ in runnable.output_schema()}\n",
    "for chunk in runnable.stream({\"topic\": \"bear\"}):\n",
    "    for key in chunk:\n",
    "        output[key] = output[key] + chunk[key].content\n",
    "    print(output)  # noqa: T201"
   ]
  },
  {
   "cell_type": "code",
   "execution_count": 14,
   "metadata": {},
   "outputs": [
    {
     "name": "stdout",
     "output_type": "stream",
     "text": [
      "{'title': 'PromptInput', 'type': 'object', 'properties': {'question': {'title': 'Question', 'type': 'string'}}}\n",
      "{'title': 'RunnableSequenceOutput', 'type': 'object', 'properties': {'str': {'title': 'Str', 'type': 'string'}, 'hello': {'title': 'Hello', 'type': 'string'}}}\n"
     ]
    },
    {
     "data": {
      "text/plain": [
       "{'title': 'RunnableSequenceOutput',\n",
       " 'type': 'object',\n",
       " 'properties': {'str': {'title': 'Str', 'type': 'string'},\n",
       "  'hello': {'title': 'Hello', 'type': 'string'}}}"
      ]
     },
     "execution_count": 14,
     "metadata": {},
     "output_type": "execute_result"
    }
   ],
   "source": [
    "from langchain_community.llms.fake import FakeStreamingListLLM\n",
    "from langchain_core.output_parsers import StrOutputParser\n",
    "from langchain_core.prompts import SystemMessagePromptTemplate\n",
    "from langchain_core.runnables import Runnable\n",
    "from operator import itemgetter\n",
    "\n",
    "prompt = (\n",
    "    SystemMessagePromptTemplate.from_template(\"You are a nice assistant.\")\n",
    "    + \"{question}\"\n",
    ")\n",
    "llm = FakeStreamingListLLM(responses=[\"foo-lish\"])\n",
    "\n",
    "chain: Runnable = prompt | llm | {\"str\": StrOutputParser()}\n",
    "\n",
    "chain_with_assign = chain.assign(hello=itemgetter(\"str\") | llm)\n",
    "\n",
    "print(chain_with_assign.input_schema.schema())\n",
    "# {'title': 'PromptInput', 'type': 'object', 'properties':\n",
    "{'question': {'title': 'Question', 'type': 'string'}}\n",
    "print(chain_with_assign.output_schema.schema()) #\n",
    "{'title': 'RunnableSequenceOutput', 'type': 'object', 'properties':\n",
    "{'str': {'title': 'Str',\n",
    "'type': 'string'}, 'hello': {'title': 'Hello', 'type': 'string'}}}"
   ]
  },
  {
   "cell_type": "code",
   "execution_count": 16,
   "metadata": {},
   "outputs": [
    {
     "data": {
      "text/plain": [
       "[4, 6, 8]"
      ]
     },
     "execution_count": 16,
     "metadata": {},
     "output_type": "execute_result"
    }
   ],
   "source": [
    "from langchain_core.runnables import RunnableLambda\n",
    "\n",
    "def add_one(x: int) -> int:\n",
    "    return x + 1\n",
    "\n",
    "def mul_two(x: int) -> int:\n",
    "    return x * 2\n",
    "\n",
    "runnable_1 = RunnableLambda(add_one)\n",
    "runnable_2 = RunnableLambda(mul_two)\n",
    "sequence = runnable_1.pipe(runnable_2)\n",
    "# Or equivalently:\n",
    "# sequence = runnable_1 | runnable_2\n",
    "# sequence = RunnableSequence(first=runnable_1, last=runnable_2)\n",
    "sequence.invoke(1)\n",
    "await sequence.ainvoke(1)\n",
    "# -> 4\n",
    "\n",
    "sequence.batch([1, 2, 3])\n",
    "await sequence.abatch([1, 2, 3])"
   ]
  },
  {
   "cell_type": "code",
   "execution_count": null,
   "metadata": {},
   "outputs": [],
   "source": [
    "# (1+1)*2 = 4\n",
    "# (2+1)*2 = 6\n",
    "# (3+1)*2 = 8"
   ]
  },
  {
   "cell_type": "code",
   "execution_count": 21,
   "metadata": {},
   "outputs": [
    {
     "name": "stdout",
     "output_type": "stream",
     "text": [
      "foo bar\n"
     ]
    }
   ],
   "source": [
    "from typing import Iterator\n",
    "\n",
    "from langchain_core.runnables import RunnableGenerator\n",
    "\n",
    "\n",
    "def _generate_immediate_error(input: Iterator) -> Iterator[str]:\n",
    "    raise ValueError()\n",
    "    yield \"\"\n",
    "\n",
    "\n",
    "def _generate(input: Iterator) -> Iterator[str]:\n",
    "    yield from \"foo bar\"\n",
    "\n",
    "runnable = RunnableGenerator(_generate_immediate_error)\n",
    "\n",
    "runnable = RunnableGenerator(_generate_immediate_error).with_fallbacks(\n",
    "    [RunnableGenerator(_generate)]\n",
    "    )\n",
    "print(''.join(runnable.stream({}))) #foo bar"
   ]
  },
  {
   "cell_type": "code",
   "execution_count": null,
   "metadata": {},
   "outputs": [],
   "source": []
  }
 ],
 "metadata": {
  "kernelspec": {
   "display_name": "env",
   "language": "python",
   "name": "python3"
  },
  "language_info": {
   "codemirror_mode": {
    "name": "ipython",
    "version": 3
   },
   "file_extension": ".py",
   "mimetype": "text/x-python",
   "name": "python",
   "nbconvert_exporter": "python",
   "pygments_lexer": "ipython3",
   "version": "3.10.0"
  }
 },
 "nbformat": 4,
 "nbformat_minor": 2
}
