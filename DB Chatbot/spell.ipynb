{
 "cells": [
  {
   "cell_type": "code",
   "execution_count": 2,
   "metadata": {},
   "outputs": [
    {
     "ename": "ModuleNotFoundError",
     "evalue": "No module named 'autocorrect'",
     "output_type": "error",
     "traceback": [
      "\u001b[1;31m---------------------------------------------------------------------------\u001b[0m",
      "\u001b[1;31mModuleNotFoundError\u001b[0m                       Traceback (most recent call last)",
      "Cell \u001b[1;32mIn[2], line 1\u001b[0m\n\u001b[1;32m----> 1\u001b[0m \u001b[38;5;28;01mfrom\u001b[39;00m \u001b[38;5;21;01mautocorrect\u001b[39;00m \u001b[38;5;28;01mimport\u001b[39;00m Speller\n\u001b[0;32m      3\u001b[0m spell \u001b[38;5;241m=\u001b[39m Speller(fast\u001b[38;5;241m=\u001b[39m\u001b[38;5;28;01mTrue\u001b[39;00m)\n\u001b[0;32m      4\u001b[0m spell(\u001b[38;5;124m\"\u001b[39m\u001b[38;5;124mI\u001b[39m\u001b[38;5;124m'\u001b[39m\u001b[38;5;124mm not sleapy and tehre is no place I\u001b[39m\u001b[38;5;124m'\u001b[39m\u001b[38;5;124mm giong to.\u001b[39m\u001b[38;5;124m\"\u001b[39m)\n",
      "\u001b[1;31mModuleNotFoundError\u001b[0m: No module named 'autocorrect'"
     ]
    }
   ],
   "source": [
    "from autocorrect import Speller\n",
    "\n",
    "spell = Speller(fast=True)\n",
    "spell(\"I'm not sleapy and tehre is no place I'm giong to.\")"
   ]
  },
  {
   "cell_type": "code",
   "execution_count": 7,
   "metadata": {},
   "outputs": [
    {
     "ename": "ModuleNotFoundError",
     "evalue": "No module named 'textblob'",
     "output_type": "error",
     "traceback": [
      "\u001b[1;31m---------------------------------------------------------------------------\u001b[0m",
      "\u001b[1;31mModuleNotFoundError\u001b[0m                       Traceback (most recent call last)",
      "Cell \u001b[1;32mIn[7], line 1\u001b[0m\n\u001b[1;32m----> 1\u001b[0m \u001b[38;5;28;01mfrom\u001b[39;00m \u001b[38;5;21;01mtextblob\u001b[39;00m \u001b[38;5;28;01mimport\u001b[39;00m TextBlob\n\u001b[0;32m      3\u001b[0m \u001b[38;5;66;03m# Sample text with a spelling mistake\u001b[39;00m\n\u001b[0;32m      4\u001b[0m text \u001b[38;5;241m=\u001b[39m TextBlob(\u001b[38;5;124m\"\u001b[39m\u001b[38;5;124mI loev Python programming.\u001b[39m\u001b[38;5;124m\"\u001b[39m)\n",
      "\u001b[1;31mModuleNotFoundError\u001b[0m: No module named 'textblob'"
     ]
    }
   ],
   "source": [
    "from textblob import TextBlob\n",
    "\n",
    "# Sample text with a spelling mistake\n",
    "text = TextBlob(\"I loev Python programming.\")\n",
    "\n",
    "# Correct the spelling\n",
    "corrected_text = text.correct()\n",
    "\n",
    "# Print the corrected text\n",
    "print(corrected_text)"
   ]
  },
  {
   "cell_type": "code",
   "execution_count": 14,
   "metadata": {},
   "outputs": [
    {
     "name": "stderr",
     "output_type": "stream",
     "text": [
      "[nltk_data] Downloading package words to\n",
      "[nltk_data]     C:\\Users\\User\\AppData\\Roaming\\nltk_data...\n",
      "[nltk_data]   Package words is already up-to-date!\n"
     ]
    },
    {
     "name": "stdout",
     "output_type": "stream",
     "text": [
      "Incorrect: self, Corrected: self\n",
      "Incorrect: assesment, Corrected: assessment\n",
      "Incorrect: time, Corrected: time\n",
      "Incorrect: off, Corrected: off\n",
      "Incorrect: anual, Corrected: annual\n",
      "Incorrect: cassual, Corrected: casual\n",
      "Incorrect: sick, Corrected: sick\n",
      "Incorrect: leave, Corrected: leave\n"
     ]
    }
   ],
   "source": [
    "import nltk\n",
    "from nltk.metrics.distance import jaccard_distance\n",
    "from nltk.util import ngrams\n",
    "\n",
    "# Download the 'words' resource (contains correct spellings)\n",
    "nltk.download('words')\n",
    "correct_words = nltk.corpus.words.words()\n",
    "\n",
    "# List of incorrect words\n",
    "incorrect_words = ['self', 'assesment', 'time', 'off', 'anual', 'cassual', 'sick', 'leave']\n",
    "\n",
    "# Correct the spelling for each word\n",
    "for word in incorrect_words:\n",
    "    temp = [(jaccard_distance(set(ngrams(word, 2)), set(ngrams(w, 2))), w)\n",
    "            for w in correct_words if w[0] == word[0]]\n",
    "    corrected_word = sorted(temp, key=lambda val: val[0])[0][1]\n",
    "    print(f\"Incorrect: {word}, Corrected: {corrected_word}\")\n"
   ]
  },
  {
   "cell_type": "code",
   "execution_count": 1,
   "metadata": {},
   "outputs": [
    {
     "ename": "ModuleNotFoundError",
     "evalue": "No module named 'spellchecker'",
     "output_type": "error",
     "traceback": [
      "\u001b[1;31m---------------------------------------------------------------------------\u001b[0m",
      "\u001b[1;31mModuleNotFoundError\u001b[0m                       Traceback (most recent call last)",
      "Cell \u001b[1;32mIn[1], line 1\u001b[0m\n\u001b[1;32m----> 1\u001b[0m \u001b[38;5;28;01mfrom\u001b[39;00m \u001b[38;5;21;01mspellchecker\u001b[39;00m \u001b[38;5;28;01mimport\u001b[39;00m SpellChecker\n\u001b[0;32m      3\u001b[0m \u001b[38;5;28;01mdef\u001b[39;00m \u001b[38;5;21mcorrect_spelling\u001b[39m(text):\n\u001b[0;32m      4\u001b[0m     spell \u001b[38;5;241m=\u001b[39m SpellChecker()\n",
      "\u001b[1;31mModuleNotFoundError\u001b[0m: No module named 'spellchecker'"
     ]
    }
   ],
   "source": [
    "from spellchecker import SpellChecker\n",
    "\n",
    "def correct_spelling(text):\n",
    "    spell = SpellChecker()\n",
    "    # Find misspelled words\n",
    "    misspelled = spell.unknown(text.split())\n",
    "    corrected_text = []\n",
    "    for word in text.split():\n",
    "        if word in misspelled:\n",
    "            # Get the corrected version of the word\n",
    "            corrected_text.append(spell.correction(word))\n",
    "        else:\n",
    "            corrected_text.append(word)\n",
    "    return ' '.join(corrected_text)\n",
    "\n",
    "text = \"Ths is a smple text wth sme speling mistakes.\"\n",
    "corrected_text = correct_spelling(text)\n",
    "print(\"Original text:\", text)\n",
    "print(\"Corrected text:\", corrected_text)"
   ]
  },
  {
   "cell_type": "code",
   "execution_count": null,
   "metadata": {},
   "outputs": [],
   "source": []
  },
  {
   "cell_type": "code",
   "execution_count": null,
   "metadata": {},
   "outputs": [],
   "source": []
  }
 ],
 "metadata": {
  "kernelspec": {
   "display_name": ".venv",
   "language": "python",
   "name": "python3"
  },
  "language_info": {
   "codemirror_mode": {
    "name": "ipython",
    "version": 3
   },
   "file_extension": ".py",
   "mimetype": "text/x-python",
   "name": "python",
   "nbconvert_exporter": "python",
   "pygments_lexer": "ipython3",
   "version": "3.10.0"
  }
 },
 "nbformat": 4,
 "nbformat_minor": 2
}
