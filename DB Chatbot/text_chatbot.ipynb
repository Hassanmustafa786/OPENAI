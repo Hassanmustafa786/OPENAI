{
 "cells": [
  {
   "cell_type": "code",
   "execution_count": 1,
   "metadata": {},
   "outputs": [
    {
     "data": {
      "image/png": "[encoded data removed]",
      "text/plain": [
       "<Figure size 640x480 with 1 Axes>"
      ]
     },
     "metadata": {},
     "output_type": "display_data"
    }
   ],
   "source": [
    "import matplotlib.pyplot as plt\n",
    "import networkx as nx\n",
    "\n",
    "# Create a directed graph\n",
    "G = nx.DiGraph()\n",
    "\n",
    "# Add nodes and edges to the graph\n",
    "G.add_node(\"Total Annual Leave: 14\")\n",
    "G.add_node(\"Utilized: 5\")\n",
    "G.add_node(\"Remaining: 9\")\n",
    "\n",
    "G.add_edge(\"Total Annual Leave: 14\", \"Utilized: 5\")\n",
    "G.add_edge(\"Total Annual Leave: 14\", \"Remaining: 9\")\n",
    "\n",
    "# Draw the graph\n",
    "pos = nx.spring_layout(G)\n",
    "nx.draw(G, pos, with_labels=True, node_size=2000, node_color=\"lightblue\", font_size=10, font_weight=\"bold\", arrows=True)\n",
    "\n",
    "# Show the plot\n",
    "plt.title(\"Annual Leave Flowchart\")\n",
    "plt.show()"
   ]
  },
  {
   "cell_type": "code",
   "execution_count": 8,
   "metadata": {},
   "outputs": [],
   "source": [
    "import os\n",
    "from dotenv import load_dotenv\n",
    "from langchain_openai import ChatOpenAI\n",
    "from operator import itemgetter\n",
    "from langchain.memory import ConversationBufferMemory\n",
    "from langchain.prompts import ChatPromptTemplate, MessagesPlaceholder\n",
    "from langchain_core.runnables import RunnableLambda, RunnablePassthrough\n",
    "\n",
    "openai_api_key = os.getenv(\"OPENAI_API_KEY\")\n",
    "chat = ChatOpenAI(\n",
    "    temperature=0.5,\n",
    "    model_name=\"gpt-3.5-turbo\",\n",
    "    openai_api_key=openai_api_key,\n",
    "    max_tokens=100,\n",
    ")\n",
    "# Create a single memory instance for the entire conversation\n",
    "memory = ConversationBufferMemory(return_messages=True)\n",
    "\n",
    "def get_response(input_message, model, memory):\n",
    "    prompt = ChatPromptTemplate.from_messages([\n",
    "        (\"system\", \"\"\"  You are a data analyst and working only employees data\n",
    "                        Instructions:\n",
    "\n",
    "                        1. Analyze Input: Evaluate the provided data or employee input to understand its structure and key elements. \\n\n",
    "                            only extract the information from the input which are employee data not a hr data or other data that is not a employee data. \n",
    "                        2. Decide Chart Type: Determine whether a  bar chart, or pie chart is more suitable based on the data that employee provided to you. \\n\n",
    "                            if user want or tell the name of specific chart then make this type chart if possible. \n",
    "                        \n",
    "\n",
    "                        Example of Expected Output for a Bar Chart:\n",
    "\n",
    "                        {\n",
    "                            \"chart_type\": \"bar\",\n",
    "                            \"data_needed\": {\n",
    "                                \"x-axis\": {\"categories\": [\"casual leave\", \"annual leave\", \"sick leave\"], \"label\": \"employee leaves fields\"},\n",
    "                                \"y-axis\": {\"values\": [10, 20, 5], \"label\": \"employee leaves fields quantity\"}\n",
    "                            },\n",
    "                            \"chart_label\": \"Distribution of employee leaves information\",\n",
    "                            \"axis_labels\": {\"x\": \"employee leaves fields\", \"y\": \"employee leaves fields quantity\"}\n",
    "                        }\n",
    "\n",
    "                        Example of Expected Output for a Pie Chart:\n",
    "\n",
    "                        {\n",
    "                            \"chart_type\": \"pie\",\n",
    "                            \"data_needed\": {\n",
    "                                \"categories\": [\"casual leave\", \"annual leave\", \"sick leave\"],\n",
    "                                \"values\": [10, 20, 5]\n",
    "                            },\n",
    "                            \"chart_label\": \"Distribution of employee leaves information\"\n",
    "                        }\n",
    "         \n",
    "                        Example of Expected Output for a Network Chart Node:\n",
    "                        {\n",
    "                        \"chart_type\": \"network\",\n",
    "                        \"data_needed\": {\n",
    "                        \"x-axis\": {\"categories\": [\"Total Annual Leave\", \"Utilized\", \"Remaining\"], \"label\": \"Annual Leave Fields\"},\n",
    "                        \"y-axis\": {\"values\": [14, 5, 9], \"label\": \"Annual Leave Fields Quantity\"}\n",
    "                        },\n",
    "                        \"chart_label\": \"Distribution of employee leaves information\",\n",
    "                        \"axis_labels\": {\"x\": \"Annual Leave Fields\", \"y\": \"Annual Leave Fields Quantity\"}\n",
    "                        }\n",
    "\n",
    "                        Simply only give the required data.\n",
    "                        \"\"\"),\n",
    "        MessagesPlaceholder(variable_name=\"history\"),\n",
    "        (\"human\", f\"{input_message}\"),\n",
    "    ])\n",
    "\n",
    "    chain = (\n",
    "        RunnablePassthrough.assign(\n",
    "            history=RunnableLambda(memory.load_memory_variables) | itemgetter(\"history\")\n",
    "        )\n",
    "        | prompt\n",
    "        | model\n",
    "    )\n",
    "\n",
    "    inputs = {\"input\": input_message}\n",
    "    response = chain.invoke(inputs)\n",
    "\n",
    "    # Save the context for future interactions\n",
    "    memory.save_context(inputs, {\"output\": response.content})\n",
    "    memory.load_memory_variables({})\n",
    "\n",
    "    return response.content"
   ]
  },
  {
   "cell_type": "code",
   "execution_count": 9,
   "metadata": {},
   "outputs": [
    {
     "data": {
      "text/plain": [
       "\"I am an AI Assistant here to help you with any questions or information you may need. Feel free to ask me anything you'd like assistance with.\""
      ]
     },
     "execution_count": 9,
     "metadata": {},
     "output_type": "execute_result"
    }
   ],
   "source": [
    "input_message = \"Who are you?\"\n",
    "get_response(input_message, chat, memory)"
   ]
  },
  {
   "cell_type": "code",
   "execution_count": 14,
   "metadata": {},
   "outputs": [
    {
     "name": "stdout",
     "output_type": "stream",
     "text": [
      "Here is the leaves data for Lisa:\n",
      "\n",
      "- Annual Leave:\n",
      "  - Total: 14 days\n",
      "  - Utilized: 3 days\n",
      "  - Remaining: 11 days\n",
      "\n",
      "- Casual Leave:\n",
      "  - Total: 10 days\n",
      "  - Utilized: 9 days\n",
      "  - Remaining: 1 day\n",
      "\n",
      "- Sick Leave:\n",
      "  - Total: 10 days\n",
      "  - Utilized: 0 days\n",
      "  - Remaining: 10 days\n",
      "\n",
      "If you need any further\n"
     ]
    }
   ],
   "source": [
    "input_message = \"\"\"\n",
    "Here is your leaves data, Lisa: \n",
    "\n",
    "- Total Annual Leave: 14 days \n",
    "- Annual Leave Utilized: 3 days \n",
    "- Annual Leave Remaining: 11 days \n",
    "\n",
    "- Total Casual Leave: 10 days \n",
    "- Casual Leave Utilized: 9 days \n",
    "- Casual Leave Remaining: 1 day \n",
    "\n",
    "- Total Sick Leave: 10 days \n",
    "- Sick Leave Utilized: 0 days \n",
    "- Sick Leave Remaining: 10 days \n",
    "\n",
    "I want to see the leaves data.\n",
    "\n",
    "\"\"\"\n",
    "output = get_response(input_message, chat, memory)\n",
    "print(output)"
   ]
  },
  {
   "cell_type": "code",
   "execution_count": null,
   "metadata": {},
   "outputs": [],
   "source": []
  }
 ],
 "metadata": {
  "kernelspec": {
   "display_name": "env",
   "language": "python",
   "name": "python3"
  },
  "language_info": {
   "codemirror_mode": {
    "name": "ipython",
    "version": 3
   },
   "file_extension": ".py",
   "mimetype": "text/x-python",
   "name": "python",
   "nbconvert_exporter": "python",
   "pygments_lexer": "ipython3",
   "version": "3.12.2"
  }
 },
 "nbformat": 4,
 "nbformat_minor": 2
}
