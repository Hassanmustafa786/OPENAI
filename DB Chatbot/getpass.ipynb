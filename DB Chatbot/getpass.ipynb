{
 "cells": [
  {
   "cell_type": "code",
   "execution_count": 1,
   "metadata": {},
   "outputs": [
    {
     "name": "stdout",
     "output_type": "stream",
     "text": [
      "Passkeys entered:\n",
      "1. Hassan\n",
      "2. Farhan\n",
      "3. Sameer\n",
      "4. Hammad\n"
     ]
    }
   ],
   "source": [
    "from getpass import getpass\n",
    "\n",
    "passkeys = []\n",
    "\n",
    "while True:\n",
    "    passkey = getpass(\"Enter a passkey (press Enter to stop): \")\n",
    "    if not passkey:\n",
    "        break  # Stop if Enter key is pressed without entering a passkey\n",
    "    passkeys.append(passkey)\n",
    "\n",
    "print(\"Passkeys entered:\")\n",
    "for index, passkey in enumerate(passkeys, start=1):\n",
    "    print(f\"{index}. {passkey}\")\n"
   ]
  },
  {
   "cell_type": "code",
   "execution_count": 11,
   "metadata": {},
   "outputs": [],
   "source": [
    "fake_api_key = \"sk-JDAISM57392NKLCAIS79832NCNAKSL9230CSDL\""
   ]
  },
  {
   "cell_type": "code",
   "execution_count": 14,
   "metadata": {},
   "outputs": [
    {
     "data": {
      "text/plain": [
       "'sk-JDAISM57392NKLCAIS79832NCNAKSL9230CSDL'"
      ]
     },
     "execution_count": 14,
     "metadata": {},
     "output_type": "execute_result"
    }
   ],
   "source": [
    "from getpass import getpass\n",
    "\n",
    "passwords = []\n",
    "\n",
    "def get_password(prompt):\n",
    "    passkey = getpass(prompt)\n",
    "    passwords.append(passkey)\n",
    "    return passkey\n",
    "\n",
    "user_input = \"Enter your password: \"\n",
    "get_password(user_input)\n"
   ]
  },
  {
   "cell_type": "code",
   "execution_count": 13,
   "metadata": {},
   "outputs": [
    {
     "data": {
      "text/plain": [
       "['sk-JDAISM57392NKLCAIS79832NCNAKSL9230CSDL']"
      ]
     },
     "execution_count": 13,
     "metadata": {},
     "output_type": "execute_result"
    }
   ],
   "source": [
    "passwords"
   ]
  },
  {
   "cell_type": "code",
   "execution_count": null,
   "metadata": {},
   "outputs": [],
   "source": []
  }
 ],
 "metadata": {
  "kernelspec": {
   "display_name": ".venv",
   "language": "python",
   "name": "python3"
  },
  "language_info": {
   "codemirror_mode": {
    "name": "ipython",
    "version": 3
   },
   "file_extension": ".py",
   "mimetype": "text/x-python",
   "name": "python",
   "nbconvert_exporter": "python",
   "pygments_lexer": "ipython3",
   "version": "3.10.0"
  }
 },
 "nbformat": 4,
 "nbformat_minor": 2
}
